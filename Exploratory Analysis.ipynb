{
  "nbformat": 4,
  "nbformat_minor": 0,
  "metadata": {
    "colab": {
      "name": "kaggle GA EDA.ipynb",
      "provenance": [],
      "collapsed_sections": [],
      "authorship_tag": "ABX9TyPjdulrxyRJeC1uI6lIOugx",
      "include_colab_link": true
    },
    "kernelspec": {
      "name": "python3",
      "display_name": "Python 3"
    }
  },
  "cells": [
    {
      "cell_type": "markdown",
      "metadata": {
        "id": "view-in-github",
        "colab_type": "text"
      },
      "source": [
        "<a href=\"https://colab.research.google.com/github/llfthu/kaggle-Google-Analytics-prediction/blob/master/Exploratory%20Analysis.ipynb\" target=\"_parent\"><img src=\"https://colab.research.google.com/assets/colab-badge.svg\" alt=\"Open In Colab\"/></a>"
      ]
    },
    {
      "cell_type": "markdown",
      "metadata": {
        "id": "BR_W0pC7lKEJ"
      },
      "source": [
        "In this notebook I'll use the two small datasets (train.csv and test.csv) to do some exploratory data analysis.\n",
        "\n",
        "(Note: some plots may not be available in github; please open in Google colab to view them.)"
      ]
    },
    {
      "cell_type": "markdown",
      "metadata": {
        "id": "EmKxPqkzOlni"
      },
      "source": [
        "## 1. Extract, transform and load dataframe\n",
        "\n"
      ]
    },
    {
      "cell_type": "code",
      "metadata": {
        "id": "0fiCPIC7rd0X"
      },
      "source": [
        "!apt-get install -y -qq software-properties-common python-software-properties module-init-tools\n",
        "!add-apt-repository -y ppa:alessandro-strada/ppa 2>&1 > /dev/null\n",
        "!apt-get update -qq 2>&1 > /dev/null\n",
        "!apt-get -y install -qq google-drive-ocamlfuse fuse\n",
        "from google.colab import auth\n",
        "auth.authenticate_user()\n",
        "from oauth2client.client import GoogleCredentials\n",
        "creds = GoogleCredentials.get_application_default()\n",
        "import getpass\n",
        "!google-drive-ocamlfuse -headless -id={creds.client_id} -secret={creds.client_secret} < /dev/null 2>&1 | grep URL\n",
        "vcode = getpass.getpass()\n",
        "!echo {vcode} | google-drive-ocamlfuse -headless -id={creds.client_id} -secret={creds.client_secret}"
      ],
      "execution_count": null,
      "outputs": []
    },
    {
      "cell_type": "code",
      "metadata": {
        "id": "MoGwUrmlrmNa"
      },
      "source": [
        "!mkdir -p drive\n",
        "!google-drive-ocamlfuse drive\n",
        "!ls"
      ],
      "execution_count": null,
      "outputs": []
    },
    {
      "cell_type": "code",
      "metadata": {
        "id": "2hnv0K9xr0Vl"
      },
      "source": [
        "import os\n",
        "os.chdir(\"drive/\") \n",
        "!ls "
      ],
      "execution_count": null,
      "outputs": []
    },
    {
      "cell_type": "code",
      "metadata": {
        "id": "uKoqDi4Dr8zg"
      },
      "source": [
        "import numpy as np \n",
        "import pandas as pd \n",
        "import json\n",
        "import os\n",
        "import matplotlib.pyplot as plt\n",
        "%matplotlib inline\n",
        "\n",
        "from plotly.subplots import make_subplots\n",
        "import plotly.offline as py\n",
        "import plotly.graph_objs as go\n",
        "\n",
        "from sklearn.preprocessing import LabelEncoder\n",
        "from sklearn.model_selection import TimeSeriesSplit, KFold\n",
        "from sklearn.metrics import mean_squared_error\n",
        "from sklearn.model_selection import train_test_split\n",
        "\n",
        "pd.options.display.max_columns = None"
      ],
      "execution_count": null,
      "outputs": []
    },
    {
      "cell_type": "code",
      "metadata": {
        "colab": {
          "base_uri": "https://localhost:8080/",
          "height": 233
        },
        "id": "XJ_548zpsAqU",
        "outputId": "c93689c0-acc1-4401-bca4-e3cf61a4a403"
      },
      "source": [
        "# read a two-row sample data\n",
        "\n",
        "sample = pd.read_csv(\"kaggle/train.csv\", nrows=2)\n",
        "sample"
      ],
      "execution_count": null,
      "outputs": [
        {
          "output_type": "execute_result",
          "data": {
            "text/html": [
              "<div>\n",
              "<style scoped>\n",
              "    .dataframe tbody tr th:only-of-type {\n",
              "        vertical-align: middle;\n",
              "    }\n",
              "\n",
              "    .dataframe tbody tr th {\n",
              "        vertical-align: top;\n",
              "    }\n",
              "\n",
              "    .dataframe thead th {\n",
              "        text-align: right;\n",
              "    }\n",
              "</style>\n",
              "<table border=\"1\" class=\"dataframe\">\n",
              "  <thead>\n",
              "    <tr style=\"text-align: right;\">\n",
              "      <th></th>\n",
              "      <th>channelGrouping</th>\n",
              "      <th>date</th>\n",
              "      <th>device</th>\n",
              "      <th>fullVisitorId</th>\n",
              "      <th>geoNetwork</th>\n",
              "      <th>sessionId</th>\n",
              "      <th>socialEngagementType</th>\n",
              "      <th>totals</th>\n",
              "      <th>trafficSource</th>\n",
              "      <th>visitId</th>\n",
              "      <th>visitNumber</th>\n",
              "      <th>visitStartTime</th>\n",
              "    </tr>\n",
              "  </thead>\n",
              "  <tbody>\n",
              "    <tr>\n",
              "      <th>0</th>\n",
              "      <td>Organic Search</td>\n",
              "      <td>20160902</td>\n",
              "      <td>{\"browser\": \"Chrome\", \"browserVersion\": \"not a...</td>\n",
              "      <td>1131660440785968503</td>\n",
              "      <td>{\"continent\": \"Asia\", \"subContinent\": \"Western...</td>\n",
              "      <td>1131660440785968503_1472830385</td>\n",
              "      <td>Not Socially Engaged</td>\n",
              "      <td>{\"visits\": \"1\", \"hits\": \"1\", \"pageviews\": \"1\",...</td>\n",
              "      <td>{\"campaign\": \"(not set)\", \"source\": \"google\", ...</td>\n",
              "      <td>1472830385</td>\n",
              "      <td>1</td>\n",
              "      <td>1472830385</td>\n",
              "    </tr>\n",
              "    <tr>\n",
              "      <th>1</th>\n",
              "      <td>Organic Search</td>\n",
              "      <td>20160902</td>\n",
              "      <td>{\"browser\": \"Firefox\", \"browserVersion\": \"not ...</td>\n",
              "      <td>377306020877927890</td>\n",
              "      <td>{\"continent\": \"Oceania\", \"subContinent\": \"Aust...</td>\n",
              "      <td>377306020877927890_1472880147</td>\n",
              "      <td>Not Socially Engaged</td>\n",
              "      <td>{\"visits\": \"1\", \"hits\": \"1\", \"pageviews\": \"1\",...</td>\n",
              "      <td>{\"campaign\": \"(not set)\", \"source\": \"google\", ...</td>\n",
              "      <td>1472880147</td>\n",
              "      <td>1</td>\n",
              "      <td>1472880147</td>\n",
              "    </tr>\n",
              "  </tbody>\n",
              "</table>\n",
              "</div>"
            ],
            "text/plain": [
              "  channelGrouping      date  \\\n",
              "0  Organic Search  20160902   \n",
              "1  Organic Search  20160902   \n",
              "\n",
              "                                              device        fullVisitorId  \\\n",
              "0  {\"browser\": \"Chrome\", \"browserVersion\": \"not a...  1131660440785968503   \n",
              "1  {\"browser\": \"Firefox\", \"browserVersion\": \"not ...   377306020877927890   \n",
              "\n",
              "                                          geoNetwork  \\\n",
              "0  {\"continent\": \"Asia\", \"subContinent\": \"Western...   \n",
              "1  {\"continent\": \"Oceania\", \"subContinent\": \"Aust...   \n",
              "\n",
              "                        sessionId  socialEngagementType  \\\n",
              "0  1131660440785968503_1472830385  Not Socially Engaged   \n",
              "1   377306020877927890_1472880147  Not Socially Engaged   \n",
              "\n",
              "                                              totals  \\\n",
              "0  {\"visits\": \"1\", \"hits\": \"1\", \"pageviews\": \"1\",...   \n",
              "1  {\"visits\": \"1\", \"hits\": \"1\", \"pageviews\": \"1\",...   \n",
              "\n",
              "                                       trafficSource     visitId  visitNumber  \\\n",
              "0  {\"campaign\": \"(not set)\", \"source\": \"google\", ...  1472830385            1   \n",
              "1  {\"campaign\": \"(not set)\", \"source\": \"google\", ...  1472880147            1   \n",
              "\n",
              "   visitStartTime  \n",
              "0      1472830385  \n",
              "1      1472880147  "
            ]
          },
          "metadata": {
            "tags": []
          },
          "execution_count": 5
        }
      ]
    },
    {
      "cell_type": "code",
      "metadata": {
        "colab": {
          "base_uri": "https://localhost:8080/"
        },
        "id": "0z-mB66iUIvj",
        "outputId": "78ac11e2-e339-421c-b6b4-eb729bb7b1f8"
      },
      "source": [
        "# read full data with json converters\n",
        "\n",
        "def load_df(csv_path='kaggle/train.csv', nrows=None):\n",
        "    JSON_COLUMNS = ['device', 'geoNetwork', 'totals', 'trafficSource']\n",
        "    df = pd.read_csv(csv_path,converters={column: json.loads for column in JSON_COLUMNS},dtype={'fullVisitorId': 'str'},nrows=nrows)\n",
        "    for column in JSON_COLUMNS:\n",
        "        column_as_df = pd.json_normalize(df[column])\n",
        "        column_as_df.columns = [f\"{column}.{subcolumn}\" for subcolumn in column_as_df.columns]\n",
        "        df = df.drop(column, axis=1).merge(column_as_df, right_index=True, left_index=True)\n",
        "    print(f\"Loaded {os.path.basename(csv_path)}. Shape: {df.shape}\")\n",
        "    return df\n",
        "\n",
        "train = load_df()\n",
        "test = load_df('kaggle/test.csv')"
      ],
      "execution_count": null,
      "outputs": [
        {
          "output_type": "stream",
          "text": [
            "Loaded train.csv. Shape: (903653, 55)\n",
            "Loaded test.csv. Shape: (804684, 53)\n"
          ],
          "name": "stdout"
        }
      ]
    },
    {
      "cell_type": "code",
      "metadata": {
        "colab": {
          "base_uri": "https://localhost:8080/",
          "height": 309
        },
        "id": "KKISO1H9VBtp",
        "outputId": "b83dccbb-e7c5-4060-8ff0-68f589235300"
      },
      "source": [
        "train.head()"
      ],
      "execution_count": null,
      "outputs": [
        {
          "output_type": "execute_result",
          "data": {
            "text/html": [
              "<div>\n",
              "<style scoped>\n",
              "    .dataframe tbody tr th:only-of-type {\n",
              "        vertical-align: middle;\n",
              "    }\n",
              "\n",
              "    .dataframe tbody tr th {\n",
              "        vertical-align: top;\n",
              "    }\n",
              "\n",
              "    .dataframe thead th {\n",
              "        text-align: right;\n",
              "    }\n",
              "</style>\n",
              "<table border=\"1\" class=\"dataframe\">\n",
              "  <thead>\n",
              "    <tr style=\"text-align: right;\">\n",
              "      <th></th>\n",
              "      <th>channelGrouping</th>\n",
              "      <th>date</th>\n",
              "      <th>fullVisitorId</th>\n",
              "      <th>sessionId</th>\n",
              "      <th>socialEngagementType</th>\n",
              "      <th>visitId</th>\n",
              "      <th>visitNumber</th>\n",
              "      <th>visitStartTime</th>\n",
              "      <th>device.browser</th>\n",
              "      <th>device.browserVersion</th>\n",
              "      <th>device.browserSize</th>\n",
              "      <th>device.operatingSystem</th>\n",
              "      <th>device.operatingSystemVersion</th>\n",
              "      <th>device.isMobile</th>\n",
              "      <th>device.mobileDeviceBranding</th>\n",
              "      <th>device.mobileDeviceModel</th>\n",
              "      <th>device.mobileInputSelector</th>\n",
              "      <th>device.mobileDeviceInfo</th>\n",
              "      <th>device.mobileDeviceMarketingName</th>\n",
              "      <th>device.flashVersion</th>\n",
              "      <th>device.language</th>\n",
              "      <th>device.screenColors</th>\n",
              "      <th>device.screenResolution</th>\n",
              "      <th>device.deviceCategory</th>\n",
              "      <th>geoNetwork.continent</th>\n",
              "      <th>geoNetwork.subContinent</th>\n",
              "      <th>geoNetwork.country</th>\n",
              "      <th>geoNetwork.region</th>\n",
              "      <th>geoNetwork.metro</th>\n",
              "      <th>geoNetwork.city</th>\n",
              "      <th>geoNetwork.cityId</th>\n",
              "      <th>geoNetwork.networkDomain</th>\n",
              "      <th>geoNetwork.latitude</th>\n",
              "      <th>geoNetwork.longitude</th>\n",
              "      <th>geoNetwork.networkLocation</th>\n",
              "      <th>totals.visits</th>\n",
              "      <th>totals.hits</th>\n",
              "      <th>totals.pageviews</th>\n",
              "      <th>totals.bounces</th>\n",
              "      <th>totals.newVisits</th>\n",
              "      <th>totals.transactionRevenue</th>\n",
              "      <th>trafficSource.campaign</th>\n",
              "      <th>trafficSource.source</th>\n",
              "      <th>trafficSource.medium</th>\n",
              "      <th>trafficSource.keyword</th>\n",
              "      <th>trafficSource.adwordsClickInfo.criteriaParameters</th>\n",
              "      <th>trafficSource.isTrueDirect</th>\n",
              "      <th>trafficSource.referralPath</th>\n",
              "      <th>trafficSource.adwordsClickInfo.page</th>\n",
              "      <th>trafficSource.adwordsClickInfo.slot</th>\n",
              "      <th>trafficSource.adwordsClickInfo.gclId</th>\n",
              "      <th>trafficSource.adwordsClickInfo.adNetworkType</th>\n",
              "      <th>trafficSource.adwordsClickInfo.isVideoAd</th>\n",
              "      <th>trafficSource.adContent</th>\n",
              "      <th>trafficSource.campaignCode</th>\n",
              "    </tr>\n",
              "  </thead>\n",
              "  <tbody>\n",
              "    <tr>\n",
              "      <th>0</th>\n",
              "      <td>Organic Search</td>\n",
              "      <td>20160902</td>\n",
              "      <td>1131660440785968503</td>\n",
              "      <td>1131660440785968503_1472830385</td>\n",
              "      <td>Not Socially Engaged</td>\n",
              "      <td>1472830385</td>\n",
              "      <td>1</td>\n",
              "      <td>1472830385</td>\n",
              "      <td>Chrome</td>\n",
              "      <td>not available in demo dataset</td>\n",
              "      <td>not available in demo dataset</td>\n",
              "      <td>Windows</td>\n",
              "      <td>not available in demo dataset</td>\n",
              "      <td>False</td>\n",
              "      <td>not available in demo dataset</td>\n",
              "      <td>not available in demo dataset</td>\n",
              "      <td>not available in demo dataset</td>\n",
              "      <td>not available in demo dataset</td>\n",
              "      <td>not available in demo dataset</td>\n",
              "      <td>not available in demo dataset</td>\n",
              "      <td>not available in demo dataset</td>\n",
              "      <td>not available in demo dataset</td>\n",
              "      <td>not available in demo dataset</td>\n",
              "      <td>desktop</td>\n",
              "      <td>Asia</td>\n",
              "      <td>Western Asia</td>\n",
              "      <td>Turkey</td>\n",
              "      <td>Izmir</td>\n",
              "      <td>(not set)</td>\n",
              "      <td>Izmir</td>\n",
              "      <td>not available in demo dataset</td>\n",
              "      <td>ttnet.com.tr</td>\n",
              "      <td>not available in demo dataset</td>\n",
              "      <td>not available in demo dataset</td>\n",
              "      <td>not available in demo dataset</td>\n",
              "      <td>1</td>\n",
              "      <td>1</td>\n",
              "      <td>1</td>\n",
              "      <td>1</td>\n",
              "      <td>1</td>\n",
              "      <td>NaN</td>\n",
              "      <td>(not set)</td>\n",
              "      <td>google</td>\n",
              "      <td>organic</td>\n",
              "      <td>(not provided)</td>\n",
              "      <td>not available in demo dataset</td>\n",
              "      <td>NaN</td>\n",
              "      <td>NaN</td>\n",
              "      <td>NaN</td>\n",
              "      <td>NaN</td>\n",
              "      <td>NaN</td>\n",
              "      <td>NaN</td>\n",
              "      <td>NaN</td>\n",
              "      <td>NaN</td>\n",
              "      <td>NaN</td>\n",
              "    </tr>\n",
              "    <tr>\n",
              "      <th>1</th>\n",
              "      <td>Organic Search</td>\n",
              "      <td>20160902</td>\n",
              "      <td>377306020877927890</td>\n",
              "      <td>377306020877927890_1472880147</td>\n",
              "      <td>Not Socially Engaged</td>\n",
              "      <td>1472880147</td>\n",
              "      <td>1</td>\n",
              "      <td>1472880147</td>\n",
              "      <td>Firefox</td>\n",
              "      <td>not available in demo dataset</td>\n",
              "      <td>not available in demo dataset</td>\n",
              "      <td>Macintosh</td>\n",
              "      <td>not available in demo dataset</td>\n",
              "      <td>False</td>\n",
              "      <td>not available in demo dataset</td>\n",
              "      <td>not available in demo dataset</td>\n",
              "      <td>not available in demo dataset</td>\n",
              "      <td>not available in demo dataset</td>\n",
              "      <td>not available in demo dataset</td>\n",
              "      <td>not available in demo dataset</td>\n",
              "      <td>not available in demo dataset</td>\n",
              "      <td>not available in demo dataset</td>\n",
              "      <td>not available in demo dataset</td>\n",
              "      <td>desktop</td>\n",
              "      <td>Oceania</td>\n",
              "      <td>Australasia</td>\n",
              "      <td>Australia</td>\n",
              "      <td>not available in demo dataset</td>\n",
              "      <td>not available in demo dataset</td>\n",
              "      <td>not available in demo dataset</td>\n",
              "      <td>not available in demo dataset</td>\n",
              "      <td>dodo.net.au</td>\n",
              "      <td>not available in demo dataset</td>\n",
              "      <td>not available in demo dataset</td>\n",
              "      <td>not available in demo dataset</td>\n",
              "      <td>1</td>\n",
              "      <td>1</td>\n",
              "      <td>1</td>\n",
              "      <td>1</td>\n",
              "      <td>1</td>\n",
              "      <td>NaN</td>\n",
              "      <td>(not set)</td>\n",
              "      <td>google</td>\n",
              "      <td>organic</td>\n",
              "      <td>(not provided)</td>\n",
              "      <td>not available in demo dataset</td>\n",
              "      <td>NaN</td>\n",
              "      <td>NaN</td>\n",
              "      <td>NaN</td>\n",
              "      <td>NaN</td>\n",
              "      <td>NaN</td>\n",
              "      <td>NaN</td>\n",
              "      <td>NaN</td>\n",
              "      <td>NaN</td>\n",
              "      <td>NaN</td>\n",
              "    </tr>\n",
              "    <tr>\n",
              "      <th>2</th>\n",
              "      <td>Organic Search</td>\n",
              "      <td>20160902</td>\n",
              "      <td>3895546263509774583</td>\n",
              "      <td>3895546263509774583_1472865386</td>\n",
              "      <td>Not Socially Engaged</td>\n",
              "      <td>1472865386</td>\n",
              "      <td>1</td>\n",
              "      <td>1472865386</td>\n",
              "      <td>Chrome</td>\n",
              "      <td>not available in demo dataset</td>\n",
              "      <td>not available in demo dataset</td>\n",
              "      <td>Windows</td>\n",
              "      <td>not available in demo dataset</td>\n",
              "      <td>False</td>\n",
              "      <td>not available in demo dataset</td>\n",
              "      <td>not available in demo dataset</td>\n",
              "      <td>not available in demo dataset</td>\n",
              "      <td>not available in demo dataset</td>\n",
              "      <td>not available in demo dataset</td>\n",
              "      <td>not available in demo dataset</td>\n",
              "      <td>not available in demo dataset</td>\n",
              "      <td>not available in demo dataset</td>\n",
              "      <td>not available in demo dataset</td>\n",
              "      <td>desktop</td>\n",
              "      <td>Europe</td>\n",
              "      <td>Southern Europe</td>\n",
              "      <td>Spain</td>\n",
              "      <td>Community of Madrid</td>\n",
              "      <td>(not set)</td>\n",
              "      <td>Madrid</td>\n",
              "      <td>not available in demo dataset</td>\n",
              "      <td>unknown.unknown</td>\n",
              "      <td>not available in demo dataset</td>\n",
              "      <td>not available in demo dataset</td>\n",
              "      <td>not available in demo dataset</td>\n",
              "      <td>1</td>\n",
              "      <td>1</td>\n",
              "      <td>1</td>\n",
              "      <td>1</td>\n",
              "      <td>1</td>\n",
              "      <td>NaN</td>\n",
              "      <td>(not set)</td>\n",
              "      <td>google</td>\n",
              "      <td>organic</td>\n",
              "      <td>(not provided)</td>\n",
              "      <td>not available in demo dataset</td>\n",
              "      <td>NaN</td>\n",
              "      <td>NaN</td>\n",
              "      <td>NaN</td>\n",
              "      <td>NaN</td>\n",
              "      <td>NaN</td>\n",
              "      <td>NaN</td>\n",
              "      <td>NaN</td>\n",
              "      <td>NaN</td>\n",
              "      <td>NaN</td>\n",
              "    </tr>\n",
              "    <tr>\n",
              "      <th>3</th>\n",
              "      <td>Organic Search</td>\n",
              "      <td>20160902</td>\n",
              "      <td>4763447161404445595</td>\n",
              "      <td>4763447161404445595_1472881213</td>\n",
              "      <td>Not Socially Engaged</td>\n",
              "      <td>1472881213</td>\n",
              "      <td>1</td>\n",
              "      <td>1472881213</td>\n",
              "      <td>UC Browser</td>\n",
              "      <td>not available in demo dataset</td>\n",
              "      <td>not available in demo dataset</td>\n",
              "      <td>Linux</td>\n",
              "      <td>not available in demo dataset</td>\n",
              "      <td>False</td>\n",
              "      <td>not available in demo dataset</td>\n",
              "      <td>not available in demo dataset</td>\n",
              "      <td>not available in demo dataset</td>\n",
              "      <td>not available in demo dataset</td>\n",
              "      <td>not available in demo dataset</td>\n",
              "      <td>not available in demo dataset</td>\n",
              "      <td>not available in demo dataset</td>\n",
              "      <td>not available in demo dataset</td>\n",
              "      <td>not available in demo dataset</td>\n",
              "      <td>desktop</td>\n",
              "      <td>Asia</td>\n",
              "      <td>Southeast Asia</td>\n",
              "      <td>Indonesia</td>\n",
              "      <td>not available in demo dataset</td>\n",
              "      <td>not available in demo dataset</td>\n",
              "      <td>not available in demo dataset</td>\n",
              "      <td>not available in demo dataset</td>\n",
              "      <td>unknown.unknown</td>\n",
              "      <td>not available in demo dataset</td>\n",
              "      <td>not available in demo dataset</td>\n",
              "      <td>not available in demo dataset</td>\n",
              "      <td>1</td>\n",
              "      <td>1</td>\n",
              "      <td>1</td>\n",
              "      <td>1</td>\n",
              "      <td>1</td>\n",
              "      <td>NaN</td>\n",
              "      <td>(not set)</td>\n",
              "      <td>google</td>\n",
              "      <td>organic</td>\n",
              "      <td>google + online</td>\n",
              "      <td>not available in demo dataset</td>\n",
              "      <td>NaN</td>\n",
              "      <td>NaN</td>\n",
              "      <td>NaN</td>\n",
              "      <td>NaN</td>\n",
              "      <td>NaN</td>\n",
              "      <td>NaN</td>\n",
              "      <td>NaN</td>\n",
              "      <td>NaN</td>\n",
              "      <td>NaN</td>\n",
              "    </tr>\n",
              "    <tr>\n",
              "      <th>4</th>\n",
              "      <td>Organic Search</td>\n",
              "      <td>20160902</td>\n",
              "      <td>27294437909732085</td>\n",
              "      <td>27294437909732085_1472822600</td>\n",
              "      <td>Not Socially Engaged</td>\n",
              "      <td>1472822600</td>\n",
              "      <td>2</td>\n",
              "      <td>1472822600</td>\n",
              "      <td>Chrome</td>\n",
              "      <td>not available in demo dataset</td>\n",
              "      <td>not available in demo dataset</td>\n",
              "      <td>Android</td>\n",
              "      <td>not available in demo dataset</td>\n",
              "      <td>True</td>\n",
              "      <td>not available in demo dataset</td>\n",
              "      <td>not available in demo dataset</td>\n",
              "      <td>not available in demo dataset</td>\n",
              "      <td>not available in demo dataset</td>\n",
              "      <td>not available in demo dataset</td>\n",
              "      <td>not available in demo dataset</td>\n",
              "      <td>not available in demo dataset</td>\n",
              "      <td>not available in demo dataset</td>\n",
              "      <td>not available in demo dataset</td>\n",
              "      <td>mobile</td>\n",
              "      <td>Europe</td>\n",
              "      <td>Northern Europe</td>\n",
              "      <td>United Kingdom</td>\n",
              "      <td>not available in demo dataset</td>\n",
              "      <td>not available in demo dataset</td>\n",
              "      <td>not available in demo dataset</td>\n",
              "      <td>not available in demo dataset</td>\n",
              "      <td>unknown.unknown</td>\n",
              "      <td>not available in demo dataset</td>\n",
              "      <td>not available in demo dataset</td>\n",
              "      <td>not available in demo dataset</td>\n",
              "      <td>1</td>\n",
              "      <td>1</td>\n",
              "      <td>1</td>\n",
              "      <td>1</td>\n",
              "      <td>NaN</td>\n",
              "      <td>NaN</td>\n",
              "      <td>(not set)</td>\n",
              "      <td>google</td>\n",
              "      <td>organic</td>\n",
              "      <td>(not provided)</td>\n",
              "      <td>not available in demo dataset</td>\n",
              "      <td>True</td>\n",
              "      <td>NaN</td>\n",
              "      <td>NaN</td>\n",
              "      <td>NaN</td>\n",
              "      <td>NaN</td>\n",
              "      <td>NaN</td>\n",
              "      <td>NaN</td>\n",
              "      <td>NaN</td>\n",
              "      <td>NaN</td>\n",
              "    </tr>\n",
              "  </tbody>\n",
              "</table>\n",
              "</div>"
            ],
            "text/plain": [
              "  channelGrouping      date        fullVisitorId  \\\n",
              "0  Organic Search  20160902  1131660440785968503   \n",
              "1  Organic Search  20160902   377306020877927890   \n",
              "2  Organic Search  20160902  3895546263509774583   \n",
              "3  Organic Search  20160902  4763447161404445595   \n",
              "4  Organic Search  20160902    27294437909732085   \n",
              "\n",
              "                        sessionId  socialEngagementType     visitId  \\\n",
              "0  1131660440785968503_1472830385  Not Socially Engaged  1472830385   \n",
              "1   377306020877927890_1472880147  Not Socially Engaged  1472880147   \n",
              "2  3895546263509774583_1472865386  Not Socially Engaged  1472865386   \n",
              "3  4763447161404445595_1472881213  Not Socially Engaged  1472881213   \n",
              "4    27294437909732085_1472822600  Not Socially Engaged  1472822600   \n",
              "\n",
              "   visitNumber  visitStartTime device.browser          device.browserVersion  \\\n",
              "0            1      1472830385         Chrome  not available in demo dataset   \n",
              "1            1      1472880147        Firefox  not available in demo dataset   \n",
              "2            1      1472865386         Chrome  not available in demo dataset   \n",
              "3            1      1472881213     UC Browser  not available in demo dataset   \n",
              "4            2      1472822600         Chrome  not available in demo dataset   \n",
              "\n",
              "              device.browserSize device.operatingSystem  \\\n",
              "0  not available in demo dataset                Windows   \n",
              "1  not available in demo dataset              Macintosh   \n",
              "2  not available in demo dataset                Windows   \n",
              "3  not available in demo dataset                  Linux   \n",
              "4  not available in demo dataset                Android   \n",
              "\n",
              "   device.operatingSystemVersion  device.isMobile  \\\n",
              "0  not available in demo dataset            False   \n",
              "1  not available in demo dataset            False   \n",
              "2  not available in demo dataset            False   \n",
              "3  not available in demo dataset            False   \n",
              "4  not available in demo dataset             True   \n",
              "\n",
              "     device.mobileDeviceBranding       device.mobileDeviceModel  \\\n",
              "0  not available in demo dataset  not available in demo dataset   \n",
              "1  not available in demo dataset  not available in demo dataset   \n",
              "2  not available in demo dataset  not available in demo dataset   \n",
              "3  not available in demo dataset  not available in demo dataset   \n",
              "4  not available in demo dataset  not available in demo dataset   \n",
              "\n",
              "      device.mobileInputSelector        device.mobileDeviceInfo  \\\n",
              "0  not available in demo dataset  not available in demo dataset   \n",
              "1  not available in demo dataset  not available in demo dataset   \n",
              "2  not available in demo dataset  not available in demo dataset   \n",
              "3  not available in demo dataset  not available in demo dataset   \n",
              "4  not available in demo dataset  not available in demo dataset   \n",
              "\n",
              "  device.mobileDeviceMarketingName            device.flashVersion  \\\n",
              "0    not available in demo dataset  not available in demo dataset   \n",
              "1    not available in demo dataset  not available in demo dataset   \n",
              "2    not available in demo dataset  not available in demo dataset   \n",
              "3    not available in demo dataset  not available in demo dataset   \n",
              "4    not available in demo dataset  not available in demo dataset   \n",
              "\n",
              "                 device.language            device.screenColors  \\\n",
              "0  not available in demo dataset  not available in demo dataset   \n",
              "1  not available in demo dataset  not available in demo dataset   \n",
              "2  not available in demo dataset  not available in demo dataset   \n",
              "3  not available in demo dataset  not available in demo dataset   \n",
              "4  not available in demo dataset  not available in demo dataset   \n",
              "\n",
              "         device.screenResolution device.deviceCategory geoNetwork.continent  \\\n",
              "0  not available in demo dataset               desktop                 Asia   \n",
              "1  not available in demo dataset               desktop              Oceania   \n",
              "2  not available in demo dataset               desktop               Europe   \n",
              "3  not available in demo dataset               desktop                 Asia   \n",
              "4  not available in demo dataset                mobile               Europe   \n",
              "\n",
              "  geoNetwork.subContinent geoNetwork.country              geoNetwork.region  \\\n",
              "0            Western Asia             Turkey                          Izmir   \n",
              "1             Australasia          Australia  not available in demo dataset   \n",
              "2         Southern Europe              Spain            Community of Madrid   \n",
              "3          Southeast Asia          Indonesia  not available in demo dataset   \n",
              "4         Northern Europe     United Kingdom  not available in demo dataset   \n",
              "\n",
              "                geoNetwork.metro                geoNetwork.city  \\\n",
              "0                      (not set)                          Izmir   \n",
              "1  not available in demo dataset  not available in demo dataset   \n",
              "2                      (not set)                         Madrid   \n",
              "3  not available in demo dataset  not available in demo dataset   \n",
              "4  not available in demo dataset  not available in demo dataset   \n",
              "\n",
              "               geoNetwork.cityId geoNetwork.networkDomain  \\\n",
              "0  not available in demo dataset             ttnet.com.tr   \n",
              "1  not available in demo dataset              dodo.net.au   \n",
              "2  not available in demo dataset          unknown.unknown   \n",
              "3  not available in demo dataset          unknown.unknown   \n",
              "4  not available in demo dataset          unknown.unknown   \n",
              "\n",
              "             geoNetwork.latitude           geoNetwork.longitude  \\\n",
              "0  not available in demo dataset  not available in demo dataset   \n",
              "1  not available in demo dataset  not available in demo dataset   \n",
              "2  not available in demo dataset  not available in demo dataset   \n",
              "3  not available in demo dataset  not available in demo dataset   \n",
              "4  not available in demo dataset  not available in demo dataset   \n",
              "\n",
              "      geoNetwork.networkLocation totals.visits totals.hits totals.pageviews  \\\n",
              "0  not available in demo dataset             1           1                1   \n",
              "1  not available in demo dataset             1           1                1   \n",
              "2  not available in demo dataset             1           1                1   \n",
              "3  not available in demo dataset             1           1                1   \n",
              "4  not available in demo dataset             1           1                1   \n",
              "\n",
              "  totals.bounces totals.newVisits totals.transactionRevenue  \\\n",
              "0              1                1                       NaN   \n",
              "1              1                1                       NaN   \n",
              "2              1                1                       NaN   \n",
              "3              1                1                       NaN   \n",
              "4              1              NaN                       NaN   \n",
              "\n",
              "  trafficSource.campaign trafficSource.source trafficSource.medium  \\\n",
              "0              (not set)               google              organic   \n",
              "1              (not set)               google              organic   \n",
              "2              (not set)               google              organic   \n",
              "3              (not set)               google              organic   \n",
              "4              (not set)               google              organic   \n",
              "\n",
              "  trafficSource.keyword trafficSource.adwordsClickInfo.criteriaParameters  \\\n",
              "0        (not provided)                     not available in demo dataset   \n",
              "1        (not provided)                     not available in demo dataset   \n",
              "2        (not provided)                     not available in demo dataset   \n",
              "3       google + online                     not available in demo dataset   \n",
              "4        (not provided)                     not available in demo dataset   \n",
              "\n",
              "  trafficSource.isTrueDirect trafficSource.referralPath  \\\n",
              "0                        NaN                        NaN   \n",
              "1                        NaN                        NaN   \n",
              "2                        NaN                        NaN   \n",
              "3                        NaN                        NaN   \n",
              "4                       True                        NaN   \n",
              "\n",
              "  trafficSource.adwordsClickInfo.page trafficSource.adwordsClickInfo.slot  \\\n",
              "0                                 NaN                                 NaN   \n",
              "1                                 NaN                                 NaN   \n",
              "2                                 NaN                                 NaN   \n",
              "3                                 NaN                                 NaN   \n",
              "4                                 NaN                                 NaN   \n",
              "\n",
              "  trafficSource.adwordsClickInfo.gclId  \\\n",
              "0                                  NaN   \n",
              "1                                  NaN   \n",
              "2                                  NaN   \n",
              "3                                  NaN   \n",
              "4                                  NaN   \n",
              "\n",
              "  trafficSource.adwordsClickInfo.adNetworkType  \\\n",
              "0                                          NaN   \n",
              "1                                          NaN   \n",
              "2                                          NaN   \n",
              "3                                          NaN   \n",
              "4                                          NaN   \n",
              "\n",
              "  trafficSource.adwordsClickInfo.isVideoAd trafficSource.adContent  \\\n",
              "0                                      NaN                     NaN   \n",
              "1                                      NaN                     NaN   \n",
              "2                                      NaN                     NaN   \n",
              "3                                      NaN                     NaN   \n",
              "4                                      NaN                     NaN   \n",
              "\n",
              "  trafficSource.campaignCode  \n",
              "0                        NaN  \n",
              "1                        NaN  \n",
              "2                        NaN  \n",
              "3                        NaN  \n",
              "4                        NaN  "
            ]
          },
          "metadata": {
            "tags": []
          },
          "execution_count": 7
        }
      ]
    },
    {
      "cell_type": "code",
      "metadata": {
        "colab": {
          "base_uri": "https://localhost:8080/"
        },
        "id": "LC4F04cTVNPe",
        "outputId": "2848c4ba-4eed-4f4e-d5fb-003ac93a3630"
      },
      "source": [
        "train.info()"
      ],
      "execution_count": null,
      "outputs": [
        {
          "output_type": "stream",
          "text": [
            "<class 'pandas.core.frame.DataFrame'>\n",
            "RangeIndex: 903653 entries, 0 to 903652\n",
            "Data columns (total 55 columns):\n",
            " #   Column                                             Non-Null Count   Dtype \n",
            "---  ------                                             --------------   ----- \n",
            " 0   channelGrouping                                    903653 non-null  object\n",
            " 1   date                                               903653 non-null  int64 \n",
            " 2   fullVisitorId                                      903653 non-null  object\n",
            " 3   sessionId                                          903653 non-null  object\n",
            " 4   socialEngagementType                               903653 non-null  object\n",
            " 5   visitId                                            903653 non-null  int64 \n",
            " 6   visitNumber                                        903653 non-null  int64 \n",
            " 7   visitStartTime                                     903653 non-null  int64 \n",
            " 8   device.browser                                     903653 non-null  object\n",
            " 9   device.browserVersion                              903653 non-null  object\n",
            " 10  device.browserSize                                 903653 non-null  object\n",
            " 11  device.operatingSystem                             903653 non-null  object\n",
            " 12  device.operatingSystemVersion                      903653 non-null  object\n",
            " 13  device.isMobile                                    903653 non-null  bool  \n",
            " 14  device.mobileDeviceBranding                        903653 non-null  object\n",
            " 15  device.mobileDeviceModel                           903653 non-null  object\n",
            " 16  device.mobileInputSelector                         903653 non-null  object\n",
            " 17  device.mobileDeviceInfo                            903653 non-null  object\n",
            " 18  device.mobileDeviceMarketingName                   903653 non-null  object\n",
            " 19  device.flashVersion                                903653 non-null  object\n",
            " 20  device.language                                    903653 non-null  object\n",
            " 21  device.screenColors                                903653 non-null  object\n",
            " 22  device.screenResolution                            903653 non-null  object\n",
            " 23  device.deviceCategory                              903653 non-null  object\n",
            " 24  geoNetwork.continent                               903653 non-null  object\n",
            " 25  geoNetwork.subContinent                            903653 non-null  object\n",
            " 26  geoNetwork.country                                 903653 non-null  object\n",
            " 27  geoNetwork.region                                  903653 non-null  object\n",
            " 28  geoNetwork.metro                                   903653 non-null  object\n",
            " 29  geoNetwork.city                                    903653 non-null  object\n",
            " 30  geoNetwork.cityId                                  903653 non-null  object\n",
            " 31  geoNetwork.networkDomain                           903653 non-null  object\n",
            " 32  geoNetwork.latitude                                903653 non-null  object\n",
            " 33  geoNetwork.longitude                               903653 non-null  object\n",
            " 34  geoNetwork.networkLocation                         903653 non-null  object\n",
            " 35  totals.visits                                      903653 non-null  object\n",
            " 36  totals.hits                                        903653 non-null  object\n",
            " 37  totals.pageviews                                   903553 non-null  object\n",
            " 38  totals.bounces                                     450630 non-null  object\n",
            " 39  totals.newVisits                                   703060 non-null  object\n",
            " 40  totals.transactionRevenue                          11515 non-null   object\n",
            " 41  trafficSource.campaign                             903653 non-null  object\n",
            " 42  trafficSource.source                               903653 non-null  object\n",
            " 43  trafficSource.medium                               903653 non-null  object\n",
            " 44  trafficSource.keyword                              400724 non-null  object\n",
            " 45  trafficSource.adwordsClickInfo.criteriaParameters  903653 non-null  object\n",
            " 46  trafficSource.isTrueDirect                         274005 non-null  object\n",
            " 47  trafficSource.referralPath                         330941 non-null  object\n",
            " 48  trafficSource.adwordsClickInfo.page                21460 non-null   object\n",
            " 49  trafficSource.adwordsClickInfo.slot                21460 non-null   object\n",
            " 50  trafficSource.adwordsClickInfo.gclId               21561 non-null   object\n",
            " 51  trafficSource.adwordsClickInfo.adNetworkType       21460 non-null   object\n",
            " 52  trafficSource.adwordsClickInfo.isVideoAd           21460 non-null   object\n",
            " 53  trafficSource.adContent                            10946 non-null   object\n",
            " 54  trafficSource.campaignCode                         1 non-null       object\n",
            "dtypes: bool(1), int64(4), object(50)\n",
            "memory usage: 373.2+ MB\n"
          ],
          "name": "stdout"
        }
      ]
    },
    {
      "cell_type": "code",
      "metadata": {
        "colab": {
          "base_uri": "https://localhost:8080/"
        },
        "id": "8vI2suIsjWuh",
        "outputId": "6b6df77a-0232-4dc8-eb51-cd208bdd23e3"
      },
      "source": [
        "train.nunique()"
      ],
      "execution_count": null,
      "outputs": [
        {
          "output_type": "execute_result",
          "data": {
            "text/plain": [
              "channelGrouping                                           8\n",
              "date                                                    366\n",
              "fullVisitorId                                        714167\n",
              "sessionId                                            902755\n",
              "socialEngagementType                                      1\n",
              "visitId                                              886303\n",
              "visitNumber                                             384\n",
              "visitStartTime                                       887159\n",
              "device.browser                                           54\n",
              "device.browserVersion                                     1\n",
              "device.browserSize                                        1\n",
              "device.operatingSystem                                   20\n",
              "device.operatingSystemVersion                             1\n",
              "device.isMobile                                           2\n",
              "device.mobileDeviceBranding                               1\n",
              "device.mobileDeviceModel                                  1\n",
              "device.mobileInputSelector                                1\n",
              "device.mobileDeviceInfo                                   1\n",
              "device.mobileDeviceMarketingName                          1\n",
              "device.flashVersion                                       1\n",
              "device.language                                           1\n",
              "device.screenColors                                       1\n",
              "device.screenResolution                                   1\n",
              "device.deviceCategory                                     3\n",
              "geoNetwork.continent                                      6\n",
              "geoNetwork.subContinent                                  23\n",
              "geoNetwork.country                                      222\n",
              "geoNetwork.region                                       376\n",
              "geoNetwork.metro                                         94\n",
              "geoNetwork.city                                         649\n",
              "geoNetwork.cityId                                         1\n",
              "geoNetwork.networkDomain                              28064\n",
              "geoNetwork.latitude                                       1\n",
              "geoNetwork.longitude                                      1\n",
              "geoNetwork.networkLocation                                1\n",
              "totals.visits                                             1\n",
              "totals.hits                                             274\n",
              "totals.pageviews                                        213\n",
              "totals.bounces                                            1\n",
              "totals.newVisits                                          1\n",
              "totals.transactionRevenue                              5332\n",
              "trafficSource.campaign                                   10\n",
              "trafficSource.source                                    380\n",
              "trafficSource.medium                                      7\n",
              "trafficSource.keyword                                  3659\n",
              "trafficSource.adwordsClickInfo.criteriaParameters         1\n",
              "trafficSource.isTrueDirect                                1\n",
              "trafficSource.referralPath                             1475\n",
              "trafficSource.adwordsClickInfo.page                       8\n",
              "trafficSource.adwordsClickInfo.slot                       2\n",
              "trafficSource.adwordsClickInfo.gclId                  17774\n",
              "trafficSource.adwordsClickInfo.adNetworkType              2\n",
              "trafficSource.adwordsClickInfo.isVideoAd                  1\n",
              "trafficSource.adContent                                  44\n",
              "trafficSource.campaignCode                                1\n",
              "dtype: int64"
            ]
          },
          "metadata": {
            "tags": []
          },
          "execution_count": 9
        }
      ]
    },
    {
      "cell_type": "markdown",
      "metadata": {
        "id": "HJbfcVaglvLp"
      },
      "source": [
        "<br>There are many columns with only one unique value, or constant columns. Since these columns/features won't make any difference for the analysis, I'll just drop them from the dataframe. Note that I set the dropna parameter to be False since some features may contain missing value and thus have 2 unique values.<br><br>"
      ]
    },
    {
      "cell_type": "code",
      "metadata": {
        "colab": {
          "base_uri": "https://localhost:8080/"
        },
        "id": "f9iHcgNMhzwv",
        "outputId": "cf6f9c85-e57d-4bae-dcac-49b613d24459"
      },
      "source": [
        "# drop columns that only have one unique value (including NA)\n",
        "\n",
        "cnst_cols = [c for c in train.columns if train[c].nunique(dropna=False)==1]\n",
        "cnst_cols"
      ],
      "execution_count": null,
      "outputs": [
        {
          "output_type": "execute_result",
          "data": {
            "text/plain": [
              "['socialEngagementType',\n",
              " 'device.browserVersion',\n",
              " 'device.browserSize',\n",
              " 'device.operatingSystemVersion',\n",
              " 'device.mobileDeviceBranding',\n",
              " 'device.mobileDeviceModel',\n",
              " 'device.mobileInputSelector',\n",
              " 'device.mobileDeviceInfo',\n",
              " 'device.mobileDeviceMarketingName',\n",
              " 'device.flashVersion',\n",
              " 'device.language',\n",
              " 'device.screenColors',\n",
              " 'device.screenResolution',\n",
              " 'geoNetwork.cityId',\n",
              " 'geoNetwork.latitude',\n",
              " 'geoNetwork.longitude',\n",
              " 'geoNetwork.networkLocation',\n",
              " 'totals.visits',\n",
              " 'trafficSource.adwordsClickInfo.criteriaParameters']"
            ]
          },
          "metadata": {
            "tags": []
          },
          "execution_count": 10
        }
      ]
    },
    {
      "cell_type": "code",
      "metadata": {
        "id": "FSLurcCB-KNS"
      },
      "source": [
        "train = train.drop(cnst_cols, axis=1)\n",
        "test = test.drop(cnst_cols, axis=1)"
      ],
      "execution_count": null,
      "outputs": []
    },
    {
      "cell_type": "markdown",
      "metadata": {
        "id": "B8SLTiDxPbjT"
      },
      "source": [
        "## 2. Exploratory data analysis"
      ]
    },
    {
      "cell_type": "markdown",
      "metadata": {
        "id": "etA6xC-3oreQ"
      },
      "source": [
        "### 2.1 Non-zero revenue, unique and common visitors"
      ]
    },
    {
      "cell_type": "markdown",
      "metadata": {
        "id": "zTRs9JNcicDF"
      },
      "source": [
        "First I'll explore and visualize how many visitors have generated revenue above zero.<br><br>\n"
      ]
    },
    {
      "cell_type": "code",
      "metadata": {
        "id": "TFhbldQcVOD0"
      },
      "source": [
        "train[\"totals.transactionRevenue\"] = train[\"totals.transactionRevenue\"].astype('float')\n",
        "gdf = train.groupby('fullVisitorId')[\"totals.transactionRevenue\"].sum().reset_index() # reset_index(): to make a dataframe output"
      ],
      "execution_count": null,
      "outputs": []
    },
    {
      "cell_type": "code",
      "metadata": {
        "id": "i6xsyfSsXa1H",
        "colab": {
          "base_uri": "https://localhost:8080/",
          "height": 391
        },
        "outputId": "3fb32a09-2054-4a0c-bd5e-afd80bfc3ca9"
      },
      "source": [
        "plt.figure(figsize=(8,6))\n",
        "plt.scatter(range(gdf.shape[0]), np.sort(np.log1p(gdf['totals.transactionRevenue'].values))) \n",
        "plt.xlabel('index', fontsize=12)\n",
        "plt.ylabel('transactionRevenue', fontsize=12)\n",
        "plt.show()"
      ],
      "execution_count": null,
      "outputs": [
        {
          "output_type": "display_data",
          "data": {
            "image/png": "[encoded data removed]",
            "text/plain": [
              "<Figure size 576x432 with 1 Axes>"
            ]
          },
          "metadata": {
            "tags": [],
            "needs_background": "light"
          }
        }
      ]
    },
    {
      "cell_type": "markdown",
      "metadata": {
        "id": "VJzjngqLkoIL"
      },
      "source": [
        "<br>Only a tiny portion of visitors generated positive revenue, and their revenues tended to be huge - log value of over 10. Therefore, our predictions are also expected to be very sparse, with most zeros and few large revenue.<br><br>"
      ]
    },
    {
      "cell_type": "code",
      "metadata": {
        "colab": {
          "base_uri": "https://localhost:8080/"
        },
        "id": "TTnFcXKhZCWD",
        "outputId": "a0362eae-0e56-4f05-9bc5-146aeb25ddc3"
      },
      "source": [
        "n_customer = (gdf['totals.transactionRevenue']>0).sum()\n",
        "n_instance = pd.notnull(train['totals.transactionRevenue']).sum()\n",
        "\n",
        "print(\"Number of instances in train set with non-zero revenue : \", n_instance, \" and ratio is : \", n_instance / train.shape[0])\n",
        "print(\"Number of unique customers with non-zero revenue : \", n_customer, \"and the ratio is : \", n_customer / gdf.shape[0])"
      ],
      "execution_count": null,
      "outputs": [
        {
          "output_type": "stream",
          "text": [
            "Number of instances in train set with non-zero revenue :  11515  and ratio is :  0.0127427231470487\n",
            "Number of unique customers with non-zero revenue :  9996 and the ratio is :  0.013996726255903731\n"
          ],
          "name": "stdout"
        }
      ]
    },
    {
      "cell_type": "code",
      "metadata": {
        "colab": {
          "base_uri": "https://localhost:8080/"
        },
        "id": "A6MfchyBcG_S",
        "outputId": "37e239b0-3703-431f-e68f-1ab7e1336726"
      },
      "source": [
        "print('The number of unique visitors in train dataset is {}, out of {} rows'.format(train['fullVisitorId'].nunique(), train.shape[0]))\n",
        "print('The number of unique visitors in test dataset is {}, out of {} rows'.format(test['fullVisitorId'].nunique(), test.shape[0]))"
      ],
      "execution_count": null,
      "outputs": [
        {
          "output_type": "stream",
          "text": [
            "The number of unique visitors in train dataset is 714167, out of 903653 rows\n",
            "The number of unique visitors in test dataset is 617242, out of 804684 rows\n"
          ],
          "name": "stdout"
        }
      ]
    },
    {
      "cell_type": "markdown",
      "metadata": {
        "id": "nbeioPBBoAWi"
      },
      "source": [
        "<br>Most visitors had only one visit session to the store.<br><br>"
      ]
    },
    {
      "cell_type": "code",
      "metadata": {
        "colab": {
          "base_uri": "https://localhost:8080/"
        },
        "id": "QTh_G0k0g8qO",
        "outputId": "2fe77072-a2c9-4a4c-9122-9c06782199d4"
      },
      "source": [
        "common_visitors = set(train['fullVisitorId'].unique()).intersection(set(test['fullVisitorId'].unique()))\n",
        "print('The number of common visitors in train and test dataset is {}'.format(len(common_visitors)))"
      ],
      "execution_count": null,
      "outputs": [
        {
          "output_type": "stream",
          "text": [
            "The number of common visitors in train and test dataset is 7679\n"
          ],
          "name": "stdout"
        }
      ]
    },
    {
      "cell_type": "markdown",
      "metadata": {
        "id": "WsCDY2v2pCoX"
      },
      "source": [
        "<br>1% visitors were common in both datasets, which means they had returned over time. Since for the prediction problem, no other information of those visitors during the time period for prediction is available beyond their visitorId, I'll need to predict the revenue based on whether these visitors return or not. In other words, I should combine classification and regression models to solve this.<br><br>\n"
      ]
    },
    {
      "cell_type": "markdown",
      "metadata": {
        "id": "gTIrC-eFr_Od"
      },
      "source": [
        "### 2.2 Explore features\n"
      ]
    },
    {
      "cell_type": "markdown",
      "metadata": {
        "id": "3AlPq8P4sGsA"
      },
      "source": [
        "I'll explore the relationship between some features (mostly categorical) and transaction revenue by visualizing the total visits, non-zero revenue visits, and mean transaction revenue by top 10 counts of each feature. To minimize repetition in this process, I'll define two functions to get aggregated features and to get a subplot.<br><br>"
      ]
    },
    {
      "cell_type": "code",
      "metadata": {
        "id": "cygxptzJ6zDz"
      },
      "source": [
        "import plotly.express as px\n",
        "\n",
        "blues = px.colors.sequential.Blues\n",
        "greens = px.colors.sequential.Greens\n",
        "peach = px.colors.sequential.Peach\n",
        "purples = px.colors.sequential.Purples"
      ],
      "execution_count": null,
      "outputs": []
    },
    {
      "cell_type": "code",
      "metadata": {
        "id": "YUMVWeQDtQhL"
      },
      "source": [
        "def grouped_df(column): # get a dataframe of aggregated features\n",
        "    gdf = train.groupby(column)['totals.transactionRevenue'].agg(['size', 'count', 'mean'])\n",
        "    gdf.columns = ['count', 'count of non-zero revenue', 'mean']\n",
        "    gdf.sort_values(by='count', ascending=False, inplace=True)\n",
        "    return gdf\n",
        "  \n",
        "def horizontal_bar_chart(gdf, color): # get a trace for plotting subplots\n",
        "    trace = go.Bar(\n",
        "        y=gdf.index[::-1],\n",
        "        x=gdf.values[::-1],\n",
        "        orientation = 'h',\n",
        "        showlegend=False,\n",
        "        marker=dict(\n",
        "            color=color,\n",
        "        )\n",
        "    )\n",
        "    return trace"
      ],
      "execution_count": null,
      "outputs": []
    },
    {
      "cell_type": "markdown",
      "metadata": {
        "id": "iiJbnUVdw963"
      },
      "source": [
        "<br>Device plots:<br><br>"
      ]
    },
    {
      "cell_type": "code",
      "metadata": {
        "colab": {
          "base_uri": "https://localhost:8080/",
          "height": 917
        },
        "id": "G3ZQssHfw4-o",
        "outputId": "b1dbbbb1-23f7-4250-b0ec-5f6fce0019a3"
      },
      "source": [
        "# Device Browser\n",
        "gdf = grouped_df('device.browser')\n",
        "trace1 = horizontal_bar_chart(gdf[\"count\"].head(10), blues[3])\n",
        "trace2 = horizontal_bar_chart(gdf[\"count of non-zero revenue\"].head(10), blues[3])\n",
        "trace3 = horizontal_bar_chart(gdf[\"mean\"].head(10), blues[3])\n",
        "\n",
        "# Device Category\n",
        "gdf = grouped_df('device.deviceCategory')\n",
        "trace4 = horizontal_bar_chart(gdf[\"count\"].head(10), peach[3])\n",
        "trace5 = horizontal_bar_chart(gdf[\"count of non-zero revenue\"].head(10), peach[3])\n",
        "trace6 = horizontal_bar_chart(gdf[\"mean\"].head(10), peach[3])\n",
        "\n",
        "# Operating system\n",
        "gdf = grouped_df('device.operatingSystem')\n",
        "trace7 = horizontal_bar_chart(gdf[\"count\"].head(10), purples[3])\n",
        "trace8 = horizontal_bar_chart(gdf[\"count of non-zero revenue\"].head(10),purples[3])\n",
        "trace9 = horizontal_bar_chart(gdf[\"mean\"].head(10), purples[3])\n",
        "\n",
        "fig = make_subplots(rows=3, cols=3, vertical_spacing=0.05, horizontal_spacing=0.10)\n",
        " \n",
        "fig.append_trace(trace1, 1, 1)\n",
        "fig.append_trace(trace2, 1, 2)\n",
        "fig.append_trace(trace3, 1, 3)\n",
        "fig.append_trace(trace4, 2, 1)\n",
        "fig.append_trace(trace5, 2, 2)\n",
        "fig.append_trace(trace6, 2, 3)\n",
        "fig.append_trace(trace7, 3, 1)\n",
        "fig.append_trace(trace8, 3, 2)\n",
        "fig.append_trace(trace9, 3, 3)\n",
        "\n",
        "# Update xaxis properties\n",
        "fig.update_xaxes(title_text=\"Total Visits\", row=3, col=1)\n",
        "fig.update_xaxes(title_text=\"Non-zero Revenue Visits\", row=3, col=2)\n",
        "fig.update_xaxes(title_text=\"Mean Revenue\", row=3, col=3)\n",
        "\n",
        "# Update yaxis properties\n",
        "fig.update_yaxes(title_text=\"Browser\", row=1, col=1)\n",
        "fig.update_yaxes(title_text=\"Category\", row=2, col=1)\n",
        "fig.update_yaxes(title_text=\"OS\", row=3, col=1)\n",
        "\n",
        "fig.update_layout(height=900, width=1300, title=dict(text='Device Plots', x=0.5))\n",
        "fig.show()"
      ],
      "execution_count": null,
      "outputs": [
        {
          "output_type": "display_data",
          "data": {
            "text/html": [
              "<html>\n",
              "<head><meta charset=\"utf-8\" /></head>\n",
              "<body>\n",
              "    <div>\n",
              "            <script src=\"https://cdnjs.cloudflare.com/ajax/libs/mathjax/2.7.5/MathJax.js?config=TeX-AMS-MML_SVG\"></script><script type=\"text/javascript\">if (window.MathJax) {MathJax.Hub.Config({SVG: {font: \"STIX-Web\"}});}</script>\n",
              "                <script type=\"text/javascript\">window.PlotlyConfig = {MathJaxConfig: 'local'};</script>\n",
              "        <script src=\"https://cdn.plot.ly/plotly-latest.min.js\"></script>    \n",
              "            <div id=\"75eaeb29-734c-43ca-8334-4fad3469ccb0\" class=\"plotly-graph-div\" style=\"height:900px; width:1300px;\"></div>\n",
              "            <script type=\"text/javascript\">\n",
              "                \n",
              "                    window.PLOTLYENV=window.PLOTLYENV || {};\n",
              "                    \n",
              "                if (document.getElementById(\"75eaeb29-734c-43ca-8334-4fad3469ccb0\")) {\n",
              "                    Plotly.newPlot(\n",
              "                        '75eaeb29-734c-43ca-8334-4fad3469ccb0',\n",
              "                        [{\"marker\": {\"color\": \"rgb(158,202,225)\"}, \"orientation\": \"h\", \"showlegend\": false, \"type\": \"bar\", \"x\": [2427, 5643, 6139, 6850, 7865, 10205, 19375, 37069, 182245, 620364], \"xaxis\": \"x\", \"y\": [\"UC Browser\", \"Opera\", \"Opera Mini\", \"Safari (in-app)\", \"Android Webview\", \"Edge\", \"Internet Explorer\", \"Firefox\", \"Safari\", \"Chrome\"], \"yaxis\": \"y\"}, {\"marker\": {\"color\": \"rgb(158,202,225)\"}, \"orientation\": \"h\", \"showlegend\": false, \"type\": \"bar\", \"x\": [0, 5, 0, 12, 6, 58, 109, 191, 780, 10353], \"xaxis\": \"x2\", \"y\": [\"UC Browser\", \"Opera\", \"Opera Mini\", \"Safari (in-app)\", \"Android Webview\", \"Edge\", \"Internet Explorer\", \"Firefox\", \"Safari\", \"Chrome\"], \"yaxis\": \"y2\"}, {\"marker\": {\"color\": \"rgb(158,202,225)\"}, \"orientation\": \"h\", \"showlegend\": false, \"type\": \"bar\", \"x\": [null, 43070000.0, null, 12814166.666666666, 19141666.666666668, 111775344.8275862, 75738990.82568808, 467624712.04188484, 67176256.41025642, 133594606.39428185], \"xaxis\": \"x3\", \"y\": [\"UC Browser\", \"Opera\", \"Opera Mini\", \"Safari (in-app)\", \"Android Webview\", \"Edge\", \"Internet Explorer\", \"Firefox\", \"Safari\", \"Chrome\"], \"yaxis\": \"y3\"}, {\"marker\": {\"color\": \"rgb(245, 158, 114)\"}, \"orientation\": \"h\", \"showlegend\": false, \"type\": \"bar\", \"x\": [30449, 208725, 664479], \"xaxis\": \"x4\", \"y\": [\"tablet\", \"mobile\", \"desktop\"], \"yaxis\": \"y4\"}, {\"marker\": {\"color\": \"rgb(245, 158, 114)\"}, \"orientation\": \"h\", \"showlegend\": false, \"type\": \"bar\", \"x\": [168, 852, 10495], \"xaxis\": \"x5\", \"y\": [\"tablet\", \"mobile\", \"desktop\"], \"yaxis\": \"y5\"}, {\"marker\": {\"color\": \"rgb(245, 158, 114)\"}, \"orientation\": \"h\", \"showlegend\": false, \"type\": \"bar\", \"x\": [56079404.76190476, 58434049.295774646, 141101866.60314435], \"xaxis\": \"x6\", \"y\": [\"tablet\", \"mobile\", \"desktop\"], \"yaxis\": \"y6\"}, {\"marker\": {\"color\": \"rgb(188,189,220)\"}, \"orientation\": \"h\", \"showlegend\": false, \"type\": \"bar\", \"x\": [218, 280, 1216, 4695, 26337, 35034, 107665, 123892, 253938, 350072], \"xaxis\": \"x7\", \"y\": [\"BlackBerry\", \"Samsung\", \"Windows Phone\", \"(not set)\", \"Chrome OS\", \"Linux\", \"iOS\", \"Android\", \"Macintosh\", \"Windows\"], \"yaxis\": \"y7\"}, {\"marker\": {\"color\": \"rgb(188,189,220)\"}, \"orientation\": \"h\", \"showlegend\": false, \"type\": \"bar\", \"x\": [0, 0, 1, 0, 994, 782, 536, 467, 6426, 2309], \"xaxis\": \"x8\", \"y\": [\"BlackBerry\", \"Samsung\", \"Windows Phone\", \"(not set)\", \"Chrome OS\", \"Linux\", \"iOS\", \"Android\", \"Macintosh\", \"Windows\"], \"yaxis\": \"y8\"}, {\"marker\": {\"color\": \"rgb(188,189,220)\"}, \"orientation\": \"h\", \"showlegend\": false, \"type\": \"bar\", \"x\": [null, null, 26400000.0, null, 185048038.22937626, 56151406.64961637, 41356156.71641791, 77818586.72376874, 133267318.70525987, 172071338.24166307], \"xaxis\": \"x9\", \"y\": [\"BlackBerry\", \"Samsung\", \"Windows Phone\", \"(not set)\", \"Chrome OS\", \"Linux\", \"iOS\", \"Android\", \"Macintosh\", \"Windows\"], \"yaxis\": \"y9\"}],\n",
              "                        {\"height\": 900, \"template\": {\"data\": {\"bar\": [{\"error_x\": {\"color\": \"#2a3f5f\"}, \"error_y\": {\"color\": \"#2a3f5f\"}, \"marker\": {\"line\": {\"color\": \"#E5ECF6\", \"width\": 0.5}}, \"type\": \"bar\"}], \"barpolar\": [{\"marker\": {\"line\": {\"color\": \"#E5ECF6\", \"width\": 0.5}}, \"type\": \"barpolar\"}], \"carpet\": [{\"aaxis\": {\"endlinecolor\": \"#2a3f5f\", \"gridcolor\": \"white\", \"linecolor\": \"white\", \"minorgridcolor\": \"white\", \"startlinecolor\": \"#2a3f5f\"}, \"baxis\": {\"endlinecolor\": \"#2a3f5f\", \"gridcolor\": \"white\", \"linecolor\": \"white\", \"minorgridcolor\": \"white\", \"startlinecolor\": \"#2a3f5f\"}, \"type\": \"carpet\"}], \"choropleth\": [{\"colorbar\": {\"outlinewidth\": 0, \"ticks\": \"\"}, \"type\": \"choropleth\"}], \"contour\": [{\"colorbar\": {\"outlinewidth\": 0, \"ticks\": \"\"}, \"colorscale\": [[0.0, \"#0d0887\"], [0.1111111111111111, \"#46039f\"], [0.2222222222222222, \"#7201a8\"], [0.3333333333333333, \"#9c179e\"], [0.4444444444444444, \"#bd3786\"], [0.5555555555555556, \"#d8576b\"], [0.6666666666666666, \"#ed7953\"], [0.7777777777777778, \"#fb9f3a\"], [0.8888888888888888, \"#fdca26\"], [1.0, \"#f0f921\"]], \"type\": \"contour\"}], \"contourcarpet\": [{\"colorbar\": {\"outlinewidth\": 0, \"ticks\": \"\"}, \"type\": \"contourcarpet\"}], \"heatmap\": [{\"colorbar\": {\"outlinewidth\": 0, \"ticks\": \"\"}, \"colorscale\": [[0.0, \"#0d0887\"], [0.1111111111111111, \"#46039f\"], [0.2222222222222222, \"#7201a8\"], [0.3333333333333333, \"#9c179e\"], [0.4444444444444444, \"#bd3786\"], [0.5555555555555556, \"#d8576b\"], [0.6666666666666666, \"#ed7953\"], [0.7777777777777778, \"#fb9f3a\"], [0.8888888888888888, \"#fdca26\"], [1.0, \"#f0f921\"]], \"type\": \"heatmap\"}], \"heatmapgl\": [{\"colorbar\": {\"outlinewidth\": 0, \"ticks\": \"\"}, \"colorscale\": [[0.0, \"#0d0887\"], [0.1111111111111111, \"#46039f\"], [0.2222222222222222, \"#7201a8\"], [0.3333333333333333, \"#9c179e\"], [0.4444444444444444, \"#bd3786\"], [0.5555555555555556, \"#d8576b\"], [0.6666666666666666, \"#ed7953\"], [0.7777777777777778, \"#fb9f3a\"], [0.8888888888888888, \"#fdca26\"], [1.0, \"#f0f921\"]], \"type\": \"heatmapgl\"}], \"histogram\": [{\"marker\": {\"colorbar\": {\"outlinewidth\": 0, \"ticks\": \"\"}}, \"type\": \"histogram\"}], \"histogram2d\": [{\"colorbar\": {\"outlinewidth\": 0, \"ticks\": \"\"}, \"colorscale\": [[0.0, \"#0d0887\"], [0.1111111111111111, \"#46039f\"], [0.2222222222222222, \"#7201a8\"], [0.3333333333333333, \"#9c179e\"], [0.4444444444444444, \"#bd3786\"], [0.5555555555555556, \"#d8576b\"], [0.6666666666666666, \"#ed7953\"], [0.7777777777777778, \"#fb9f3a\"], [0.8888888888888888, \"#fdca26\"], [1.0, \"#f0f921\"]], \"type\": \"histogram2d\"}], \"histogram2dcontour\": [{\"colorbar\": {\"outlinewidth\": 0, \"ticks\": \"\"}, \"colorscale\": [[0.0, \"#0d0887\"], [0.1111111111111111, \"#46039f\"], [0.2222222222222222, \"#7201a8\"], [0.3333333333333333, \"#9c179e\"], [0.4444444444444444, \"#bd3786\"], [0.5555555555555556, \"#d8576b\"], [0.6666666666666666, \"#ed7953\"], [0.7777777777777778, \"#fb9f3a\"], [0.8888888888888888, \"#fdca26\"], [1.0, \"#f0f921\"]], \"type\": \"histogram2dcontour\"}], \"mesh3d\": [{\"colorbar\": {\"outlinewidth\": 0, \"ticks\": \"\"}, \"type\": \"mesh3d\"}], \"parcoords\": [{\"line\": {\"colorbar\": {\"outlinewidth\": 0, \"ticks\": \"\"}}, \"type\": \"parcoords\"}], \"pie\": [{\"automargin\": true, \"type\": \"pie\"}], \"scatter\": [{\"marker\": {\"colorbar\": {\"outlinewidth\": 0, \"ticks\": \"\"}}, \"type\": \"scatter\"}], \"scatter3d\": [{\"line\": {\"colorbar\": {\"outlinewidth\": 0, \"ticks\": \"\"}}, \"marker\": {\"colorbar\": {\"outlinewidth\": 0, \"ticks\": \"\"}}, \"type\": \"scatter3d\"}], \"scattercarpet\": [{\"marker\": {\"colorbar\": {\"outlinewidth\": 0, \"ticks\": \"\"}}, \"type\": \"scattercarpet\"}], \"scattergeo\": [{\"marker\": {\"colorbar\": {\"outlinewidth\": 0, \"ticks\": \"\"}}, \"type\": \"scattergeo\"}], \"scattergl\": [{\"marker\": {\"colorbar\": {\"outlinewidth\": 0, \"ticks\": \"\"}}, \"type\": \"scattergl\"}], \"scattermapbox\": [{\"marker\": {\"colorbar\": {\"outlinewidth\": 0, \"ticks\": \"\"}}, \"type\": \"scattermapbox\"}], \"scatterpolar\": [{\"marker\": {\"colorbar\": {\"outlinewidth\": 0, \"ticks\": \"\"}}, \"type\": \"scatterpolar\"}], \"scatterpolargl\": [{\"marker\": {\"colorbar\": {\"outlinewidth\": 0, \"ticks\": \"\"}}, \"type\": \"scatterpolargl\"}], \"scatterternary\": [{\"marker\": {\"colorbar\": {\"outlinewidth\": 0, \"ticks\": \"\"}}, \"type\": \"scatterternary\"}], \"surface\": [{\"colorbar\": {\"outlinewidth\": 0, \"ticks\": \"\"}, \"colorscale\": [[0.0, \"#0d0887\"], [0.1111111111111111, \"#46039f\"], [0.2222222222222222, \"#7201a8\"], [0.3333333333333333, \"#9c179e\"], [0.4444444444444444, \"#bd3786\"], [0.5555555555555556, \"#d8576b\"], [0.6666666666666666, \"#ed7953\"], [0.7777777777777778, \"#fb9f3a\"], [0.8888888888888888, \"#fdca26\"], [1.0, \"#f0f921\"]], \"type\": \"surface\"}], \"table\": [{\"cells\": {\"fill\": {\"color\": \"#EBF0F8\"}, \"line\": {\"color\": \"white\"}}, \"header\": {\"fill\": {\"color\": \"#C8D4E3\"}, \"line\": {\"color\": \"white\"}}, \"type\": \"table\"}]}, \"layout\": {\"annotationdefaults\": {\"arrowcolor\": \"#2a3f5f\", \"arrowhead\": 0, \"arrowwidth\": 1}, \"coloraxis\": {\"colorbar\": {\"outlinewidth\": 0, \"ticks\": \"\"}}, \"colorscale\": {\"diverging\": [[0, \"#8e0152\"], [0.1, \"#c51b7d\"], [0.2, \"#de77ae\"], [0.3, \"#f1b6da\"], [0.4, \"#fde0ef\"], [0.5, \"#f7f7f7\"], [0.6, \"#e6f5d0\"], [0.7, \"#b8e186\"], [0.8, \"#7fbc41\"], [0.9, \"#4d9221\"], [1, \"#276419\"]], \"sequential\": [[0.0, \"#0d0887\"], [0.1111111111111111, \"#46039f\"], [0.2222222222222222, \"#7201a8\"], [0.3333333333333333, \"#9c179e\"], [0.4444444444444444, \"#bd3786\"], [0.5555555555555556, \"#d8576b\"], [0.6666666666666666, \"#ed7953\"], [0.7777777777777778, \"#fb9f3a\"], [0.8888888888888888, \"#fdca26\"], [1.0, \"#f0f921\"]], \"sequentialminus\": [[0.0, \"#0d0887\"], [0.1111111111111111, \"#46039f\"], [0.2222222222222222, \"#7201a8\"], [0.3333333333333333, \"#9c179e\"], [0.4444444444444444, \"#bd3786\"], [0.5555555555555556, \"#d8576b\"], [0.6666666666666666, \"#ed7953\"], [0.7777777777777778, \"#fb9f3a\"], [0.8888888888888888, \"#fdca26\"], [1.0, \"#f0f921\"]]}, \"colorway\": [\"#636efa\", \"#EF553B\", \"#00cc96\", \"#ab63fa\", \"#FFA15A\", \"#19d3f3\", \"#FF6692\", \"#B6E880\", \"#FF97FF\", \"#FECB52\"], \"font\": {\"color\": \"#2a3f5f\"}, \"geo\": {\"bgcolor\": \"white\", \"lakecolor\": \"white\", \"landcolor\": \"#E5ECF6\", \"showlakes\": true, \"showland\": true, \"subunitcolor\": \"white\"}, \"hoverlabel\": {\"align\": \"left\"}, \"hovermode\": \"closest\", \"mapbox\": {\"style\": \"light\"}, \"paper_bgcolor\": \"white\", \"plot_bgcolor\": \"#E5ECF6\", \"polar\": {\"angularaxis\": {\"gridcolor\": \"white\", \"linecolor\": \"white\", \"ticks\": \"\"}, \"bgcolor\": \"#E5ECF6\", \"radialaxis\": {\"gridcolor\": \"white\", \"linecolor\": \"white\", \"ticks\": \"\"}}, \"scene\": {\"xaxis\": {\"backgroundcolor\": \"#E5ECF6\", \"gridcolor\": \"white\", \"gridwidth\": 2, \"linecolor\": \"white\", \"showbackground\": true, \"ticks\": \"\", \"zerolinecolor\": \"white\"}, \"yaxis\": {\"backgroundcolor\": \"#E5ECF6\", \"gridcolor\": \"white\", \"gridwidth\": 2, \"linecolor\": \"white\", \"showbackground\": true, \"ticks\": \"\", \"zerolinecolor\": \"white\"}, \"zaxis\": {\"backgroundcolor\": \"#E5ECF6\", \"gridcolor\": \"white\", \"gridwidth\": 2, \"linecolor\": \"white\", \"showbackground\": true, \"ticks\": \"\", \"zerolinecolor\": \"white\"}}, \"shapedefaults\": {\"line\": {\"color\": \"#2a3f5f\"}}, \"ternary\": {\"aaxis\": {\"gridcolor\": \"white\", \"linecolor\": \"white\", \"ticks\": \"\"}, \"baxis\": {\"gridcolor\": \"white\", \"linecolor\": \"white\", \"ticks\": \"\"}, \"bgcolor\": \"#E5ECF6\", \"caxis\": {\"gridcolor\": \"white\", \"linecolor\": \"white\", \"ticks\": \"\"}}, \"title\": {\"x\": 0.05}, \"xaxis\": {\"automargin\": true, \"gridcolor\": \"white\", \"linecolor\": \"white\", \"ticks\": \"\", \"title\": {\"standoff\": 15}, \"zerolinecolor\": \"white\", \"zerolinewidth\": 2}, \"yaxis\": {\"automargin\": true, \"gridcolor\": \"white\", \"linecolor\": \"white\", \"ticks\": \"\", \"title\": {\"standoff\": 15}, \"zerolinecolor\": \"white\", \"zerolinewidth\": 2}}}, \"title\": {\"text\": \"Device Plots\", \"x\": 0.5}, \"width\": 1300, \"xaxis\": {\"anchor\": \"y\", \"domain\": [0.0, 0.26666666666666666]}, \"xaxis2\": {\"anchor\": \"y2\", \"domain\": [0.3666666666666667, 0.6333333333333333]}, \"xaxis3\": {\"anchor\": \"y3\", \"domain\": [0.7333333333333334, 1.0]}, \"xaxis4\": {\"anchor\": \"y4\", \"domain\": [0.0, 0.26666666666666666]}, \"xaxis5\": {\"anchor\": \"y5\", \"domain\": [0.3666666666666667, 0.6333333333333333]}, \"xaxis6\": {\"anchor\": \"y6\", \"domain\": [0.7333333333333334, 1.0]}, \"xaxis7\": {\"anchor\": \"y7\", \"domain\": [0.0, 0.26666666666666666], \"title\": {\"text\": \"Total Visits\"}}, \"xaxis8\": {\"anchor\": \"y8\", \"domain\": [0.3666666666666667, 0.6333333333333333], \"title\": {\"text\": \"Non-zero Revenue Visits\"}}, \"xaxis9\": {\"anchor\": \"y9\", \"domain\": [0.7333333333333334, 1.0], \"title\": {\"text\": \"Mean Revenue\"}}, \"yaxis\": {\"anchor\": \"x\", \"domain\": [0.7, 1.0], \"title\": {\"text\": \"Browser\"}}, \"yaxis2\": {\"anchor\": \"x2\", \"domain\": [0.7, 1.0]}, \"yaxis3\": {\"anchor\": \"x3\", \"domain\": [0.7, 1.0]}, \"yaxis4\": {\"anchor\": \"x4\", \"domain\": [0.35, 0.6499999999999999], \"title\": {\"text\": \"Category\"}}, \"yaxis5\": {\"anchor\": \"x5\", \"domain\": [0.35, 0.6499999999999999]}, \"yaxis6\": {\"anchor\": \"x6\", \"domain\": [0.35, 0.6499999999999999]}, \"yaxis7\": {\"anchor\": \"x7\", \"domain\": [0.0, 0.3], \"title\": {\"text\": \"OS\"}}, \"yaxis8\": {\"anchor\": \"x8\", \"domain\": [0.0, 0.3]}, \"yaxis9\": {\"anchor\": \"x9\", \"domain\": [0.0, 0.3]}},\n",
              "                        {\"responsive\": true}\n",
              "                    ).then(function(){\n",
              "                            \n",
              "var gd = document.getElementById('75eaeb29-734c-43ca-8334-4fad3469ccb0');\n",
              "var x = new MutationObserver(function (mutations, observer) {{\n",
              "        var display = window.getComputedStyle(gd).display;\n",
              "        if (!display || display === 'none') {{\n",
              "            console.log([gd, 'removed!']);\n",
              "            Plotly.purge(gd);\n",
              "            observer.disconnect();\n",
              "        }}\n",
              "}});\n",
              "\n",
              "// Listen for the removal of the full notebook cells\n",
              "var notebookContainer = gd.closest('#notebook-container');\n",
              "if (notebookContainer) {{\n",
              "    x.observe(notebookContainer, {childList: true});\n",
              "}}\n",
              "\n",
              "// Listen for the clearing of the current output cell\n",
              "var outputEl = gd.closest('.output');\n",
              "if (outputEl) {{\n",
              "    x.observe(outputEl, {childList: true});\n",
              "}}\n",
              "\n",
              "                        })\n",
              "                };\n",
              "                \n",
              "            </script>\n",
              "        </div>\n",
              "</body>\n",
              "</html>"
            ]
          },
          "metadata": {
            "tags": []
          }
        }
      ]
    },
    {
      "cell_type": "markdown",
      "metadata": {
        "id": "81ZKZkuV1WOI"
      },
      "source": [
        "Some findings:\n",
        "\n",
        "1.   For device features, the rankings of total visits, non-zero revenue visits and mean revenue among top values were roughly consistent.\n",
        "2.   Firefox was the third most used browser but had the highest mean revenue of nearly three times higher than the second (Chrome).\n",
        "3.   Macintosh was less often used than Windows among all visits but most non-zero revenue visits used Macintosh.\n",
        "4.   Chrome OS visits had the highest mean revenue.\n",
        "\n",
        "\n",
        "\n"
      ]
    },
    {
      "cell_type": "markdown",
      "metadata": {
        "id": "uxpCGKcmxpFF"
      },
      "source": [
        "<br>Geography plots:<br><br>"
      ]
    },
    {
      "cell_type": "code",
      "metadata": {
        "colab": {
          "base_uri": "https://localhost:8080/",
          "height": 1000
        },
        "id": "u3sUe36hxuKK",
        "outputId": "2ba11fae-0e6c-4ee8-e057-8e805a73452f"
      },
      "source": [
        "# Continent\n",
        "gdf = grouped_df('geoNetwork.continent')\n",
        "trace1 = horizontal_bar_chart(gdf[\"count\"].head(10), blues[5])\n",
        "trace2 = horizontal_bar_chart(gdf[\"count of non-zero revenue\"].head(10), blues[5])\n",
        "trace3 = horizontal_bar_chart(gdf[\"mean\"].head(10), blues[5])\n",
        "\n",
        "# Sub-continent\n",
        "gdf = grouped_df('geoNetwork.subContinent')\n",
        "trace4 = horizontal_bar_chart(gdf[\"count\"].head(10), greens[5])\n",
        "trace5 = horizontal_bar_chart(gdf[\"count of non-zero revenue\"].head(10), greens[5])\n",
        "trace6 = horizontal_bar_chart(gdf[\"mean\"].head(10), greens[5])\n",
        "\n",
        "# Country\n",
        "gdf = grouped_df('geoNetwork.country')\n",
        "trace7 = horizontal_bar_chart(gdf[\"count\"].head(10), peach[5])\n",
        "trace8 = horizontal_bar_chart(gdf[\"count of non-zero revenue\"].head(10), peach[5])\n",
        "trace9 = horizontal_bar_chart(gdf[\"mean\"].head(10), peach[5])\n",
        "\n",
        "# Network Domain\n",
        "gdf = grouped_df('geoNetwork.networkDomain')\n",
        "trace10 = horizontal_bar_chart(gdf[\"count\"].head(10), purples[5])\n",
        "trace11 = horizontal_bar_chart(gdf[\"count of non-zero revenue\"].head(10), purples[5])\n",
        "trace12 = horizontal_bar_chart(gdf[\"mean\"].head(10), purples[5])\n",
        "\n",
        "fig = make_subplots(rows=4, cols=3, vertical_spacing=0.04, horizontal_spacing=0.12)\n",
        "\n",
        "fig.append_trace(trace1, 1, 1)\n",
        "fig.append_trace(trace2, 1, 2)\n",
        "fig.append_trace(trace3, 1, 3)\n",
        "fig.append_trace(trace4, 2, 1)\n",
        "fig.append_trace(trace5, 2, 2)\n",
        "fig.append_trace(trace6, 2, 3)\n",
        "fig.append_trace(trace7, 3, 1)\n",
        "fig.append_trace(trace8, 3, 2)\n",
        "fig.append_trace(trace9, 3, 3)\n",
        "fig.append_trace(trace10,4, 1)\n",
        "fig.append_trace(trace11,4, 2)\n",
        "fig.append_trace(trace12,4, 3)\n",
        "\n",
        "# Update xaxis properties\n",
        "fig.update_xaxes(title_text=\"Total Visits\", row=4, col=1)\n",
        "fig.update_xaxes(title_text=\"Non-zero Revenue Visits\", row=4, col=2)\n",
        "fig.update_xaxes(title_text=\"Mean Revenue\", row=4, col=3)\n",
        "\n",
        "# Update yaxis properties\n",
        "fig.update_yaxes(title_text=\"Continent\", row=1, col=1)\n",
        "fig.update_yaxes(title_text=\"Subcontinent\", row=2, col=1)\n",
        "fig.update_yaxes(title_text=\"Country\", row=3, col=1)\n",
        "fig.update_yaxes(title_text=\"Network Domain\", row=4, col=1)\n",
        "\n",
        "fig.update_layout(height=1000, width=1200, title=dict(text='Geography Plots', x=0.5))\n",
        "fig.show()"
      ],
      "execution_count": null,
      "outputs": [
        {
          "output_type": "display_data",
          "data": {
            "text/html": [
              "<html>\n",
              "<head><meta charset=\"utf-8\" /></head>\n",
              "<body>\n",
              "    <div>\n",
              "            <script src=\"https://cdnjs.cloudflare.com/ajax/libs/mathjax/2.7.5/MathJax.js?config=TeX-AMS-MML_SVG\"></script><script type=\"text/javascript\">if (window.MathJax) {MathJax.Hub.Config({SVG: {font: \"STIX-Web\"}});}</script>\n",
              "                <script type=\"text/javascript\">window.PlotlyConfig = {MathJaxConfig: 'local'};</script>\n",
              "        <script src=\"https://cdn.plot.ly/plotly-latest.min.js\"></script>    \n",
              "            <div id=\"db12abad-2d76-4e37-b403-cd780a3fb850\" class=\"plotly-graph-div\" style=\"height:1000px; width:1200px;\"></div>\n",
              "            <script type=\"text/javascript\">\n",
              "                \n",
              "                    window.PLOTLYENV=window.PLOTLYENV || {};\n",
              "                    \n",
              "                if (document.getElementById(\"db12abad-2d76-4e37-b403-cd780a3fb850\")) {\n",
              "                    Plotly.newPlot(\n",
              "                        'db12abad-2d76-4e37-b403-cd780a3fb850',\n",
              "                        [{\"marker\": {\"color\": \"rgb(66,146,198)\"}, \"orientation\": \"h\", \"showlegend\": false, \"type\": \"bar\", \"x\": [1468, 14745, 15054, 198311, 223698, 450377], \"xaxis\": \"x\", \"y\": [\"(not set)\", \"Africa\", \"Oceania\", \"Europe\", \"Asia\", \"Americas\"], \"yaxis\": \"y\"}, {\"marker\": {\"color\": \"rgb(66,146,198)\"}, \"orientation\": \"h\", \"showlegend\": false, \"type\": \"bar\", \"x\": [6, 8, 14, 79, 125, 11283], \"xaxis\": \"x2\", \"y\": [\"(not set)\", \"Africa\", \"Oceania\", \"Europe\", \"Asia\", \"Americas\"], \"yaxis\": \"y2\"}, {\"marker\": {\"color\": \"rgb(66,146,198)\"}, \"orientation\": \"h\", \"showlegend\": false, \"type\": \"bar\", \"x\": [128296666.66666667, 1085970000.0, 128087857.14285715, 85405443.03797469, 139214720.0, 133357404.94549322], \"xaxis\": \"x3\", \"y\": [\"(not set)\", \"Africa\", \"Oceania\", \"Europe\", \"Asia\", \"Americas\"], \"yaxis\": \"y3\"}, {\"marker\": {\"color\": \"rgb(65,171,93)\"}, \"orientation\": \"h\", \"showlegend\": false, \"type\": \"bar\", \"x\": [35780, 38443, 41731, 45249, 46919, 58168, 59114, 59321, 77800, 390657], \"xaxis\": \"x4\", \"y\": [\"Southern Europe\", \"Western Asia\", \"South America\", \"Eastern Europe\", \"Eastern Asia\", \"Northern Europe\", \"Western Europe\", \"Southern Asia\", \"Southeast Asia\", \"Northern America\"], \"yaxis\": \"y4\"}, {\"marker\": {\"color\": \"rgb(65,171,93)\"}, \"orientation\": \"h\", \"showlegend\": false, \"type\": \"bar\", \"x\": [8, 21, 98, 14, 59, 27, 30, 11, 32, 11143], \"xaxis\": \"x5\", \"y\": [\"Southern Europe\", \"Western Asia\", \"South America\", \"Eastern Europe\", \"Eastern Asia\", \"Northern Europe\", \"Western Europe\", \"Southern Asia\", \"Southeast Asia\", \"Northern America\"], \"yaxis\": \"y5\"}, {\"marker\": {\"color\": \"rgb(65,171,93)\"}, \"orientation\": \"h\", \"showlegend\": false, \"type\": \"bar\", \"x\": [120501250.0, 84811428.57142857, 162625612.24489796, 67628571.42857143, 187715593.22033897, 73847407.4074074, 94744666.66666667, 68600909.0909091, 117374687.5, 133291321.00870502], \"xaxis\": \"x6\", \"y\": [\"Southern Europe\", \"Western Asia\", \"South America\", \"Eastern Europe\", \"Eastern Asia\", \"Northern Europe\", \"Western Europe\", \"Southern Asia\", \"Southeast Asia\", \"Northern America\"], \"yaxis\": \"y6\"}, {\"marker\": {\"color\": \"rgb(239, 106, 76)\"}, \"orientation\": \"h\", \"showlegend\": false, \"type\": \"bar\", \"x\": [19731, 19783, 19980, 20123, 20522, 24598, 25869, 37393, 51140, 364744], \"xaxis\": \"x7\", \"y\": [\"Japan\", \"Brazil\", \"Germany\", \"Thailand\", \"Turkey\", \"Vietnam\", \"Canada\", \"United Kingdom\", \"India\", \"United States\"], \"yaxis\": \"y7\"}, {\"marker\": {\"color\": \"rgb(239, 106, 76)\"}, \"orientation\": \"h\", \"showlegend\": false, \"type\": \"bar\", \"x\": [17, 10, 8, 5, 2, 0, 190, 16, 10, 10953], \"xaxis\": \"x8\", \"y\": [\"Japan\", \"Brazil\", \"Germany\", \"Thailand\", \"Turkey\", \"Vietnam\", \"Canada\", \"United Kingdom\", \"India\", \"United States\"], \"yaxis\": \"y8\"}, {\"marker\": {\"color\": \"rgb(239, 106, 76)\"}, \"orientation\": \"h\", \"showlegend\": false, \"type\": \"bar\", \"x\": [395822941.1764706, 64183000.0, 68667500.0, 92542000.0, 51205000.0, null, 172760736.84210527, 105590625.0, 69666000.0, 132606651.14580481], \"xaxis\": \"x9\", \"y\": [\"Japan\", \"Brazil\", \"Germany\", \"Thailand\", \"Turkey\", \"Vietnam\", \"Canada\", \"United Kingdom\", \"India\", \"United States\"], \"yaxis\": \"y9\"}, {\"marker\": {\"color\": \"rgb(128,125,186)\"}, \"orientation\": \"h\", \"showlegend\": false, \"type\": \"bar\", \"x\": [6046, 6414, 7919, 9985, 13228, 13637, 14827, 28743, 146034, 244881], \"xaxis\": \"x10\", \"y\": [\"3bb.co.th\", \"virginm.net\", \"hinet.net\", \"comcastbusiness.net\", \"ttnet.com.tr\", \"verizon.net\", \"rr.com\", \"comcast.net\", \"unknown.unknown\", \"(not set)\"], \"yaxis\": \"y10\"}, {\"marker\": {\"color\": \"rgb(128,125,186)\"}, \"orientation\": \"h\", \"showlegend\": false, \"type\": \"bar\", \"x\": [1, 1, 11, 294, 1, 469, 364, 934, 400, 6645], \"xaxis\": \"x11\", \"y\": [\"3bb.co.th\", \"virginm.net\", \"hinet.net\", \"comcastbusiness.net\", \"ttnet.com.tr\", \"verizon.net\", \"rr.com\", \"comcast.net\", \"unknown.unknown\", \"(not set)\"], \"yaxis\": \"y11\"}, {\"marker\": {\"color\": \"rgb(128,125,186)\"}, \"orientation\": \"h\", \"showlegend\": false, \"type\": \"bar\", \"x\": [140590000.0, 62270000.0, 60891818.18181818, 497096632.6530612, 17460000.0, 112833624.73347548, 82780714.28571428, 131873201.28479658, 87253850.0, 127654487.58465011], \"xaxis\": \"x12\", \"y\": [\"3bb.co.th\", \"virginm.net\", \"hinet.net\", \"comcastbusiness.net\", \"ttnet.com.tr\", \"verizon.net\", \"rr.com\", \"comcast.net\", \"unknown.unknown\", \"(not set)\"], \"yaxis\": \"y12\"}],\n",
              "                        {\"height\": 1000, \"template\": {\"data\": {\"bar\": [{\"error_x\": {\"color\": \"#2a3f5f\"}, \"error_y\": {\"color\": \"#2a3f5f\"}, \"marker\": {\"line\": {\"color\": \"#E5ECF6\", \"width\": 0.5}}, \"type\": \"bar\"}], \"barpolar\": [{\"marker\": {\"line\": {\"color\": \"#E5ECF6\", \"width\": 0.5}}, \"type\": \"barpolar\"}], \"carpet\": [{\"aaxis\": {\"endlinecolor\": \"#2a3f5f\", \"gridcolor\": \"white\", \"linecolor\": \"white\", \"minorgridcolor\": \"white\", \"startlinecolor\": \"#2a3f5f\"}, \"baxis\": {\"endlinecolor\": \"#2a3f5f\", \"gridcolor\": \"white\", \"linecolor\": \"white\", \"minorgridcolor\": \"white\", \"startlinecolor\": \"#2a3f5f\"}, \"type\": \"carpet\"}], \"choropleth\": [{\"colorbar\": {\"outlinewidth\": 0, \"ticks\": \"\"}, \"type\": \"choropleth\"}], \"contour\": [{\"colorbar\": {\"outlinewidth\": 0, \"ticks\": \"\"}, \"colorscale\": [[0.0, \"#0d0887\"], [0.1111111111111111, \"#46039f\"], [0.2222222222222222, \"#7201a8\"], [0.3333333333333333, \"#9c179e\"], [0.4444444444444444, \"#bd3786\"], [0.5555555555555556, \"#d8576b\"], [0.6666666666666666, \"#ed7953\"], [0.7777777777777778, \"#fb9f3a\"], [0.8888888888888888, \"#fdca26\"], [1.0, \"#f0f921\"]], \"type\": \"contour\"}], \"contourcarpet\": [{\"colorbar\": {\"outlinewidth\": 0, \"ticks\": \"\"}, \"type\": \"contourcarpet\"}], \"heatmap\": [{\"colorbar\": {\"outlinewidth\": 0, \"ticks\": \"\"}, \"colorscale\": [[0.0, \"#0d0887\"], [0.1111111111111111, \"#46039f\"], [0.2222222222222222, \"#7201a8\"], [0.3333333333333333, \"#9c179e\"], [0.4444444444444444, \"#bd3786\"], [0.5555555555555556, \"#d8576b\"], [0.6666666666666666, \"#ed7953\"], [0.7777777777777778, \"#fb9f3a\"], [0.8888888888888888, \"#fdca26\"], [1.0, \"#f0f921\"]], \"type\": \"heatmap\"}], \"heatmapgl\": [{\"colorbar\": {\"outlinewidth\": 0, \"ticks\": \"\"}, \"colorscale\": [[0.0, \"#0d0887\"], [0.1111111111111111, \"#46039f\"], [0.2222222222222222, \"#7201a8\"], [0.3333333333333333, \"#9c179e\"], [0.4444444444444444, \"#bd3786\"], [0.5555555555555556, \"#d8576b\"], [0.6666666666666666, \"#ed7953\"], [0.7777777777777778, \"#fb9f3a\"], [0.8888888888888888, \"#fdca26\"], [1.0, \"#f0f921\"]], \"type\": \"heatmapgl\"}], \"histogram\": [{\"marker\": {\"colorbar\": {\"outlinewidth\": 0, \"ticks\": \"\"}}, \"type\": \"histogram\"}], \"histogram2d\": [{\"colorbar\": {\"outlinewidth\": 0, \"ticks\": \"\"}, \"colorscale\": [[0.0, \"#0d0887\"], [0.1111111111111111, \"#46039f\"], [0.2222222222222222, \"#7201a8\"], [0.3333333333333333, \"#9c179e\"], [0.4444444444444444, \"#bd3786\"], [0.5555555555555556, \"#d8576b\"], [0.6666666666666666, \"#ed7953\"], [0.7777777777777778, \"#fb9f3a\"], [0.8888888888888888, \"#fdca26\"], [1.0, \"#f0f921\"]], \"type\": \"histogram2d\"}], \"histogram2dcontour\": [{\"colorbar\": {\"outlinewidth\": 0, \"ticks\": \"\"}, \"colorscale\": [[0.0, \"#0d0887\"], [0.1111111111111111, \"#46039f\"], [0.2222222222222222, \"#7201a8\"], [0.3333333333333333, \"#9c179e\"], [0.4444444444444444, \"#bd3786\"], [0.5555555555555556, \"#d8576b\"], [0.6666666666666666, \"#ed7953\"], [0.7777777777777778, \"#fb9f3a\"], [0.8888888888888888, \"#fdca26\"], [1.0, \"#f0f921\"]], \"type\": \"histogram2dcontour\"}], \"mesh3d\": [{\"colorbar\": {\"outlinewidth\": 0, \"ticks\": \"\"}, \"type\": \"mesh3d\"}], \"parcoords\": [{\"line\": {\"colorbar\": {\"outlinewidth\": 0, \"ticks\": \"\"}}, \"type\": \"parcoords\"}], \"pie\": [{\"automargin\": true, \"type\": \"pie\"}], \"scatter\": [{\"marker\": {\"colorbar\": {\"outlinewidth\": 0, \"ticks\": \"\"}}, \"type\": \"scatter\"}], \"scatter3d\": [{\"line\": {\"colorbar\": {\"outlinewidth\": 0, \"ticks\": \"\"}}, \"marker\": {\"colorbar\": {\"outlinewidth\": 0, \"ticks\": \"\"}}, \"type\": \"scatter3d\"}], \"scattercarpet\": [{\"marker\": {\"colorbar\": {\"outlinewidth\": 0, \"ticks\": \"\"}}, \"type\": \"scattercarpet\"}], \"scattergeo\": [{\"marker\": {\"colorbar\": {\"outlinewidth\": 0, \"ticks\": \"\"}}, \"type\": \"scattergeo\"}], \"scattergl\": [{\"marker\": {\"colorbar\": {\"outlinewidth\": 0, \"ticks\": \"\"}}, \"type\": \"scattergl\"}], \"scattermapbox\": [{\"marker\": {\"colorbar\": {\"outlinewidth\": 0, \"ticks\": \"\"}}, \"type\": \"scattermapbox\"}], \"scatterpolar\": [{\"marker\": {\"colorbar\": {\"outlinewidth\": 0, \"ticks\": \"\"}}, \"type\": \"scatterpolar\"}], \"scatterpolargl\": [{\"marker\": {\"colorbar\": {\"outlinewidth\": 0, \"ticks\": \"\"}}, \"type\": \"scatterpolargl\"}], \"scatterternary\": [{\"marker\": {\"colorbar\": {\"outlinewidth\": 0, \"ticks\": \"\"}}, \"type\": \"scatterternary\"}], \"surface\": [{\"colorbar\": {\"outlinewidth\": 0, \"ticks\": \"\"}, \"colorscale\": [[0.0, \"#0d0887\"], [0.1111111111111111, \"#46039f\"], [0.2222222222222222, \"#7201a8\"], [0.3333333333333333, \"#9c179e\"], [0.4444444444444444, \"#bd3786\"], [0.5555555555555556, \"#d8576b\"], [0.6666666666666666, \"#ed7953\"], [0.7777777777777778, \"#fb9f3a\"], [0.8888888888888888, \"#fdca26\"], [1.0, \"#f0f921\"]], \"type\": \"surface\"}], \"table\": [{\"cells\": {\"fill\": {\"color\": \"#EBF0F8\"}, \"line\": {\"color\": \"white\"}}, \"header\": {\"fill\": {\"color\": \"#C8D4E3\"}, \"line\": {\"color\": \"white\"}}, \"type\": \"table\"}]}, \"layout\": {\"annotationdefaults\": {\"arrowcolor\": \"#2a3f5f\", \"arrowhead\": 0, \"arrowwidth\": 1}, \"coloraxis\": {\"colorbar\": {\"outlinewidth\": 0, \"ticks\": \"\"}}, \"colorscale\": {\"diverging\": [[0, \"#8e0152\"], [0.1, \"#c51b7d\"], [0.2, \"#de77ae\"], [0.3, \"#f1b6da\"], [0.4, \"#fde0ef\"], [0.5, \"#f7f7f7\"], [0.6, \"#e6f5d0\"], [0.7, \"#b8e186\"], [0.8, \"#7fbc41\"], [0.9, \"#4d9221\"], [1, \"#276419\"]], \"sequential\": [[0.0, \"#0d0887\"], [0.1111111111111111, \"#46039f\"], [0.2222222222222222, \"#7201a8\"], [0.3333333333333333, \"#9c179e\"], [0.4444444444444444, \"#bd3786\"], [0.5555555555555556, \"#d8576b\"], [0.6666666666666666, \"#ed7953\"], [0.7777777777777778, \"#fb9f3a\"], [0.8888888888888888, \"#fdca26\"], [1.0, \"#f0f921\"]], \"sequentialminus\": [[0.0, \"#0d0887\"], [0.1111111111111111, \"#46039f\"], [0.2222222222222222, \"#7201a8\"], [0.3333333333333333, \"#9c179e\"], [0.4444444444444444, \"#bd3786\"], [0.5555555555555556, \"#d8576b\"], [0.6666666666666666, \"#ed7953\"], [0.7777777777777778, \"#fb9f3a\"], [0.8888888888888888, \"#fdca26\"], [1.0, \"#f0f921\"]]}, \"colorway\": [\"#636efa\", \"#EF553B\", \"#00cc96\", \"#ab63fa\", \"#FFA15A\", \"#19d3f3\", \"#FF6692\", \"#B6E880\", \"#FF97FF\", \"#FECB52\"], \"font\": {\"color\": \"#2a3f5f\"}, \"geo\": {\"bgcolor\": \"white\", \"lakecolor\": \"white\", \"landcolor\": \"#E5ECF6\", \"showlakes\": true, \"showland\": true, \"subunitcolor\": \"white\"}, \"hoverlabel\": {\"align\": \"left\"}, \"hovermode\": \"closest\", \"mapbox\": {\"style\": \"light\"}, \"paper_bgcolor\": \"white\", \"plot_bgcolor\": \"#E5ECF6\", \"polar\": {\"angularaxis\": {\"gridcolor\": \"white\", \"linecolor\": \"white\", \"ticks\": \"\"}, \"bgcolor\": \"#E5ECF6\", \"radialaxis\": {\"gridcolor\": \"white\", \"linecolor\": \"white\", \"ticks\": \"\"}}, \"scene\": {\"xaxis\": {\"backgroundcolor\": \"#E5ECF6\", \"gridcolor\": \"white\", \"gridwidth\": 2, \"linecolor\": \"white\", \"showbackground\": true, \"ticks\": \"\", \"zerolinecolor\": \"white\"}, \"yaxis\": {\"backgroundcolor\": \"#E5ECF6\", \"gridcolor\": \"white\", \"gridwidth\": 2, \"linecolor\": \"white\", \"showbackground\": true, \"ticks\": \"\", \"zerolinecolor\": \"white\"}, \"zaxis\": {\"backgroundcolor\": \"#E5ECF6\", \"gridcolor\": \"white\", \"gridwidth\": 2, \"linecolor\": \"white\", \"showbackground\": true, \"ticks\": \"\", \"zerolinecolor\": \"white\"}}, \"shapedefaults\": {\"line\": {\"color\": \"#2a3f5f\"}}, \"ternary\": {\"aaxis\": {\"gridcolor\": \"white\", \"linecolor\": \"white\", \"ticks\": \"\"}, \"baxis\": {\"gridcolor\": \"white\", \"linecolor\": \"white\", \"ticks\": \"\"}, \"bgcolor\": \"#E5ECF6\", \"caxis\": {\"gridcolor\": \"white\", \"linecolor\": \"white\", \"ticks\": \"\"}}, \"title\": {\"x\": 0.05}, \"xaxis\": {\"automargin\": true, \"gridcolor\": \"white\", \"linecolor\": \"white\", \"ticks\": \"\", \"title\": {\"standoff\": 15}, \"zerolinecolor\": \"white\", \"zerolinewidth\": 2}, \"yaxis\": {\"automargin\": true, \"gridcolor\": \"white\", \"linecolor\": \"white\", \"ticks\": \"\", \"title\": {\"standoff\": 15}, \"zerolinecolor\": \"white\", \"zerolinewidth\": 2}}}, \"title\": {\"text\": \"Geography Plots\", \"x\": 0.5}, \"width\": 1200, \"xaxis\": {\"anchor\": \"y\", \"domain\": [0.0, 0.25333333333333335]}, \"xaxis10\": {\"anchor\": \"y10\", \"domain\": [0.0, 0.25333333333333335], \"title\": {\"text\": \"Total Visits\"}}, \"xaxis11\": {\"anchor\": \"y11\", \"domain\": [0.37333333333333335, 0.6266666666666667], \"title\": {\"text\": \"Non-zero Revenue Visits\"}}, \"xaxis12\": {\"anchor\": \"y12\", \"domain\": [0.7466666666666667, 1.0], \"title\": {\"text\": \"Mean Revenue\"}}, \"xaxis2\": {\"anchor\": \"y2\", \"domain\": [0.37333333333333335, 0.6266666666666667]}, \"xaxis3\": {\"anchor\": \"y3\", \"domain\": [0.7466666666666667, 1.0]}, \"xaxis4\": {\"anchor\": \"y4\", \"domain\": [0.0, 0.25333333333333335]}, \"xaxis5\": {\"anchor\": \"y5\", \"domain\": [0.37333333333333335, 0.6266666666666667]}, \"xaxis6\": {\"anchor\": \"y6\", \"domain\": [0.7466666666666667, 1.0]}, \"xaxis7\": {\"anchor\": \"y7\", \"domain\": [0.0, 0.25333333333333335]}, \"xaxis8\": {\"anchor\": \"y8\", \"domain\": [0.37333333333333335, 0.6266666666666667]}, \"xaxis9\": {\"anchor\": \"y9\", \"domain\": [0.7466666666666667, 1.0]}, \"yaxis\": {\"anchor\": \"x\", \"domain\": [0.78, 1.0], \"title\": {\"text\": \"Continent\"}}, \"yaxis10\": {\"anchor\": \"x10\", \"domain\": [0.0, 0.22], \"title\": {\"text\": \"Network Domain\"}}, \"yaxis11\": {\"anchor\": \"x11\", \"domain\": [0.0, 0.22]}, \"yaxis12\": {\"anchor\": \"x12\", \"domain\": [0.0, 0.22]}, \"yaxis2\": {\"anchor\": \"x2\", \"domain\": [0.78, 1.0]}, \"yaxis3\": {\"anchor\": \"x3\", \"domain\": [0.78, 1.0]}, \"yaxis4\": {\"anchor\": \"x4\", \"domain\": [0.52, 0.74], \"title\": {\"text\": \"Subcontinent\"}}, \"yaxis5\": {\"anchor\": \"x5\", \"domain\": [0.52, 0.74]}, \"yaxis6\": {\"anchor\": \"x6\", \"domain\": [0.52, 0.74]}, \"yaxis7\": {\"anchor\": \"x7\", \"domain\": [0.26, 0.48], \"title\": {\"text\": \"Country\"}}, \"yaxis8\": {\"anchor\": \"x8\", \"domain\": [0.26, 0.48]}, \"yaxis9\": {\"anchor\": \"x9\", \"domain\": [0.26, 0.48]}},\n",
              "                        {\"responsive\": true}\n",
              "                    ).then(function(){\n",
              "                            \n",
              "var gd = document.getElementById('db12abad-2d76-4e37-b403-cd780a3fb850');\n",
              "var x = new MutationObserver(function (mutations, observer) {{\n",
              "        var display = window.getComputedStyle(gd).display;\n",
              "        if (!display || display === 'none') {{\n",
              "            console.log([gd, 'removed!']);\n",
              "            Plotly.purge(gd);\n",
              "            observer.disconnect();\n",
              "        }}\n",
              "}});\n",
              "\n",
              "// Listen for the removal of the full notebook cells\n",
              "var notebookContainer = gd.closest('#notebook-container');\n",
              "if (notebookContainer) {{\n",
              "    x.observe(notebookContainer, {childList: true});\n",
              "}}\n",
              "\n",
              "// Listen for the clearing of the current output cell\n",
              "var outputEl = gd.closest('.output');\n",
              "if (outputEl) {{\n",
              "    x.observe(outputEl, {childList: true});\n",
              "}}\n",
              "\n",
              "                        })\n",
              "                };\n",
              "                \n",
              "            </script>\n",
              "        </div>\n",
              "</body>\n",
              "</html>"
            ]
          },
          "metadata": {
            "tags": []
          }
        }
      ]
    },
    {
      "cell_type": "markdown",
      "metadata": {
        "id": "ES0EXsOH6ETt"
      },
      "source": [
        "Some findings:\n",
        "\n",
        "\n",
        "1.   Most visits came from Americas, Asia and Europe.\n",
        "2.   Nearly all visits that generated non-zero revenue were from Northern America.\n",
        "3.   Africa and Japan visits had the highest mean revenue among continents and countries although their number of non-zero revenue visits was nearly 0.\n",
        "4.   Most visits had not-set or unknown network domain.\n",
        "\n",
        "\n",
        "\n",
        "\n"
      ]
    },
    {
      "cell_type": "markdown",
      "metadata": {
        "id": "D0ivqPGXxv7j"
      },
      "source": [
        "<br>Traffic Source plots:<br><br>\n",
        "\n",
        "\n"
      ]
    },
    {
      "cell_type": "code",
      "metadata": {
        "colab": {
          "base_uri": "https://localhost:8080/",
          "height": 1000
        },
        "id": "Zjs5hl4IBGxh",
        "outputId": "abf8055a-0b6f-4589-917d-44f0cee5b98f"
      },
      "source": [
        "# Traffic Source\n",
        "gdf = grouped_df('trafficSource.source')\n",
        "trace1 = horizontal_bar_chart(gdf[\"count\"].head(10), blues[7])\n",
        "trace2 = horizontal_bar_chart(gdf[\"count of non-zero revenue\"].head(10), blues[7])\n",
        "trace3 = horizontal_bar_chart(gdf[\"mean\"].head(10), blues[7])\n",
        "\n",
        "# Medium\n",
        "gdf = grouped_df('trafficSource.medium')\n",
        "trace4 = horizontal_bar_chart(gdf[\"count\"].head(10), greens[7])\n",
        "trace5 = horizontal_bar_chart(gdf[\"count of non-zero revenue\"].head(10), greens[7])\n",
        "trace6 = horizontal_bar_chart(gdf[\"mean\"].head(10), greens[7])\n",
        "\n",
        "# AdNetwork Type\n",
        "gdf = grouped_df('trafficSource.adwordsClickInfo.adNetworkType')\n",
        "trace7 = horizontal_bar_chart(gdf[\"count\"].head(10), peach[6])\n",
        "trace8 = horizontal_bar_chart(gdf[\"count of non-zero revenue\"].head(10), peach[6])\n",
        "trace9 = horizontal_bar_chart(gdf[\"mean\"].head(10), peach[6])\n",
        "\n",
        "# AdContent\n",
        "gdf = grouped_df('trafficSource.adContent')\n",
        "trace10 = horizontal_bar_chart(gdf[\"count\"].head(10), purples[7])\n",
        "trace11 = horizontal_bar_chart(gdf[\"count of non-zero revenue\"].head(10), purples[7])\n",
        "trace12 = horizontal_bar_chart(gdf[\"mean\"].head(10), purples[7])\n",
        "\n",
        "fig = make_subplots(rows=4, cols=3, vertical_spacing=0.04, horizontal_spacing=0.22)\n",
        "\n",
        "fig.append_trace(trace1, 1, 1)\n",
        "fig.append_trace(trace2, 1, 2)\n",
        "fig.append_trace(trace3, 1, 3)\n",
        "fig.append_trace(trace4, 2, 1)\n",
        "fig.append_trace(trace5, 2, 2)\n",
        "fig.append_trace(trace6, 2, 3)\n",
        "fig.append_trace(trace7, 3, 1)\n",
        "fig.append_trace(trace8, 3, 2)\n",
        "fig.append_trace(trace9, 3, 3)\n",
        "fig.append_trace(trace10,4, 1)\n",
        "fig.append_trace(trace11,4, 2)\n",
        "fig.append_trace(trace12,4, 3)\n",
        "\n",
        "# Update xaxis properties\n",
        "fig.update_xaxes(title_text=\"Total Visits\", row=4, col=1)\n",
        "fig.update_xaxes(title_text=\"Non-zero Revenue Visits\", row=4, col=2)\n",
        "fig.update_xaxes(title_text=\"Mean Revenue\", row=4, col=3)\n",
        "\n",
        "# Update yaxis properties\n",
        "fig.update_yaxes(title_text=\"Source\", row=1, col=1)\n",
        "fig.update_yaxes(title_text=\"Medium\", row=2, col=1)\n",
        "fig.update_yaxes(title_text=\"AdNetwork Type\", row=3, col=1)\n",
        "fig.update_yaxes(title_text=\"AdContent\", row=4, col=1)\n",
        "\n",
        "fig.update_layout(height=1000, width=1200, title=dict(text='Traffic Source Plots', x=0.5))\n",
        "fig.show()"
      ],
      "execution_count": null,
      "outputs": [
        {
          "output_type": "display_data",
          "data": {
            "text/html": [
              "<html>\n",
              "<head><meta charset=\"utf-8\" /></head>\n",
              "<body>\n",
              "    <div>\n",
              "            <script src=\"https://cdnjs.cloudflare.com/ajax/libs/mathjax/2.7.5/MathJax.js?config=TeX-AMS-MML_SVG\"></script><script type=\"text/javascript\">if (window.MathJax) {MathJax.Hub.Config({SVG: {font: \"STIX-Web\"}});}</script>\n",
              "                <script type=\"text/javascript\">window.PlotlyConfig = {MathJaxConfig: 'local'};</script>\n",
              "        <script src=\"https://cdn.plot.ly/plotly-latest.min.js\"></script>    \n",
              "            <div id=\"b51881a3-c26d-4e71-9857-650bd67dc31a\" class=\"plotly-graph-div\" style=\"height:1000px; width:1200px;\"></div>\n",
              "            <script type=\"text/javascript\">\n",
              "                \n",
              "                    window.PLOTLYENV=window.PLOTLYENV || {};\n",
              "                    \n",
              "                if (document.getElementById(\"b51881a3-c26d-4e71-9857-650bd67dc31a\")) {\n",
              "                    Plotly.newPlot(\n",
              "                        'b51881a3-c26d-4e71-9857-650bd67dc31a',\n",
              "                        [{\"marker\": {\"color\": \"rgb(8,81,156)\"}, \"orientation\": \"h\", \"showlegend\": false, \"type\": \"bar\", \"x\": [3356, 3365, 4669, 5686, 16172, 16411, 66416, 143028, 212602, 400788], \"xaxis\": \"x\", \"y\": [\"baidu\", \"m.facebook.com\", \"google.com\", \"dfa\", \"analytics.google.com\", \"Partners\", \"mall.googleplex.com\", \"(direct)\", \"youtube.com\", \"google\"], \"yaxis\": \"y\"}, {\"marker\": {\"color\": \"rgb(8,81,156)\"}, \"orientation\": \"h\", \"showlegend\": false, \"type\": \"bar\", \"x\": [0, 6, 5, 123, 0, 9, 5103, 2042, 11, 3879], \"xaxis\": \"x2\", \"y\": [\"baidu\", \"m.facebook.com\", \"google.com\", \"dfa\", \"analytics.google.com\", \"Partners\", \"mall.googleplex.com\", \"(direct)\", \"youtube.com\", \"google\"], \"yaxis\": \"y2\"}, {\"marker\": {\"color\": \"rgb(8,81,156)\"}, \"orientation\": \"h\", \"showlegend\": false, \"type\": \"bar\", \"x\": [null, 31133333.333333332, 69448000.0, 625434308.9430895, null, 66375555.55555555, 120119151.47952186, 212948359.45151812, 28551818.181818184, 95118680.07218355], \"xaxis\": \"x3\", \"y\": [\"baidu\", \"m.facebook.com\", \"google.com\", \"dfa\", \"analytics.google.com\", \"Partners\", \"mall.googleplex.com\", \"(direct)\", \"youtube.com\", \"google\"], \"yaxis\": \"y3\"}, {\"marker\": {\"color\": \"rgb(0,109,44)\"}, \"orientation\": \"h\", \"showlegend\": false, \"type\": \"bar\", \"x\": [120, 6262, 16403, 25326, 143026, 330955, 381561], \"xaxis\": \"x4\", \"y\": [\"(not set)\", \"cpm\", \"affiliate\", \"cpc\", \"(none)\", \"referral\", \"organic\"], \"yaxis\": \"y4\"}, {\"marker\": {\"color\": \"rgb(0,109,44)\"}, \"orientation\": \"h\", \"showlegend\": false, \"type\": \"bar\", \"x\": [1, 142, 9, 468, 2042, 5415, 3438], \"xaxis\": \"x5\", \"y\": [\"(not set)\", \"cpm\", \"affiliate\", \"cpc\", \"(none)\", \"referral\", \"organic\"], \"yaxis\": \"y5\"}, {\"marker\": {\"color\": \"rgb(0,109,44)\"}, \"orientation\": \"h\", \"showlegend\": false, \"type\": \"bar\", \"x\": [9990000.0, 551672253.5211267, 66375555.55555555, 93074572.64957266, 212948359.45151812, 121208947.36842105, 94933248.98196626], \"xaxis\": \"x6\", \"y\": [\"(not set)\", \"cpm\", \"affiliate\", \"cpc\", \"(none)\", \"referral\", \"organic\"], \"yaxis\": \"y6\"}, {\"marker\": {\"color\": \"rgb(235, 74, 64)\"}, \"orientation\": \"h\", \"showlegend\": false, \"type\": \"bar\", \"x\": [7, 21453], \"xaxis\": \"x7\", \"y\": [\"Search partners\", \"Google Search\"], \"yaxis\": \"y7\"}, {\"marker\": {\"color\": \"rgb(235, 74, 64)\"}, \"orientation\": \"h\", \"showlegend\": false, \"type\": \"bar\", \"x\": [0, 454], \"xaxis\": \"x8\", \"y\": [\"Search partners\", \"Google Search\"], \"yaxis\": \"y8\"}, {\"marker\": {\"color\": \"rgb(235, 74, 64)\"}, \"orientation\": \"h\", \"showlegend\": false, \"type\": \"bar\", \"x\": [null, 93894691.62995595], \"xaxis\": \"x9\", \"y\": [\"Search partners\", \"Google Search\"], \"yaxis\": \"y9\"}, {\"marker\": {\"color\": \"rgb(84,39,143)\"}, \"orientation\": \"h\", \"showlegend\": false, \"type\": \"bar\", \"x\": [123, 155, 251, 392, 489, 610, 822, 967, 1245, 5122], \"xaxis\": \"x10\", \"y\": [\"Ad from 11/7/16\", \"{KeyWord:Google Merchandise}\", \"{KeyWord:Google Brand Items}\", \"Display Ad created 3/11/15\", \"Ad from 11/3/16\", \"Ad from 12/13/16\", \"Full auto ad IMAGE ONLY\", \"Display Ad created 3/11/14\", \"Google Online Store\", \"Google Merchandise Collection\"], \"yaxis\": \"y10\"}, {\"marker\": {\"color\": \"rgb(84,39,143)\"}, \"orientation\": \"h\", \"showlegend\": false, \"type\": \"bar\", \"x\": [0, 0, 0, 1, 0, 0, 5, 3, 4, 117], \"xaxis\": \"x11\", \"y\": [\"Ad from 11/7/16\", \"{KeyWord:Google Merchandise}\", \"{KeyWord:Google Brand Items}\", \"Display Ad created 3/11/15\", \"Ad from 11/3/16\", \"Ad from 12/13/16\", \"Full auto ad IMAGE ONLY\", \"Display Ad created 3/11/14\", \"Google Online Store\", \"Google Merchandise Collection\"], \"yaxis\": \"y11\"}, {\"marker\": {\"color\": \"rgb(84,39,143)\"}, \"orientation\": \"h\", \"showlegend\": false, \"type\": \"bar\", \"x\": [null, null, null, 42000000.0, null, null, 52476000.0, 100770000.0, 40855000.0, 127848803.41880342], \"xaxis\": \"x12\", \"y\": [\"Ad from 11/7/16\", \"{KeyWord:Google Merchandise}\", \"{KeyWord:Google Brand Items}\", \"Display Ad created 3/11/15\", \"Ad from 11/3/16\", \"Ad from 12/13/16\", \"Full auto ad IMAGE ONLY\", \"Display Ad created 3/11/14\", \"Google Online Store\", \"Google Merchandise Collection\"], \"yaxis\": \"y12\"}],\n",
              "                        {\"height\": 1000, \"template\": {\"data\": {\"bar\": [{\"error_x\": {\"color\": \"#2a3f5f\"}, \"error_y\": {\"color\": \"#2a3f5f\"}, \"marker\": {\"line\": {\"color\": \"#E5ECF6\", \"width\": 0.5}}, \"type\": \"bar\"}], \"barpolar\": [{\"marker\": {\"line\": {\"color\": \"#E5ECF6\", \"width\": 0.5}}, \"type\": \"barpolar\"}], \"carpet\": [{\"aaxis\": {\"endlinecolor\": \"#2a3f5f\", \"gridcolor\": \"white\", \"linecolor\": \"white\", \"minorgridcolor\": \"white\", \"startlinecolor\": \"#2a3f5f\"}, \"baxis\": {\"endlinecolor\": \"#2a3f5f\", \"gridcolor\": \"white\", \"linecolor\": \"white\", \"minorgridcolor\": \"white\", \"startlinecolor\": \"#2a3f5f\"}, \"type\": \"carpet\"}], \"choropleth\": [{\"colorbar\": {\"outlinewidth\": 0, \"ticks\": \"\"}, \"type\": \"choropleth\"}], \"contour\": [{\"colorbar\": {\"outlinewidth\": 0, \"ticks\": \"\"}, \"colorscale\": [[0.0, \"#0d0887\"], [0.1111111111111111, \"#46039f\"], [0.2222222222222222, \"#7201a8\"], [0.3333333333333333, \"#9c179e\"], [0.4444444444444444, \"#bd3786\"], [0.5555555555555556, \"#d8576b\"], [0.6666666666666666, \"#ed7953\"], [0.7777777777777778, \"#fb9f3a\"], [0.8888888888888888, \"#fdca26\"], [1.0, \"#f0f921\"]], \"type\": \"contour\"}], \"contourcarpet\": [{\"colorbar\": {\"outlinewidth\": 0, \"ticks\": \"\"}, \"type\": \"contourcarpet\"}], \"heatmap\": [{\"colorbar\": {\"outlinewidth\": 0, \"ticks\": \"\"}, \"colorscale\": [[0.0, \"#0d0887\"], [0.1111111111111111, \"#46039f\"], [0.2222222222222222, \"#7201a8\"], [0.3333333333333333, \"#9c179e\"], [0.4444444444444444, \"#bd3786\"], [0.5555555555555556, \"#d8576b\"], [0.6666666666666666, \"#ed7953\"], [0.7777777777777778, \"#fb9f3a\"], [0.8888888888888888, \"#fdca26\"], [1.0, \"#f0f921\"]], \"type\": \"heatmap\"}], \"heatmapgl\": [{\"colorbar\": {\"outlinewidth\": 0, \"ticks\": \"\"}, \"colorscale\": [[0.0, \"#0d0887\"], [0.1111111111111111, \"#46039f\"], [0.2222222222222222, \"#7201a8\"], [0.3333333333333333, \"#9c179e\"], [0.4444444444444444, \"#bd3786\"], [0.5555555555555556, \"#d8576b\"], [0.6666666666666666, \"#ed7953\"], [0.7777777777777778, \"#fb9f3a\"], [0.8888888888888888, \"#fdca26\"], [1.0, \"#f0f921\"]], \"type\": \"heatmapgl\"}], \"histogram\": [{\"marker\": {\"colorbar\": {\"outlinewidth\": 0, \"ticks\": \"\"}}, \"type\": \"histogram\"}], \"histogram2d\": [{\"colorbar\": {\"outlinewidth\": 0, \"ticks\": \"\"}, \"colorscale\": [[0.0, \"#0d0887\"], [0.1111111111111111, \"#46039f\"], [0.2222222222222222, \"#7201a8\"], [0.3333333333333333, \"#9c179e\"], [0.4444444444444444, \"#bd3786\"], [0.5555555555555556, \"#d8576b\"], [0.6666666666666666, \"#ed7953\"], [0.7777777777777778, \"#fb9f3a\"], [0.8888888888888888, \"#fdca26\"], [1.0, \"#f0f921\"]], \"type\": \"histogram2d\"}], \"histogram2dcontour\": [{\"colorbar\": {\"outlinewidth\": 0, \"ticks\": \"\"}, \"colorscale\": [[0.0, \"#0d0887\"], [0.1111111111111111, \"#46039f\"], [0.2222222222222222, \"#7201a8\"], [0.3333333333333333, \"#9c179e\"], [0.4444444444444444, \"#bd3786\"], [0.5555555555555556, \"#d8576b\"], [0.6666666666666666, \"#ed7953\"], [0.7777777777777778, \"#fb9f3a\"], [0.8888888888888888, \"#fdca26\"], [1.0, \"#f0f921\"]], \"type\": \"histogram2dcontour\"}], \"mesh3d\": [{\"colorbar\": {\"outlinewidth\": 0, \"ticks\": \"\"}, \"type\": \"mesh3d\"}], \"parcoords\": [{\"line\": {\"colorbar\": {\"outlinewidth\": 0, \"ticks\": \"\"}}, \"type\": \"parcoords\"}], \"pie\": [{\"automargin\": true, \"type\": \"pie\"}], \"scatter\": [{\"marker\": {\"colorbar\": {\"outlinewidth\": 0, \"ticks\": \"\"}}, \"type\": \"scatter\"}], \"scatter3d\": [{\"line\": {\"colorbar\": {\"outlinewidth\": 0, \"ticks\": \"\"}}, \"marker\": {\"colorbar\": {\"outlinewidth\": 0, \"ticks\": \"\"}}, \"type\": \"scatter3d\"}], \"scattercarpet\": [{\"marker\": {\"colorbar\": {\"outlinewidth\": 0, \"ticks\": \"\"}}, \"type\": \"scattercarpet\"}], \"scattergeo\": [{\"marker\": {\"colorbar\": {\"outlinewidth\": 0, \"ticks\": \"\"}}, \"type\": \"scattergeo\"}], \"scattergl\": [{\"marker\": {\"colorbar\": {\"outlinewidth\": 0, \"ticks\": \"\"}}, \"type\": \"scattergl\"}], \"scattermapbox\": [{\"marker\": {\"colorbar\": {\"outlinewidth\": 0, \"ticks\": \"\"}}, \"type\": \"scattermapbox\"}], \"scatterpolar\": [{\"marker\": {\"colorbar\": {\"outlinewidth\": 0, \"ticks\": \"\"}}, \"type\": \"scatterpolar\"}], \"scatterpolargl\": [{\"marker\": {\"colorbar\": {\"outlinewidth\": 0, \"ticks\": \"\"}}, \"type\": \"scatterpolargl\"}], \"scatterternary\": [{\"marker\": {\"colorbar\": {\"outlinewidth\": 0, \"ticks\": \"\"}}, \"type\": \"scatterternary\"}], \"surface\": [{\"colorbar\": {\"outlinewidth\": 0, \"ticks\": \"\"}, \"colorscale\": [[0.0, \"#0d0887\"], [0.1111111111111111, \"#46039f\"], [0.2222222222222222, \"#7201a8\"], [0.3333333333333333, \"#9c179e\"], [0.4444444444444444, \"#bd3786\"], [0.5555555555555556, \"#d8576b\"], [0.6666666666666666, \"#ed7953\"], [0.7777777777777778, \"#fb9f3a\"], [0.8888888888888888, \"#fdca26\"], [1.0, \"#f0f921\"]], \"type\": \"surface\"}], \"table\": [{\"cells\": {\"fill\": {\"color\": \"#EBF0F8\"}, \"line\": {\"color\": \"white\"}}, \"header\": {\"fill\": {\"color\": \"#C8D4E3\"}, \"line\": {\"color\": \"white\"}}, \"type\": \"table\"}]}, \"layout\": {\"annotationdefaults\": {\"arrowcolor\": \"#2a3f5f\", \"arrowhead\": 0, \"arrowwidth\": 1}, \"coloraxis\": {\"colorbar\": {\"outlinewidth\": 0, \"ticks\": \"\"}}, \"colorscale\": {\"diverging\": [[0, \"#8e0152\"], [0.1, \"#c51b7d\"], [0.2, \"#de77ae\"], [0.3, \"#f1b6da\"], [0.4, \"#fde0ef\"], [0.5, \"#f7f7f7\"], [0.6, \"#e6f5d0\"], [0.7, \"#b8e186\"], [0.8, \"#7fbc41\"], [0.9, \"#4d9221\"], [1, \"#276419\"]], \"sequential\": [[0.0, \"#0d0887\"], [0.1111111111111111, \"#46039f\"], [0.2222222222222222, \"#7201a8\"], [0.3333333333333333, \"#9c179e\"], [0.4444444444444444, \"#bd3786\"], [0.5555555555555556, \"#d8576b\"], [0.6666666666666666, \"#ed7953\"], [0.7777777777777778, \"#fb9f3a\"], [0.8888888888888888, \"#fdca26\"], [1.0, \"#f0f921\"]], \"sequentialminus\": [[0.0, \"#0d0887\"], [0.1111111111111111, \"#46039f\"], [0.2222222222222222, \"#7201a8\"], [0.3333333333333333, \"#9c179e\"], [0.4444444444444444, \"#bd3786\"], [0.5555555555555556, \"#d8576b\"], [0.6666666666666666, \"#ed7953\"], [0.7777777777777778, \"#fb9f3a\"], [0.8888888888888888, \"#fdca26\"], [1.0, \"#f0f921\"]]}, \"colorway\": [\"#636efa\", \"#EF553B\", \"#00cc96\", \"#ab63fa\", \"#FFA15A\", \"#19d3f3\", \"#FF6692\", \"#B6E880\", \"#FF97FF\", \"#FECB52\"], \"font\": {\"color\": \"#2a3f5f\"}, \"geo\": {\"bgcolor\": \"white\", \"lakecolor\": \"white\", \"landcolor\": \"#E5ECF6\", \"showlakes\": true, \"showland\": true, \"subunitcolor\": \"white\"}, \"hoverlabel\": {\"align\": \"left\"}, \"hovermode\": \"closest\", \"mapbox\": {\"style\": \"light\"}, \"paper_bgcolor\": \"white\", \"plot_bgcolor\": \"#E5ECF6\", \"polar\": {\"angularaxis\": {\"gridcolor\": \"white\", \"linecolor\": \"white\", \"ticks\": \"\"}, \"bgcolor\": \"#E5ECF6\", \"radialaxis\": {\"gridcolor\": \"white\", \"linecolor\": \"white\", \"ticks\": \"\"}}, \"scene\": {\"xaxis\": {\"backgroundcolor\": \"#E5ECF6\", \"gridcolor\": \"white\", \"gridwidth\": 2, \"linecolor\": \"white\", \"showbackground\": true, \"ticks\": \"\", \"zerolinecolor\": \"white\"}, \"yaxis\": {\"backgroundcolor\": \"#E5ECF6\", \"gridcolor\": \"white\", \"gridwidth\": 2, \"linecolor\": \"white\", \"showbackground\": true, \"ticks\": \"\", \"zerolinecolor\": \"white\"}, \"zaxis\": {\"backgroundcolor\": \"#E5ECF6\", \"gridcolor\": \"white\", \"gridwidth\": 2, \"linecolor\": \"white\", \"showbackground\": true, \"ticks\": \"\", \"zerolinecolor\": \"white\"}}, \"shapedefaults\": {\"line\": {\"color\": \"#2a3f5f\"}}, \"ternary\": {\"aaxis\": {\"gridcolor\": \"white\", \"linecolor\": \"white\", \"ticks\": \"\"}, \"baxis\": {\"gridcolor\": \"white\", \"linecolor\": \"white\", \"ticks\": \"\"}, \"bgcolor\": \"#E5ECF6\", \"caxis\": {\"gridcolor\": \"white\", \"linecolor\": \"white\", \"ticks\": \"\"}}, \"title\": {\"x\": 0.05}, \"xaxis\": {\"automargin\": true, \"gridcolor\": \"white\", \"linecolor\": \"white\", \"ticks\": \"\", \"title\": {\"standoff\": 15}, \"zerolinecolor\": \"white\", \"zerolinewidth\": 2}, \"yaxis\": {\"automargin\": true, \"gridcolor\": \"white\", \"linecolor\": \"white\", \"ticks\": \"\", \"title\": {\"standoff\": 15}, \"zerolinecolor\": \"white\", \"zerolinewidth\": 2}}}, \"title\": {\"text\": \"Traffic Source Plots\", \"x\": 0.5}, \"width\": 1200, \"xaxis\": {\"anchor\": \"y\", \"domain\": [0.0, 0.18666666666666668]}, \"xaxis10\": {\"anchor\": \"y10\", \"domain\": [0.0, 0.18666666666666668], \"title\": {\"text\": \"Total Visits\"}}, \"xaxis11\": {\"anchor\": \"y11\", \"domain\": [0.4066666666666667, 0.5933333333333334], \"title\": {\"text\": \"Non-zero Revenue Visits\"}}, \"xaxis12\": {\"anchor\": \"y12\", \"domain\": [0.8133333333333334, 1.0], \"title\": {\"text\": \"Mean Revenue\"}}, \"xaxis2\": {\"anchor\": \"y2\", \"domain\": [0.4066666666666667, 0.5933333333333334]}, \"xaxis3\": {\"anchor\": \"y3\", \"domain\": [0.8133333333333334, 1.0]}, \"xaxis4\": {\"anchor\": \"y4\", \"domain\": [0.0, 0.18666666666666668]}, \"xaxis5\": {\"anchor\": \"y5\", \"domain\": [0.4066666666666667, 0.5933333333333334]}, \"xaxis6\": {\"anchor\": \"y6\", \"domain\": [0.8133333333333334, 1.0]}, \"xaxis7\": {\"anchor\": \"y7\", \"domain\": [0.0, 0.18666666666666668]}, \"xaxis8\": {\"anchor\": \"y8\", \"domain\": [0.4066666666666667, 0.5933333333333334]}, \"xaxis9\": {\"anchor\": \"y9\", \"domain\": [0.8133333333333334, 1.0]}, \"yaxis\": {\"anchor\": \"x\", \"domain\": [0.78, 1.0], \"title\": {\"text\": \"Source\"}}, \"yaxis10\": {\"anchor\": \"x10\", \"domain\": [0.0, 0.22], \"title\": {\"text\": \"AdContent\"}}, \"yaxis11\": {\"anchor\": \"x11\", \"domain\": [0.0, 0.22]}, \"yaxis12\": {\"anchor\": \"x12\", \"domain\": [0.0, 0.22]}, \"yaxis2\": {\"anchor\": \"x2\", \"domain\": [0.78, 1.0]}, \"yaxis3\": {\"anchor\": \"x3\", \"domain\": [0.78, 1.0]}, \"yaxis4\": {\"anchor\": \"x4\", \"domain\": [0.52, 0.74], \"title\": {\"text\": \"Medium\"}}, \"yaxis5\": {\"anchor\": \"x5\", \"domain\": [0.52, 0.74]}, \"yaxis6\": {\"anchor\": \"x6\", \"domain\": [0.52, 0.74]}, \"yaxis7\": {\"anchor\": \"x7\", \"domain\": [0.26, 0.48], \"title\": {\"text\": \"AdNetwork Type\"}}, \"yaxis8\": {\"anchor\": \"x8\", \"domain\": [0.26, 0.48]}, \"yaxis9\": {\"anchor\": \"x9\", \"domain\": [0.26, 0.48]}},\n",
              "                        {\"responsive\": true}\n",
              "                    ).then(function(){\n",
              "                            \n",
              "var gd = document.getElementById('b51881a3-c26d-4e71-9857-650bd67dc31a');\n",
              "var x = new MutationObserver(function (mutations, observer) {{\n",
              "        var display = window.getComputedStyle(gd).display;\n",
              "        if (!display || display === 'none') {{\n",
              "            console.log([gd, 'removed!']);\n",
              "            Plotly.purge(gd);\n",
              "            observer.disconnect();\n",
              "        }}\n",
              "}});\n",
              "\n",
              "// Listen for the removal of the full notebook cells\n",
              "var notebookContainer = gd.closest('#notebook-container');\n",
              "if (notebookContainer) {{\n",
              "    x.observe(notebookContainer, {childList: true});\n",
              "}}\n",
              "\n",
              "// Listen for the clearing of the current output cell\n",
              "var outputEl = gd.closest('.output');\n",
              "if (outputEl) {{\n",
              "    x.observe(outputEl, {childList: true});\n",
              "}}\n",
              "\n",
              "                        })\n",
              "                };\n",
              "                \n",
              "            </script>\n",
              "        </div>\n",
              "</body>\n",
              "</html>"
            ]
          },
          "metadata": {
            "tags": []
          }
        }
      ]
    },
    {
      "cell_type": "markdown",
      "metadata": {
        "id": "__7qbh44-Ltb"
      },
      "source": [
        "Some findings:\n",
        "1.   Most traffic source was related to Google.\n",
        "2.   dfa and cpm had the highest mean revenue among traffic sources and source mediums.\n",
        "\n",
        "\n",
        "\n"
      ]
    },
    {
      "cell_type": "markdown",
      "metadata": {
        "id": "l6IV6iZ1x0v0"
      },
      "source": [
        "<br>Session Plots (number of hits and pageviews):<br><br>"
      ]
    },
    {
      "cell_type": "code",
      "metadata": {
        "colab": {
          "base_uri": "https://localhost:8080/",
          "height": 917
        },
        "id": "EooEqxuaPgAM",
        "outputId": "184a882c-c87a-4f10-e525-4847a89280cd"
      },
      "source": [
        "# Total Hits\n",
        "gdf = grouped_df('totals.hits')\n",
        "trace1 = horizontal_bar_chart(gdf[\"count\"].head(60), blues[8])\n",
        "trace2 = horizontal_bar_chart(gdf[\"count of non-zero revenue\"].head(60), blues[8])\n",
        "trace3 = horizontal_bar_chart(gdf[\"mean\"].head(60), blues[8])\n",
        "\n",
        "# Total Pageviews\n",
        "gdf = grouped_df('totals.pageviews')\n",
        "trace4 = horizontal_bar_chart(gdf[\"count\"].head(60), purples[8])\n",
        "trace5 = horizontal_bar_chart(gdf[\"count of non-zero revenue\"].head(60), purples[8])\n",
        "trace6 = horizontal_bar_chart(gdf[\"mean\"].head(60), purples[8])\n",
        "\n",
        "fig = make_subplots(rows=2, cols=3, vertical_spacing=0.06, horizontal_spacing=0.08)\n",
        "\n",
        "fig.append_trace(trace1, 1, 1)\n",
        "fig.append_trace(trace2, 1, 2)\n",
        "fig.append_trace(trace3, 1, 3)\n",
        "fig.append_trace(trace4, 2, 1)\n",
        "fig.append_trace(trace5, 2, 2)\n",
        "fig.append_trace(trace6, 2, 3)\n",
        "\n",
        "# Update xaxis properties\n",
        "fig.update_xaxes(title_text=\"Total Visits\", row=2, col=1)\n",
        "fig.update_xaxes(title_text=\"Non-zero Revenue Visits\", row=2, col=2)\n",
        "fig.update_xaxes(title_text=\"Mean Revenue\", row=2, col=3)\n",
        "\n",
        "# Update yaxis properties\n",
        "fig.update_yaxes(title_text=\"Total Hits\", row=1, col=1)\n",
        "fig.update_yaxes(title_text=\"Total Pageviews\", row=2, col=1)\n",
        "\n",
        "fig.update_layout(height=900, width=1200, title=dict(text='Session Plots', x=0.5))\n",
        "fig.show()"
      ],
      "execution_count": null,
      "outputs": [
        {
          "output_type": "display_data",
          "data": {
            "text/html": [
              "<html>\n",
              "<head><meta charset=\"utf-8\" /></head>\n",
              "<body>\n",
              "    <div>\n",
              "            <script src=\"https://cdnjs.cloudflare.com/ajax/libs/mathjax/2.7.5/MathJax.js?config=TeX-AMS-MML_SVG\"></script><script type=\"text/javascript\">if (window.MathJax) {MathJax.Hub.Config({SVG: {font: \"STIX-Web\"}});}</script>\n",
              "                <script type=\"text/javascript\">window.PlotlyConfig = {MathJaxConfig: 'local'};</script>\n",
              "        <script src=\"https://cdn.plot.ly/plotly-latest.min.js\"></script>    \n",
              "            <div id=\"9f3b7432-36a9-403d-ab40-b08f20367fdd\" class=\"plotly-graph-div\" style=\"height:900px; width:1200px;\"></div>\n",
              "            <script type=\"text/javascript\">\n",
              "                \n",
              "                    window.PLOTLYENV=window.PLOTLYENV || {};\n",
              "                    \n",
              "                if (document.getElementById(\"9f3b7432-36a9-403d-ab40-b08f20367fdd\")) {\n",
              "                    Plotly.newPlot(\n",
              "                        '9f3b7432-36a9-403d-ab40-b08f20367fdd',\n",
              "                        [{\"marker\": {\"color\": \"rgb(8,48,107)\"}, \"orientation\": \"h\", \"showlegend\": false, \"type\": \"bar\", \"x\": [198, 203, 206, 211, 212, 227, 246, 261, 269, 316, 333, 348, 349, 363, 424, 438, 454, 501, 527, 553, 621, 693, 724, 745, 785, 845, 846, 944, 1088, 1104, 1289, 1291, 1406, 1504, 1718, 1925, 2126, 2190, 2477, 2798, 3064, 3291, 3755, 4130, 4716, 5384, 6194, 6881, 7879, 9264, 10640, 12959, 15484, 19518, 23918, 30939, 42444, 70402, 137952, 446754], \"xaxis\": \"x\", \"y\": [\"61\", \"59\", \"60\", \"56\", \"57\", \"55\", \"54\", \"52\", \"53\", \"50\", \"51\", \"49\", \"48\", \"47\", \"46\", \"45\", \"44\", \"43\", \"42\", \"41\", \"40\", \"39\", \"38\", \"37\", \"36\", \"35\", \"34\", \"33\", \"32\", \"31\", \"30\", \"29\", \"28\", \"27\", \"26\", \"25\", \"24\", \"23\", \"22\", \"21\", \"20\", \"19\", \"18\", \"17\", \"16\", \"15\", \"14\", \"13\", \"12\", \"11\", \"10\", \"9\", \"8\", \"7\", \"6\", \"5\", \"4\", \"3\", \"2\", \"1\"], \"yaxis\": \"y\"}, {\"marker\": {\"color\": \"rgb(8,48,107)\"}, \"orientation\": \"h\", \"showlegend\": false, \"type\": \"bar\", \"x\": [69, 63, 75, 58, 83, 67, 57, 72, 90, 81, 104, 94, 111, 105, 129, 124, 122, 155, 135, 133, 159, 145, 172, 177, 175, 193, 198, 193, 204, 207, 261, 222, 267, 263, 279, 269, 292, 311, 290, 313, 329, 345, 375, 348, 362, 354, 348, 313, 258, 193, 123, 94, 54, 19, 9, 12, 8, 3, 4, 0], \"xaxis\": \"x2\", \"y\": [\"61\", \"59\", \"60\", \"56\", \"57\", \"55\", \"54\", \"52\", \"53\", \"50\", \"51\", \"49\", \"48\", \"47\", \"46\", \"45\", \"44\", \"43\", \"42\", \"41\", \"40\", \"39\", \"38\", \"37\", \"36\", \"35\", \"34\", \"33\", \"32\", \"31\", \"30\", \"29\", \"28\", \"27\", \"26\", \"25\", \"24\", \"23\", \"22\", \"21\", \"20\", \"19\", \"18\", \"17\", \"16\", \"15\", \"14\", \"13\", \"12\", \"11\", \"10\", \"9\", \"8\", \"7\", \"6\", \"5\", \"4\", \"3\", \"2\", \"1\"], \"yaxis\": \"y2\"}, {\"marker\": {\"color\": \"rgb(8,48,107)\"}, \"orientation\": \"h\", \"showlegend\": false, \"type\": \"bar\", \"x\": [192411594.20289856, 136002063.4920635, 148718266.66666666, 193214655.1724138, 244709879.51807228, 175378955.2238806, 243480526.31578946, 143963611.1111111, 166214888.8888889, 252568765.43209878, 140265480.76923078, 162276595.74468085, 143352252.25225225, 156829428.57142857, 124861395.34883721, 115575564.51612903, 132623360.6557377, 100177612.90322581, 138757555.55555555, 210898195.48872182, 107951823.89937107, 110296413.79310344, 106440058.13953489, 140660621.46892655, 83897600.0, 145448808.29015544, 129305050.50505051, 152879896.373057, 155526911.7647059, 121725555.55555555, 107391417.62452108, 85833603.6036036, 88798239.70037453, 95413498.09885931, 113594121.86379929, 87118327.13754646, 98842671.23287672, 84713086.81672026, 71686655.1724138, 82634217.25239617, 93415288.7537994, 98681072.46376811, 63682800.0, 113642298.85057472, 96459337.01657459, 95994322.03389831, 74250028.73563218, 73472268.37060703, 77147209.30232558, 110564352.33160622, 106691056.9105691, 109170957.44680852, 101212407.4074074, 65030000.0, 37278888.88888889, 190169166.66666666, 124287500.0, 70393333.33333333, 303625000.0, null], \"xaxis\": \"x3\", \"y\": [\"61\", \"59\", \"60\", \"56\", \"57\", \"55\", \"54\", \"52\", \"53\", \"50\", \"51\", \"49\", \"48\", \"47\", \"46\", \"45\", \"44\", \"43\", \"42\", \"41\", \"40\", \"39\", \"38\", \"37\", \"36\", \"35\", \"34\", \"33\", \"32\", \"31\", \"30\", \"29\", \"28\", \"27\", \"26\", \"25\", \"24\", \"23\", \"22\", \"21\", \"20\", \"19\", \"18\", \"17\", \"16\", \"15\", \"14\", \"13\", \"12\", \"11\", \"10\", \"9\", \"8\", \"7\", \"6\", \"5\", \"4\", \"3\", \"2\", \"1\"], \"yaxis\": \"y3\"}, {\"marker\": {\"color\": \"rgb(63,0,125)\"}, \"orientation\": \"h\", \"showlegend\": false, \"type\": \"bar\", \"x\": [84, 88, 94, 112, 114, 124, 134, 135, 162, 168, 184, 192, 222, 225, 240, 242, 265, 268, 298, 338, 355, 388, 410, 453, 509, 535, 567, 674, 704, 847, 873, 875, 1091, 1143, 1318, 1413, 1567, 1722, 1949, 2211, 2409, 2682, 3150, 3511, 4010, 4720, 5291, 6197, 7097, 8671, 10104, 12585, 15272, 19476, 24688, 33411, 45192, 73835, 143770, 452522], \"xaxis\": \"x4\", \"y\": [\"60\", \"59\", \"58\", \"56\", \"57\", \"55\", \"54\", \"53\", \"50\", \"52\", \"51\", \"49\", \"48\", \"47\", \"46\", \"44\", \"43\", \"45\", \"42\", \"41\", \"40\", \"39\", \"38\", \"37\", \"36\", \"35\", \"34\", \"33\", \"32\", \"31\", \"30\", \"29\", \"28\", \"27\", \"26\", \"25\", \"24\", \"23\", \"22\", \"21\", \"20\", \"19\", \"18\", \"17\", \"16\", \"15\", \"14\", \"13\", \"12\", \"11\", \"10\", \"9\", \"8\", \"7\", \"6\", \"5\", \"4\", \"3\", \"2\", \"1\"], \"yaxis\": \"y4\"}, {\"marker\": {\"color\": \"rgb(63,0,125)\"}, \"orientation\": \"h\", \"showlegend\": false, \"type\": \"bar\", \"x\": [29, 32, 35, 37, 48, 39, 41, 50, 62, 62, 63, 76, 95, 73, 77, 81, 92, 97, 109, 112, 108, 140, 139, 164, 158, 175, 160, 199, 189, 240, 238, 242, 251, 268, 331, 297, 347, 334, 367, 407, 397, 367, 451, 445, 478, 471, 467, 453, 385, 374, 257, 136, 83, 25, 9, 13, 8, 3, 4, 0], \"xaxis\": \"x5\", \"y\": [\"60\", \"59\", \"58\", \"56\", \"57\", \"55\", \"54\", \"53\", \"50\", \"52\", \"51\", \"49\", \"48\", \"47\", \"46\", \"44\", \"43\", \"45\", \"42\", \"41\", \"40\", \"39\", \"38\", \"37\", \"36\", \"35\", \"34\", \"33\", \"32\", \"31\", \"30\", \"29\", \"28\", \"27\", \"26\", \"25\", \"24\", \"23\", \"22\", \"21\", \"20\", \"19\", \"18\", \"17\", \"16\", \"15\", \"14\", \"13\", \"12\", \"11\", \"10\", \"9\", \"8\", \"7\", \"6\", \"5\", \"4\", \"3\", \"2\", \"1\"], \"yaxis\": \"y5\"}, {\"marker\": {\"color\": \"rgb(63,0,125)\"}, \"orientation\": \"h\", \"showlegend\": false, \"type\": \"bar\", \"x\": [215537241.37931034, 228677500.0, 258122000.0, 322468108.1081081, 254373541.66666666, 252405384.6153846, 156237317.07317072, 197964400.0, 150037096.77419356, 325115322.58064514, 220292857.14285713, 227623684.21052632, 190762842.10526314, 221611643.83561644, 186804155.84415585, 150668024.69135803, 129303260.86956522, 122456185.56701031, 134804311.9266055, 175578303.57142857, 386671203.7037037, 239388500.0, 151532446.04316548, 106345609.75609756, 145872974.6835443, 120449314.28571428, 160237937.5, 135816683.41708544, 126580793.65079366, 125540541.66666667, 162768865.54621848, 93466900.82644628, 112260478.0876494, 119993507.46268657, 133370332.32628399, 97608484.84848484, 114713025.93659942, 122923113.7724551, 137787792.91553134, 97864987.71498771, 89532997.48110831, 78330572.20708446, 83453237.25055432, 91032606.74157304, 86659351.46443515, 85831740.97664544, 106072526.76659529, 94117836.64459161, 69840493.50649351, 100246764.70588236, 93482295.71984436, 106478455.88235295, 102294457.83132531, 62228400.0, 37278888.88888889, 209072307.69230768, 124287500.0, 70393333.33333333, 303625000.0, null], \"xaxis\": \"x6\", \"y\": [\"60\", \"59\", \"58\", \"56\", \"57\", \"55\", \"54\", \"53\", \"50\", \"52\", \"51\", \"49\", \"48\", \"47\", \"46\", \"44\", \"43\", \"45\", \"42\", \"41\", \"40\", \"39\", \"38\", \"37\", \"36\", \"35\", \"34\", \"33\", \"32\", \"31\", \"30\", \"29\", \"28\", \"27\", \"26\", \"25\", \"24\", \"23\", \"22\", \"21\", \"20\", \"19\", \"18\", \"17\", \"16\", \"15\", \"14\", \"13\", \"12\", \"11\", \"10\", \"9\", \"8\", \"7\", \"6\", \"5\", \"4\", \"3\", \"2\", \"1\"], \"yaxis\": \"y6\"}],\n",
              "                        {\"height\": 900, \"template\": {\"data\": {\"bar\": [{\"error_x\": {\"color\": \"#2a3f5f\"}, \"error_y\": {\"color\": \"#2a3f5f\"}, \"marker\": {\"line\": {\"color\": \"#E5ECF6\", \"width\": 0.5}}, \"type\": \"bar\"}], \"barpolar\": [{\"marker\": {\"line\": {\"color\": \"#E5ECF6\", \"width\": 0.5}}, \"type\": \"barpolar\"}], \"carpet\": [{\"aaxis\": {\"endlinecolor\": \"#2a3f5f\", \"gridcolor\": \"white\", \"linecolor\": \"white\", \"minorgridcolor\": \"white\", \"startlinecolor\": \"#2a3f5f\"}, \"baxis\": {\"endlinecolor\": \"#2a3f5f\", \"gridcolor\": \"white\", \"linecolor\": \"white\", \"minorgridcolor\": \"white\", \"startlinecolor\": \"#2a3f5f\"}, \"type\": \"carpet\"}], \"choropleth\": [{\"colorbar\": {\"outlinewidth\": 0, \"ticks\": \"\"}, \"type\": \"choropleth\"}], \"contour\": [{\"colorbar\": {\"outlinewidth\": 0, \"ticks\": \"\"}, \"colorscale\": [[0.0, \"#0d0887\"], [0.1111111111111111, \"#46039f\"], [0.2222222222222222, \"#7201a8\"], [0.3333333333333333, \"#9c179e\"], [0.4444444444444444, \"#bd3786\"], [0.5555555555555556, \"#d8576b\"], [0.6666666666666666, \"#ed7953\"], [0.7777777777777778, \"#fb9f3a\"], [0.8888888888888888, \"#fdca26\"], [1.0, \"#f0f921\"]], \"type\": \"contour\"}], \"contourcarpet\": [{\"colorbar\": {\"outlinewidth\": 0, \"ticks\": \"\"}, \"type\": \"contourcarpet\"}], \"heatmap\": [{\"colorbar\": {\"outlinewidth\": 0, \"ticks\": \"\"}, \"colorscale\": [[0.0, \"#0d0887\"], [0.1111111111111111, \"#46039f\"], [0.2222222222222222, \"#7201a8\"], [0.3333333333333333, \"#9c179e\"], [0.4444444444444444, \"#bd3786\"], [0.5555555555555556, \"#d8576b\"], [0.6666666666666666, \"#ed7953\"], [0.7777777777777778, \"#fb9f3a\"], [0.8888888888888888, \"#fdca26\"], [1.0, \"#f0f921\"]], \"type\": \"heatmap\"}], \"heatmapgl\": [{\"colorbar\": {\"outlinewidth\": 0, \"ticks\": \"\"}, \"colorscale\": [[0.0, \"#0d0887\"], [0.1111111111111111, \"#46039f\"], [0.2222222222222222, \"#7201a8\"], [0.3333333333333333, \"#9c179e\"], [0.4444444444444444, \"#bd3786\"], [0.5555555555555556, \"#d8576b\"], [0.6666666666666666, \"#ed7953\"], [0.7777777777777778, \"#fb9f3a\"], [0.8888888888888888, \"#fdca26\"], [1.0, \"#f0f921\"]], \"type\": \"heatmapgl\"}], \"histogram\": [{\"marker\": {\"colorbar\": {\"outlinewidth\": 0, \"ticks\": \"\"}}, \"type\": \"histogram\"}], \"histogram2d\": [{\"colorbar\": {\"outlinewidth\": 0, \"ticks\": \"\"}, \"colorscale\": [[0.0, \"#0d0887\"], [0.1111111111111111, \"#46039f\"], [0.2222222222222222, \"#7201a8\"], [0.3333333333333333, \"#9c179e\"], [0.4444444444444444, \"#bd3786\"], [0.5555555555555556, \"#d8576b\"], [0.6666666666666666, \"#ed7953\"], [0.7777777777777778, \"#fb9f3a\"], [0.8888888888888888, \"#fdca26\"], [1.0, \"#f0f921\"]], \"type\": \"histogram2d\"}], \"histogram2dcontour\": [{\"colorbar\": {\"outlinewidth\": 0, \"ticks\": \"\"}, \"colorscale\": [[0.0, \"#0d0887\"], [0.1111111111111111, \"#46039f\"], [0.2222222222222222, \"#7201a8\"], [0.3333333333333333, \"#9c179e\"], [0.4444444444444444, \"#bd3786\"], [0.5555555555555556, \"#d8576b\"], [0.6666666666666666, \"#ed7953\"], [0.7777777777777778, \"#fb9f3a\"], [0.8888888888888888, \"#fdca26\"], [1.0, \"#f0f921\"]], \"type\": \"histogram2dcontour\"}], \"mesh3d\": [{\"colorbar\": {\"outlinewidth\": 0, \"ticks\": \"\"}, \"type\": \"mesh3d\"}], \"parcoords\": [{\"line\": {\"colorbar\": {\"outlinewidth\": 0, \"ticks\": \"\"}}, \"type\": \"parcoords\"}], \"pie\": [{\"automargin\": true, \"type\": \"pie\"}], \"scatter\": [{\"marker\": {\"colorbar\": {\"outlinewidth\": 0, \"ticks\": \"\"}}, \"type\": \"scatter\"}], \"scatter3d\": [{\"line\": {\"colorbar\": {\"outlinewidth\": 0, \"ticks\": \"\"}}, \"marker\": {\"colorbar\": {\"outlinewidth\": 0, \"ticks\": \"\"}}, \"type\": \"scatter3d\"}], \"scattercarpet\": [{\"marker\": {\"colorbar\": {\"outlinewidth\": 0, \"ticks\": \"\"}}, \"type\": \"scattercarpet\"}], \"scattergeo\": [{\"marker\": {\"colorbar\": {\"outlinewidth\": 0, \"ticks\": \"\"}}, \"type\": \"scattergeo\"}], \"scattergl\": [{\"marker\": {\"colorbar\": {\"outlinewidth\": 0, \"ticks\": \"\"}}, \"type\": \"scattergl\"}], \"scattermapbox\": [{\"marker\": {\"colorbar\": {\"outlinewidth\": 0, \"ticks\": \"\"}}, \"type\": \"scattermapbox\"}], \"scatterpolar\": [{\"marker\": {\"colorbar\": {\"outlinewidth\": 0, \"ticks\": \"\"}}, \"type\": \"scatterpolar\"}], \"scatterpolargl\": [{\"marker\": {\"colorbar\": {\"outlinewidth\": 0, \"ticks\": \"\"}}, \"type\": \"scatterpolargl\"}], \"scatterternary\": [{\"marker\": {\"colorbar\": {\"outlinewidth\": 0, \"ticks\": \"\"}}, \"type\": \"scatterternary\"}], \"surface\": [{\"colorbar\": {\"outlinewidth\": 0, \"ticks\": \"\"}, \"colorscale\": [[0.0, \"#0d0887\"], [0.1111111111111111, \"#46039f\"], [0.2222222222222222, \"#7201a8\"], [0.3333333333333333, \"#9c179e\"], [0.4444444444444444, \"#bd3786\"], [0.5555555555555556, \"#d8576b\"], [0.6666666666666666, \"#ed7953\"], [0.7777777777777778, \"#fb9f3a\"], [0.8888888888888888, \"#fdca26\"], [1.0, \"#f0f921\"]], \"type\": \"surface\"}], \"table\": [{\"cells\": {\"fill\": {\"color\": \"#EBF0F8\"}, \"line\": {\"color\": \"white\"}}, \"header\": {\"fill\": {\"color\": \"#C8D4E3\"}, \"line\": {\"color\": \"white\"}}, \"type\": \"table\"}]}, \"layout\": {\"annotationdefaults\": {\"arrowcolor\": \"#2a3f5f\", \"arrowhead\": 0, \"arrowwidth\": 1}, \"coloraxis\": {\"colorbar\": {\"outlinewidth\": 0, \"ticks\": \"\"}}, \"colorscale\": {\"diverging\": [[0, \"#8e0152\"], [0.1, \"#c51b7d\"], [0.2, \"#de77ae\"], [0.3, \"#f1b6da\"], [0.4, \"#fde0ef\"], [0.5, \"#f7f7f7\"], [0.6, \"#e6f5d0\"], [0.7, \"#b8e186\"], [0.8, \"#7fbc41\"], [0.9, \"#4d9221\"], [1, \"#276419\"]], \"sequential\": [[0.0, \"#0d0887\"], [0.1111111111111111, \"#46039f\"], [0.2222222222222222, \"#7201a8\"], [0.3333333333333333, \"#9c179e\"], [0.4444444444444444, \"#bd3786\"], [0.5555555555555556, \"#d8576b\"], [0.6666666666666666, \"#ed7953\"], [0.7777777777777778, \"#fb9f3a\"], [0.8888888888888888, \"#fdca26\"], [1.0, \"#f0f921\"]], \"sequentialminus\": [[0.0, \"#0d0887\"], [0.1111111111111111, \"#46039f\"], [0.2222222222222222, \"#7201a8\"], [0.3333333333333333, \"#9c179e\"], [0.4444444444444444, \"#bd3786\"], [0.5555555555555556, \"#d8576b\"], [0.6666666666666666, \"#ed7953\"], [0.7777777777777778, \"#fb9f3a\"], [0.8888888888888888, \"#fdca26\"], [1.0, \"#f0f921\"]]}, \"colorway\": [\"#636efa\", \"#EF553B\", \"#00cc96\", \"#ab63fa\", \"#FFA15A\", \"#19d3f3\", \"#FF6692\", \"#B6E880\", \"#FF97FF\", \"#FECB52\"], \"font\": {\"color\": \"#2a3f5f\"}, \"geo\": {\"bgcolor\": \"white\", \"lakecolor\": \"white\", \"landcolor\": \"#E5ECF6\", \"showlakes\": true, \"showland\": true, \"subunitcolor\": \"white\"}, \"hoverlabel\": {\"align\": \"left\"}, \"hovermode\": \"closest\", \"mapbox\": {\"style\": \"light\"}, \"paper_bgcolor\": \"white\", \"plot_bgcolor\": \"#E5ECF6\", \"polar\": {\"angularaxis\": {\"gridcolor\": \"white\", \"linecolor\": \"white\", \"ticks\": \"\"}, \"bgcolor\": \"#E5ECF6\", \"radialaxis\": {\"gridcolor\": \"white\", \"linecolor\": \"white\", \"ticks\": \"\"}}, \"scene\": {\"xaxis\": {\"backgroundcolor\": \"#E5ECF6\", \"gridcolor\": \"white\", \"gridwidth\": 2, \"linecolor\": \"white\", \"showbackground\": true, \"ticks\": \"\", \"zerolinecolor\": \"white\"}, \"yaxis\": {\"backgroundcolor\": \"#E5ECF6\", \"gridcolor\": \"white\", \"gridwidth\": 2, \"linecolor\": \"white\", \"showbackground\": true, \"ticks\": \"\", \"zerolinecolor\": \"white\"}, \"zaxis\": {\"backgroundcolor\": \"#E5ECF6\", \"gridcolor\": \"white\", \"gridwidth\": 2, \"linecolor\": \"white\", \"showbackground\": true, \"ticks\": \"\", \"zerolinecolor\": \"white\"}}, \"shapedefaults\": {\"line\": {\"color\": \"#2a3f5f\"}}, \"ternary\": {\"aaxis\": {\"gridcolor\": \"white\", \"linecolor\": \"white\", \"ticks\": \"\"}, \"baxis\": {\"gridcolor\": \"white\", \"linecolor\": \"white\", \"ticks\": \"\"}, \"bgcolor\": \"#E5ECF6\", \"caxis\": {\"gridcolor\": \"white\", \"linecolor\": \"white\", \"ticks\": \"\"}}, \"title\": {\"x\": 0.05}, \"xaxis\": {\"automargin\": true, \"gridcolor\": \"white\", \"linecolor\": \"white\", \"ticks\": \"\", \"title\": {\"standoff\": 15}, \"zerolinecolor\": \"white\", \"zerolinewidth\": 2}, \"yaxis\": {\"automargin\": true, \"gridcolor\": \"white\", \"linecolor\": \"white\", \"ticks\": \"\", \"title\": {\"standoff\": 15}, \"zerolinecolor\": \"white\", \"zerolinewidth\": 2}}}, \"title\": {\"text\": \"Session Plots\", \"x\": 0.5}, \"width\": 1200, \"xaxis\": {\"anchor\": \"y\", \"domain\": [0.0, 0.27999999999999997]}, \"xaxis2\": {\"anchor\": \"y2\", \"domain\": [0.36, 0.6399999999999999]}, \"xaxis3\": {\"anchor\": \"y3\", \"domain\": [0.72, 1.0]}, \"xaxis4\": {\"anchor\": \"y4\", \"domain\": [0.0, 0.27999999999999997], \"title\": {\"text\": \"Total Visits\"}}, \"xaxis5\": {\"anchor\": \"y5\", \"domain\": [0.36, 0.6399999999999999], \"title\": {\"text\": \"Non-zero Revenue Visits\"}}, \"xaxis6\": {\"anchor\": \"y6\", \"domain\": [0.72, 1.0], \"title\": {\"text\": \"Mean Revenue\"}}, \"yaxis\": {\"anchor\": \"x\", \"domain\": [0.53, 1.0], \"title\": {\"text\": \"Total Hits\"}}, \"yaxis2\": {\"anchor\": \"x2\", \"domain\": [0.53, 1.0]}, \"yaxis3\": {\"anchor\": \"x3\", \"domain\": [0.53, 1.0]}, \"yaxis4\": {\"anchor\": \"x4\", \"domain\": [0.0, 0.47], \"title\": {\"text\": \"Total Pageviews\"}}, \"yaxis5\": {\"anchor\": \"x5\", \"domain\": [0.0, 0.47]}, \"yaxis6\": {\"anchor\": \"x6\", \"domain\": [0.0, 0.47]}},\n",
              "                        {\"responsive\": true}\n",
              "                    ).then(function(){\n",
              "                            \n",
              "var gd = document.getElementById('9f3b7432-36a9-403d-ab40-b08f20367fdd');\n",
              "var x = new MutationObserver(function (mutations, observer) {{\n",
              "        var display = window.getComputedStyle(gd).display;\n",
              "        if (!display || display === 'none') {{\n",
              "            console.log([gd, 'removed!']);\n",
              "            Plotly.purge(gd);\n",
              "            observer.disconnect();\n",
              "        }}\n",
              "}});\n",
              "\n",
              "// Listen for the removal of the full notebook cells\n",
              "var notebookContainer = gd.closest('#notebook-container');\n",
              "if (notebookContainer) {{\n",
              "    x.observe(notebookContainer, {childList: true});\n",
              "}}\n",
              "\n",
              "// Listen for the clearing of the current output cell\n",
              "var outputEl = gd.closest('.output');\n",
              "if (outputEl) {{\n",
              "    x.observe(outputEl, {childList: true});\n",
              "}}\n",
              "\n",
              "                        })\n",
              "                };\n",
              "                \n",
              "            </script>\n",
              "        </div>\n",
              "</body>\n",
              "</html>"
            ]
          },
          "metadata": {
            "tags": []
          }
        }
      ]
    },
    {
      "cell_type": "markdown",
      "metadata": {
        "id": "0vHVXtklPw1D"
      },
      "source": [
        "Some findings:\n",
        "\n",
        "\n",
        "1.   These two features were highly predictive of transaction revenue.\n",
        "2.   Revenue was non-zero only when hits or pageviews was above 1.\n",
        "3.   With hits/pageviews increasing, non-zero revenue visits increased at first, then decreased.\n",
        "4.   Most visits had less than 10 hits/pageviews.<br><br>\n",
        "\n"
      ]
    },
    {
      "cell_type": "markdown",
      "metadata": {
        "id": "wKVyoFxhW7Fv"
      },
      "source": [
        "### 2.3 Explore time-related features"
      ]
    },
    {
      "cell_type": "markdown",
      "metadata": {
        "id": "6pp27eq6scSa"
      },
      "source": [
        "For time-related features, I'll mainly explore two parts: 1) the seasonality of visits and mean revenue; 2) two aggregated features (datediff, total visit) and their relation to revenue."
      ]
    },
    {
      "cell_type": "markdown",
      "metadata": {
        "id": "o6eLHl5Tzau5"
      },
      "source": [
        "<br>**Seasonality of visits and mean revenue:**<br><br>"
      ]
    },
    {
      "cell_type": "code",
      "metadata": {
        "id": "ZcfOx0dFzsu5"
      },
      "source": [
        "# datetype conversion\n",
        "train['date'] = pd.to_datetime(train['date'], format='%Y%m%d')"
      ],
      "execution_count": null,
      "outputs": []
    },
    {
      "cell_type": "code",
      "metadata": {
        "colab": {
          "base_uri": "https://localhost:8080/",
          "height": 917
        },
        "id": "Tnm932aPr5vP",
        "outputId": "300921c2-1f3f-49a3-8408-d9c01cad7e26"
      },
      "source": [
        "gdf = train.groupby('date')['totals.transactionRevenue'].agg(['size', 'count', 'mean'])\n",
        "gdf.columns = ['count', 'count of non-zero revenue', 'mean']\n",
        "\n",
        "fig = make_subplots(rows=3, cols=1, vertical_spacing=0.06)\n",
        "fig.append_trace(go.Scatter(y=gdf['count'], x=gdf.index, showlegend=False), 1, 1)\n",
        "fig.append_trace(go.Scatter(y=gdf['count of non-zero revenue'], x=gdf.index, showlegend=False), 2, 1)\n",
        "fig.append_trace(go.Scatter(y=gdf['mean'], x=gdf.index, showlegend=False), 3, 1)\n",
        "\n",
        "# Update xaxis properties\n",
        "fig.update_xaxes(title_text=\"Date\", row=3, col=1)\n",
        "\n",
        "# Update yaxis properties\n",
        "fig.update_yaxes(title_text=\"Total Visits\", row=1, col=1)\n",
        "fig.update_yaxes(title_text=\"Non-zero Revenue Visits\", row=2, col=1)\n",
        "fig.update_yaxes(title_text=\"Mean Revenue\", row=3, col=1)\n",
        "\n",
        "fig.update_layout(height=900, width=800, title=dict(text='Date Plots', x=0.5))\n",
        "fig.show()"
      ],
      "execution_count": null,
      "outputs": [
        {
          "output_type": "display_data",
          "data": {
            "text/html": [
              "<html>\n",
              "<head><meta charset=\"utf-8\" /></head>\n",
              "<body>\n",
              "    <div>\n",
              "            <script src=\"https://cdnjs.cloudflare.com/ajax/libs/mathjax/2.7.5/MathJax.js?config=TeX-AMS-MML_SVG\"></script><script type=\"text/javascript\">if (window.MathJax) {MathJax.Hub.Config({SVG: {font: \"STIX-Web\"}});}</script>\n",
              "                <script type=\"text/javascript\">window.PlotlyConfig = {MathJaxConfig: 'local'};</script>\n",
              "        <script src=\"https://cdn.plot.ly/plotly-latest.min.js\"></script>    \n",
              "            <div id=\"e1e91068-dc50-4dc4-a14e-8650fa299bf6\" class=\"plotly-graph-div\" style=\"height:900px; width:800px;\"></div>\n",
              "            <script type=\"text/javascript\">\n",
              "                \n",
              "                    window.PLOTLYENV=window.PLOTLYENV || {};\n",
              "                    \n",
              "                if (document.getElementById(\"e1e91068-dc50-4dc4-a14e-8650fa299bf6\")) {\n",
              "                    Plotly.newPlot(\n",
              "                        'e1e91068-dc50-4dc4-a14e-8650fa299bf6',\n",
              "                        [{\"showlegend\": false, \"type\": \"scatter\", \"x\": [\"2016-08-01T00:00:00\", \"2016-08-02T00:00:00\", \"2016-08-03T00:00:00\", \"2016-08-04T00:00:00\", \"2016-08-05T00:00:00\", \"2016-08-06T00:00:00\", \"2016-08-07T00:00:00\", \"2016-08-08T00:00:00\", \"2016-08-09T00:00:00\", \"2016-08-10T00:00:00\", \"2016-08-11T00:00:00\", \"2016-08-12T00:00:00\", \"2016-08-13T00:00:00\", \"2016-08-14T00:00:00\", \"2016-08-15T00:00:00\", \"2016-08-16T00:00:00\", \"2016-08-17T00:00:00\", \"2016-08-18T00:00:00\", \"2016-08-19T00:00:00\", \"2016-08-20T00:00:00\", \"2016-08-21T00:00:00\", \"2016-08-22T00:00:00\", \"2016-08-23T00:00:00\", \"2016-08-24T00:00:00\", \"2016-08-25T00:00:00\", \"2016-08-26T00:00:00\", \"2016-08-27T00:00:00\", \"2016-08-28T00:00:00\", \"2016-08-29T00:00:00\", \"2016-08-30T00:00:00\", \"2016-08-31T00:00:00\", \"2016-09-01T00:00:00\", \"2016-09-02T00:00:00\", \"2016-09-03T00:00:00\", \"2016-09-04T00:00:00\", \"2016-09-05T00:00:00\", \"2016-09-06T00:00:00\", \"2016-09-07T00:00:00\", \"2016-09-08T00:00:00\", \"2016-09-09T00:00:00\", \"2016-09-10T00:00:00\", \"2016-09-11T00:00:00\", \"2016-09-12T00:00:00\", \"2016-09-13T00:00:00\", \"2016-09-14T00:00:00\", \"2016-09-15T00:00:00\", \"2016-09-16T00:00:00\", \"2016-09-17T00:00:00\", \"2016-09-18T00:00:00\", \"2016-09-19T00:00:00\", \"2016-09-20T00:00:00\", \"2016-09-21T00:00:00\", \"2016-09-22T00:00:00\", \"2016-09-23T00:00:00\", \"2016-09-24T00:00:00\", \"2016-09-25T00:00:00\", \"2016-09-26T00:00:00\", \"2016-09-27T00:00:00\", \"2016-09-28T00:00:00\", \"2016-09-29T00:00:00\", \"2016-09-30T00:00:00\", \"2016-10-01T00:00:00\", \"2016-10-02T00:00:00\", \"2016-10-03T00:00:00\", \"2016-10-04T00:00:00\", \"2016-10-05T00:00:00\", \"2016-10-06T00:00:00\", \"2016-10-07T00:00:00\", \"2016-10-08T00:00:00\", \"2016-10-09T00:00:00\", \"2016-10-10T00:00:00\", \"2016-10-11T00:00:00\", \"2016-10-12T00:00:00\", \"2016-10-13T00:00:00\", \"2016-10-14T00:00:00\", \"2016-10-15T00:00:00\", \"2016-10-16T00:00:00\", \"2016-10-17T00:00:00\", \"2016-10-18T00:00:00\", \"2016-10-19T00:00:00\", \"2016-10-20T00:00:00\", \"2016-10-21T00:00:00\", \"2016-10-22T00:00:00\", \"2016-10-23T00:00:00\", \"2016-10-24T00:00:00\", \"2016-10-25T00:00:00\", \"2016-10-26T00:00:00\", \"2016-10-27T00:00:00\", \"2016-10-28T00:00:00\", \"2016-10-29T00:00:00\", \"2016-10-30T00:00:00\", \"2016-10-31T00:00:00\", \"2016-11-01T00:00:00\", \"2016-11-02T00:00:00\", \"2016-11-03T00:00:00\", \"2016-11-04T00:00:00\", \"2016-11-05T00:00:00\", \"2016-11-06T00:00:00\", \"2016-11-07T00:00:00\", \"2016-11-08T00:00:00\", \"2016-11-09T00:00:00\", \"2016-11-10T00:00:00\", \"2016-11-11T00:00:00\", \"2016-11-12T00:00:00\", \"2016-11-13T00:00:00\", \"2016-11-14T00:00:00\", \"2016-11-15T00:00:00\", \"2016-11-16T00:00:00\", \"2016-11-17T00:00:00\", \"2016-11-18T00:00:00\", \"2016-11-19T00:00:00\", \"2016-11-20T00:00:00\", \"2016-11-21T00:00:00\", \"2016-11-22T00:00:00\", \"2016-11-23T00:00:00\", \"2016-11-24T00:00:00\", \"2016-11-25T00:00:00\", \"2016-11-26T00:00:00\", \"2016-11-27T00:00:00\", \"2016-11-28T00:00:00\", \"2016-11-29T00:00:00\", \"2016-11-30T00:00:00\", \"2016-12-01T00:00:00\", \"2016-12-02T00:00:00\", \"2016-12-03T00:00:00\", \"2016-12-04T00:00:00\", \"2016-12-05T00:00:00\", \"2016-12-06T00:00:00\", \"2016-12-07T00:00:00\", \"2016-12-08T00:00:00\", \"2016-12-09T00:00:00\", \"2016-12-10T00:00:00\", \"2016-12-11T00:00:00\", \"2016-12-12T00:00:00\", \"2016-12-13T00:00:00\", \"2016-12-14T00:00:00\", \"2016-12-15T00:00:00\", \"2016-12-16T00:00:00\", \"2016-12-17T00:00:00\", \"2016-12-18T00:00:00\", \"2016-12-19T00:00:00\", \"2016-12-20T00:00:00\", \"2016-12-21T00:00:00\", \"2016-12-22T00:00:00\", \"2016-12-23T00:00:00\", \"2016-12-24T00:00:00\", \"2016-12-25T00:00:00\", \"2016-12-26T00:00:00\", \"2016-12-27T00:00:00\", \"2016-12-28T00:00:00\", \"2016-12-29T00:00:00\", \"2016-12-30T00:00:00\", \"2016-12-31T00:00:00\", \"2017-01-01T00:00:00\", \"2017-01-02T00:00:00\", \"2017-01-03T00:00:00\", \"2017-01-04T00:00:00\", \"2017-01-05T00:00:00\", \"2017-01-06T00:00:00\", \"2017-01-07T00:00:00\", \"2017-01-08T00:00:00\", \"2017-01-09T00:00:00\", \"2017-01-10T00:00:00\", \"2017-01-11T00:00:00\", \"2017-01-12T00:00:00\", \"2017-01-13T00:00:00\", \"2017-01-14T00:00:00\", \"2017-01-15T00:00:00\", \"2017-01-16T00:00:00\", \"2017-01-17T00:00:00\", \"2017-01-18T00:00:00\", \"2017-01-19T00:00:00\", \"2017-01-20T00:00:00\", \"2017-01-21T00:00:00\", \"2017-01-22T00:00:00\", \"2017-01-23T00:00:00\", \"2017-01-24T00:00:00\", \"2017-01-25T00:00:00\", \"2017-01-26T00:00:00\", \"2017-01-27T00:00:00\", \"2017-01-28T00:00:00\", \"2017-01-29T00:00:00\", \"2017-01-30T00:00:00\", \"2017-01-31T00:00:00\", \"2017-02-01T00:00:00\", \"2017-02-02T00:00:00\", \"2017-02-03T00:00:00\", \"2017-02-04T00:00:00\", \"2017-02-05T00:00:00\", \"2017-02-06T00:00:00\", \"2017-02-07T00:00:00\", \"2017-02-08T00:00:00\", \"2017-02-09T00:00:00\", \"2017-02-10T00:00:00\", \"2017-02-11T00:00:00\", \"2017-02-12T00:00:00\", \"2017-02-13T00:00:00\", \"2017-02-14T00:00:00\", \"2017-02-15T00:00:00\", \"2017-02-16T00:00:00\", \"2017-02-17T00:00:00\", \"2017-02-18T00:00:00\", \"2017-02-19T00:00:00\", \"2017-02-20T00:00:00\", \"2017-02-21T00:00:00\", \"2017-02-22T00:00:00\", \"2017-02-23T00:00:00\", \"2017-02-24T00:00:00\", \"2017-02-25T00:00:00\", \"2017-02-26T00:00:00\", \"2017-02-27T00:00:00\", \"2017-02-28T00:00:00\", \"2017-03-01T00:00:00\", \"2017-03-02T00:00:00\", \"2017-03-03T00:00:00\", \"2017-03-04T00:00:00\", \"2017-03-05T00:00:00\", \"2017-03-06T00:00:00\", \"2017-03-07T00:00:00\", \"2017-03-08T00:00:00\", \"2017-03-09T00:00:00\", \"2017-03-10T00:00:00\", \"2017-03-11T00:00:00\", \"2017-03-12T00:00:00\", \"2017-03-13T00:00:00\", \"2017-03-14T00:00:00\", \"2017-03-15T00:00:00\", \"2017-03-16T00:00:00\", \"2017-03-17T00:00:00\", \"2017-03-18T00:00:00\", \"2017-03-19T00:00:00\", \"2017-03-20T00:00:00\", \"2017-03-21T00:00:00\", \"2017-03-22T00:00:00\", \"2017-03-23T00:00:00\", \"2017-03-24T00:00:00\", \"2017-03-25T00:00:00\", \"2017-03-26T00:00:00\", \"2017-03-27T00:00:00\", \"2017-03-28T00:00:00\", \"2017-03-29T00:00:00\", \"2017-03-30T00:00:00\", \"2017-03-31T00:00:00\", \"2017-04-01T00:00:00\", \"2017-04-02T00:00:00\", \"2017-04-03T00:00:00\", \"2017-04-04T00:00:00\", \"2017-04-05T00:00:00\", \"2017-04-06T00:00:00\", \"2017-04-07T00:00:00\", \"2017-04-08T00:00:00\", \"2017-04-09T00:00:00\", \"2017-04-10T00:00:00\", \"2017-04-11T00:00:00\", \"2017-04-12T00:00:00\", \"2017-04-13T00:00:00\", \"2017-04-14T00:00:00\", \"2017-04-15T00:00:00\", \"2017-04-16T00:00:00\", \"2017-04-17T00:00:00\", \"2017-04-18T00:00:00\", \"2017-04-19T00:00:00\", \"2017-04-20T00:00:00\", \"2017-04-21T00:00:00\", \"2017-04-22T00:00:00\", \"2017-04-23T00:00:00\", \"2017-04-24T00:00:00\", \"2017-04-25T00:00:00\", \"2017-04-26T00:00:00\", \"2017-04-27T00:00:00\", \"2017-04-28T00:00:00\", \"2017-04-29T00:00:00\", \"2017-04-30T00:00:00\", \"2017-05-01T00:00:00\", \"2017-05-02T00:00:00\", \"2017-05-03T00:00:00\", \"2017-05-04T00:00:00\", \"2017-05-05T00:00:00\", \"2017-05-06T00:00:00\", \"2017-05-07T00:00:00\", \"2017-05-08T00:00:00\", \"2017-05-09T00:00:00\", \"2017-05-10T00:00:00\", \"2017-05-11T00:00:00\", \"2017-05-12T00:00:00\", \"2017-05-13T00:00:00\", \"2017-05-14T00:00:00\", \"2017-05-15T00:00:00\", \"2017-05-16T00:00:00\", \"2017-05-17T00:00:00\", \"2017-05-18T00:00:00\", \"2017-05-19T00:00:00\", \"2017-05-20T00:00:00\", \"2017-05-21T00:00:00\", \"2017-05-22T00:00:00\", \"2017-05-23T00:00:00\", \"2017-05-24T00:00:00\", \"2017-05-25T00:00:00\", \"2017-05-26T00:00:00\", \"2017-05-27T00:00:00\", \"2017-05-28T00:00:00\", \"2017-05-29T00:00:00\", \"2017-05-30T00:00:00\", \"2017-05-31T00:00:00\", \"2017-06-01T00:00:00\", \"2017-06-02T00:00:00\", \"2017-06-03T00:00:00\", \"2017-06-04T00:00:00\", \"2017-06-05T00:00:00\", \"2017-06-06T00:00:00\", \"2017-06-07T00:00:00\", \"2017-06-08T00:00:00\", \"2017-06-09T00:00:00\", \"2017-06-10T00:00:00\", \"2017-06-11T00:00:00\", \"2017-06-12T00:00:00\", \"2017-06-13T00:00:00\", \"2017-06-14T00:00:00\", \"2017-06-15T00:00:00\", \"2017-06-16T00:00:00\", \"2017-06-17T00:00:00\", \"2017-06-18T00:00:00\", \"2017-06-19T00:00:00\", \"2017-06-20T00:00:00\", \"2017-06-21T00:00:00\", \"2017-06-22T00:00:00\", \"2017-06-23T00:00:00\", \"2017-06-24T00:00:00\", \"2017-06-25T00:00:00\", \"2017-06-26T00:00:00\", \"2017-06-27T00:00:00\", \"2017-06-28T00:00:00\", \"2017-06-29T00:00:00\", \"2017-06-30T00:00:00\", \"2017-07-01T00:00:00\", \"2017-07-02T00:00:00\", \"2017-07-03T00:00:00\", \"2017-07-04T00:00:00\", \"2017-07-05T00:00:00\", \"2017-07-06T00:00:00\", \"2017-07-07T00:00:00\", \"2017-07-08T00:00:00\", \"2017-07-09T00:00:00\", \"2017-07-10T00:00:00\", \"2017-07-11T00:00:00\", \"2017-07-12T00:00:00\", \"2017-07-13T00:00:00\", \"2017-07-14T00:00:00\", \"2017-07-15T00:00:00\", \"2017-07-16T00:00:00\", \"2017-07-17T00:00:00\", \"2017-07-18T00:00:00\", \"2017-07-19T00:00:00\", \"2017-07-20T00:00:00\", \"2017-07-21T00:00:00\", \"2017-07-22T00:00:00\", \"2017-07-23T00:00:00\", \"2017-07-24T00:00:00\", \"2017-07-25T00:00:00\", \"2017-07-26T00:00:00\", \"2017-07-27T00:00:00\", \"2017-07-28T00:00:00\", \"2017-07-29T00:00:00\", \"2017-07-30T00:00:00\", \"2017-07-31T00:00:00\", \"2017-08-01T00:00:00\"], \"xaxis\": \"x\", \"y\": [1711, 2140, 2890, 3161, 2702, 1663, 1622, 2815, 2851, 2757, 2667, 2619, 1596, 1801, 3043, 2873, 2799, 2725, 2379, 1664, 1730, 2584, 2754, 2627, 2539, 2359, 1654, 1682, 2454, 2675, 3223, 2687, 2613, 1741, 1692, 2125, 2508, 2562, 2628, 2549, 1671, 1725, 2465, 2396, 2652, 2949, 2603, 1853, 1822, 2689, 2760, 2720, 2581, 2381, 1845, 1877, 2776, 2727, 2535, 2597, 2303, 1589, 1724, 2514, 4322, 3770, 3016, 2892, 2114, 2134, 2911, 2850, 2871, 2964, 2838, 2495, 2649, 3397, 3628, 3544, 3755, 3419, 3029, 2971, 4063, 3842, 4375, 4162, 3791, 2964, 3086, 3827, 3728, 3960, 4014, 3596, 3042, 3232, 3832, 3899, 3752, 4055, 3588, 3119, 3144, 4466, 4685, 4334, 4074, 3654, 2984, 3247, 4143, 3942, 3805, 3770, 3759, 3213, 3356, 4807, 4337, 4435, 4200, 3751, 3044, 3220, 4265, 3021, 2840, 3013, 2830, 2207, 2208, 3433, 3166, 3040, 2937, 2956, 2324, 2128, 3222, 3110, 2594, 2100, 1604, 1231, 1386, 1586, 1855, 1763, 1647, 1232, 1211, 1364, 1620, 2403, 2390, 2193, 2210, 1615, 1637, 2308, 2268, 2185, 2203, 1967, 1526, 1576, 1906, 2443, 2245, 2083, 2074, 1685, 1700, 2262, 3618, 2986, 2209, 1969, 1614, 1814, 2392, 2229, 2445, 2372, 2182, 1549, 1522, 2238, 2476, 2570, 2678, 2199, 1761, 1790, 2266, 2379, 2629, 2539, 2785, 1755, 2187, 2374, 2582, 2477, 2364, 2093, 1638, 1643, 2352, 2347, 2390, 2267, 2162, 1753, 1827, 2396, 2586, 2449, 2231, 2194, 1707, 1781, 2537, 2338, 2486, 2409, 2129, 1610, 1776, 2383, 2611, 2582, 2847, 2374, 1712, 1768, 2525, 2577, 2525, 2731, 2268, 2170, 1861, 2383, 2978, 2619, 2647, 2297, 1829, 1766, 2563, 2464, 2341, 2300, 1834, 1506, 1507, 2279, 2391, 2397, 2374, 2210, 1612, 1548, 2263, 2354, 4224, 2838, 2411, 1566, 1594, 2588, 2564, 2588, 2806, 1960, 1383, 1400, 2025, 2108, 2024, 2218, 1932, 1251, 1290, 2360, 3098, 3117, 2715, 2223, 1855, 1645, 2248, 2129, 2406, 2228, 2009, 1502, 1463, 1745, 2199, 2292, 2826, 2190, 1399, 1534, 2493, 2391, 2279, 2280, 1927, 1545, 1555, 2361, 2181, 2517, 2237, 2028, 1391, 1432, 2142, 2143, 2357, 2258, 2095, 1510, 1597, 2226, 2789, 2687, 2709, 2499, 2048, 1895, 2046, 1938, 2885, 2658, 2450, 1859, 1921, 2769, 2635, 2554, 2741, 2382, 1721, 1766, 2671, 2804, 2514, 2668, 2427, 1724, 1966, 2436, 2631, 2725, 2529, 2433, 1597, 1799, 2620, 2556], \"yaxis\": \"y\"}, {\"showlegend\": false, \"type\": \"scatter\", \"x\": [\"2016-08-01T00:00:00\", \"2016-08-02T00:00:00\", \"2016-08-03T00:00:00\", \"2016-08-04T00:00:00\", \"2016-08-05T00:00:00\", \"2016-08-06T00:00:00\", \"2016-08-07T00:00:00\", \"2016-08-08T00:00:00\", \"2016-08-09T00:00:00\", \"2016-08-10T00:00:00\", \"2016-08-11T00:00:00\", \"2016-08-12T00:00:00\", \"2016-08-13T00:00:00\", \"2016-08-14T00:00:00\", \"2016-08-15T00:00:00\", \"2016-08-16T00:00:00\", \"2016-08-17T00:00:00\", \"2016-08-18T00:00:00\", \"2016-08-19T00:00:00\", \"2016-08-20T00:00:00\", \"2016-08-21T00:00:00\", \"2016-08-22T00:00:00\", \"2016-08-23T00:00:00\", \"2016-08-24T00:00:00\", \"2016-08-25T00:00:00\", \"2016-08-26T00:00:00\", \"2016-08-27T00:00:00\", \"2016-08-28T00:00:00\", \"2016-08-29T00:00:00\", \"2016-08-30T00:00:00\", \"2016-08-31T00:00:00\", \"2016-09-01T00:00:00\", \"2016-09-02T00:00:00\", \"2016-09-03T00:00:00\", \"2016-09-04T00:00:00\", \"2016-09-05T00:00:00\", \"2016-09-06T00:00:00\", \"2016-09-07T00:00:00\", \"2016-09-08T00:00:00\", \"2016-09-09T00:00:00\", \"2016-09-10T00:00:00\", \"2016-09-11T00:00:00\", \"2016-09-12T00:00:00\", \"2016-09-13T00:00:00\", \"2016-09-14T00:00:00\", \"2016-09-15T00:00:00\", \"2016-09-16T00:00:00\", \"2016-09-17T00:00:00\", \"2016-09-18T00:00:00\", \"2016-09-19T00:00:00\", \"2016-09-20T00:00:00\", \"2016-09-21T00:00:00\", \"2016-09-22T00:00:00\", \"2016-09-23T00:00:00\", \"2016-09-24T00:00:00\", \"2016-09-25T00:00:00\", \"2016-09-26T00:00:00\", \"2016-09-27T00:00:00\", \"2016-09-28T00:00:00\", \"2016-09-29T00:00:00\", \"2016-09-30T00:00:00\", \"2016-10-01T00:00:00\", \"2016-10-02T00:00:00\", \"2016-10-03T00:00:00\", \"2016-10-04T00:00:00\", \"2016-10-05T00:00:00\", \"2016-10-06T00:00:00\", \"2016-10-07T00:00:00\", \"2016-10-08T00:00:00\", \"2016-10-09T00:00:00\", \"2016-10-10T00:00:00\", \"2016-10-11T00:00:00\", \"2016-10-12T00:00:00\", \"2016-10-13T00:00:00\", \"2016-10-14T00:00:00\", \"2016-10-15T00:00:00\", \"2016-10-16T00:00:00\", \"2016-10-17T00:00:00\", \"2016-10-18T00:00:00\", \"2016-10-19T00:00:00\", \"2016-10-20T00:00:00\", \"2016-10-21T00:00:00\", \"2016-10-22T00:00:00\", \"2016-10-23T00:00:00\", \"2016-10-24T00:00:00\", \"2016-10-25T00:00:00\", \"2016-10-26T00:00:00\", \"2016-10-27T00:00:00\", \"2016-10-28T00:00:00\", \"2016-10-29T00:00:00\", \"2016-10-30T00:00:00\", \"2016-10-31T00:00:00\", \"2016-11-01T00:00:00\", \"2016-11-02T00:00:00\", \"2016-11-03T00:00:00\", \"2016-11-04T00:00:00\", \"2016-11-05T00:00:00\", \"2016-11-06T00:00:00\", \"2016-11-07T00:00:00\", \"2016-11-08T00:00:00\", \"2016-11-09T00:00:00\", \"2016-11-10T00:00:00\", \"2016-11-11T00:00:00\", \"2016-11-12T00:00:00\", \"2016-11-13T00:00:00\", \"2016-11-14T00:00:00\", \"2016-11-15T00:00:00\", \"2016-11-16T00:00:00\", \"2016-11-17T00:00:00\", \"2016-11-18T00:00:00\", \"2016-11-19T00:00:00\", \"2016-11-20T00:00:00\", \"2016-11-21T00:00:00\", \"2016-11-22T00:00:00\", \"2016-11-23T00:00:00\", \"2016-11-24T00:00:00\", \"2016-11-25T00:00:00\", \"2016-11-26T00:00:00\", \"2016-11-27T00:00:00\", \"2016-11-28T00:00:00\", \"2016-11-29T00:00:00\", \"2016-11-30T00:00:00\", \"2016-12-01T00:00:00\", \"2016-12-02T00:00:00\", \"2016-12-03T00:00:00\", \"2016-12-04T00:00:00\", \"2016-12-05T00:00:00\", \"2016-12-06T00:00:00\", \"2016-12-07T00:00:00\", \"2016-12-08T00:00:00\", \"2016-12-09T00:00:00\", \"2016-12-10T00:00:00\", \"2016-12-11T00:00:00\", \"2016-12-12T00:00:00\", \"2016-12-13T00:00:00\", \"2016-12-14T00:00:00\", \"2016-12-15T00:00:00\", \"2016-12-16T00:00:00\", \"2016-12-17T00:00:00\", \"2016-12-18T00:00:00\", \"2016-12-19T00:00:00\", \"2016-12-20T00:00:00\", \"2016-12-21T00:00:00\", \"2016-12-22T00:00:00\", \"2016-12-23T00:00:00\", \"2016-12-24T00:00:00\", \"2016-12-25T00:00:00\", \"2016-12-26T00:00:00\", \"2016-12-27T00:00:00\", \"2016-12-28T00:00:00\", \"2016-12-29T00:00:00\", \"2016-12-30T00:00:00\", \"2016-12-31T00:00:00\", \"2017-01-01T00:00:00\", \"2017-01-02T00:00:00\", \"2017-01-03T00:00:00\", \"2017-01-04T00:00:00\", \"2017-01-05T00:00:00\", \"2017-01-06T00:00:00\", \"2017-01-07T00:00:00\", \"2017-01-08T00:00:00\", \"2017-01-09T00:00:00\", \"2017-01-10T00:00:00\", \"2017-01-11T00:00:00\", \"2017-01-12T00:00:00\", \"2017-01-13T00:00:00\", \"2017-01-14T00:00:00\", \"2017-01-15T00:00:00\", \"2017-01-16T00:00:00\", \"2017-01-17T00:00:00\", \"2017-01-18T00:00:00\", \"2017-01-19T00:00:00\", \"2017-01-20T00:00:00\", \"2017-01-21T00:00:00\", \"2017-01-22T00:00:00\", \"2017-01-23T00:00:00\", \"2017-01-24T00:00:00\", \"2017-01-25T00:00:00\", \"2017-01-26T00:00:00\", \"2017-01-27T00:00:00\", \"2017-01-28T00:00:00\", \"2017-01-29T00:00:00\", \"2017-01-30T00:00:00\", \"2017-01-31T00:00:00\", \"2017-02-01T00:00:00\", \"2017-02-02T00:00:00\", \"2017-02-03T00:00:00\", \"2017-02-04T00:00:00\", \"2017-02-05T00:00:00\", \"2017-02-06T00:00:00\", \"2017-02-07T00:00:00\", \"2017-02-08T00:00:00\", \"2017-02-09T00:00:00\", \"2017-02-10T00:00:00\", \"2017-02-11T00:00:00\", \"2017-02-12T00:00:00\", \"2017-02-13T00:00:00\", \"2017-02-14T00:00:00\", \"2017-02-15T00:00:00\", \"2017-02-16T00:00:00\", \"2017-02-17T00:00:00\", \"2017-02-18T00:00:00\", \"2017-02-19T00:00:00\", \"2017-02-20T00:00:00\", \"2017-02-21T00:00:00\", \"2017-02-22T00:00:00\", \"2017-02-23T00:00:00\", \"2017-02-24T00:00:00\", \"2017-02-25T00:00:00\", \"2017-02-26T00:00:00\", \"2017-02-27T00:00:00\", \"2017-02-28T00:00:00\", \"2017-03-01T00:00:00\", \"2017-03-02T00:00:00\", \"2017-03-03T00:00:00\", \"2017-03-04T00:00:00\", \"2017-03-05T00:00:00\", \"2017-03-06T00:00:00\", \"2017-03-07T00:00:00\", \"2017-03-08T00:00:00\", \"2017-03-09T00:00:00\", \"2017-03-10T00:00:00\", \"2017-03-11T00:00:00\", \"2017-03-12T00:00:00\", \"2017-03-13T00:00:00\", \"2017-03-14T00:00:00\", \"2017-03-15T00:00:00\", \"2017-03-16T00:00:00\", \"2017-03-17T00:00:00\", \"2017-03-18T00:00:00\", \"2017-03-19T00:00:00\", \"2017-03-20T00:00:00\", \"2017-03-21T00:00:00\", \"2017-03-22T00:00:00\", \"2017-03-23T00:00:00\", \"2017-03-24T00:00:00\", \"2017-03-25T00:00:00\", \"2017-03-26T00:00:00\", \"2017-03-27T00:00:00\", \"2017-03-28T00:00:00\", \"2017-03-29T00:00:00\", \"2017-03-30T00:00:00\", \"2017-03-31T00:00:00\", \"2017-04-01T00:00:00\", \"2017-04-02T00:00:00\", \"2017-04-03T00:00:00\", \"2017-04-04T00:00:00\", \"2017-04-05T00:00:00\", \"2017-04-06T00:00:00\", \"2017-04-07T00:00:00\", \"2017-04-08T00:00:00\", \"2017-04-09T00:00:00\", \"2017-04-10T00:00:00\", \"2017-04-11T00:00:00\", \"2017-04-12T00:00:00\", \"2017-04-13T00:00:00\", \"2017-04-14T00:00:00\", \"2017-04-15T00:00:00\", \"2017-04-16T00:00:00\", \"2017-04-17T00:00:00\", \"2017-04-18T00:00:00\", \"2017-04-19T00:00:00\", \"2017-04-20T00:00:00\", \"2017-04-21T00:00:00\", \"2017-04-22T00:00:00\", \"2017-04-23T00:00:00\", \"2017-04-24T00:00:00\", \"2017-04-25T00:00:00\", \"2017-04-26T00:00:00\", \"2017-04-27T00:00:00\", \"2017-04-28T00:00:00\", \"2017-04-29T00:00:00\", \"2017-04-30T00:00:00\", \"2017-05-01T00:00:00\", \"2017-05-02T00:00:00\", \"2017-05-03T00:00:00\", \"2017-05-04T00:00:00\", \"2017-05-05T00:00:00\", \"2017-05-06T00:00:00\", \"2017-05-07T00:00:00\", \"2017-05-08T00:00:00\", \"2017-05-09T00:00:00\", \"2017-05-10T00:00:00\", \"2017-05-11T00:00:00\", \"2017-05-12T00:00:00\", \"2017-05-13T00:00:00\", \"2017-05-14T00:00:00\", \"2017-05-15T00:00:00\", \"2017-05-16T00:00:00\", \"2017-05-17T00:00:00\", \"2017-05-18T00:00:00\", \"2017-05-19T00:00:00\", \"2017-05-20T00:00:00\", \"2017-05-21T00:00:00\", \"2017-05-22T00:00:00\", \"2017-05-23T00:00:00\", \"2017-05-24T00:00:00\", \"2017-05-25T00:00:00\", \"2017-05-26T00:00:00\", \"2017-05-27T00:00:00\", \"2017-05-28T00:00:00\", \"2017-05-29T00:00:00\", \"2017-05-30T00:00:00\", \"2017-05-31T00:00:00\", \"2017-06-01T00:00:00\", \"2017-06-02T00:00:00\", \"2017-06-03T00:00:00\", \"2017-06-04T00:00:00\", \"2017-06-05T00:00:00\", \"2017-06-06T00:00:00\", \"2017-06-07T00:00:00\", \"2017-06-08T00:00:00\", \"2017-06-09T00:00:00\", \"2017-06-10T00:00:00\", \"2017-06-11T00:00:00\", \"2017-06-12T00:00:00\", \"2017-06-13T00:00:00\", \"2017-06-14T00:00:00\", \"2017-06-15T00:00:00\", \"2017-06-16T00:00:00\", \"2017-06-17T00:00:00\", \"2017-06-18T00:00:00\", \"2017-06-19T00:00:00\", \"2017-06-20T00:00:00\", \"2017-06-21T00:00:00\", \"2017-06-22T00:00:00\", \"2017-06-23T00:00:00\", \"2017-06-24T00:00:00\", \"2017-06-25T00:00:00\", \"2017-06-26T00:00:00\", \"2017-06-27T00:00:00\", \"2017-06-28T00:00:00\", \"2017-06-29T00:00:00\", \"2017-06-30T00:00:00\", \"2017-07-01T00:00:00\", \"2017-07-02T00:00:00\", \"2017-07-03T00:00:00\", \"2017-07-04T00:00:00\", \"2017-07-05T00:00:00\", \"2017-07-06T00:00:00\", \"2017-07-07T00:00:00\", \"2017-07-08T00:00:00\", \"2017-07-09T00:00:00\", \"2017-07-10T00:00:00\", \"2017-07-11T00:00:00\", \"2017-07-12T00:00:00\", \"2017-07-13T00:00:00\", \"2017-07-14T00:00:00\", \"2017-07-15T00:00:00\", \"2017-07-16T00:00:00\", \"2017-07-17T00:00:00\", \"2017-07-18T00:00:00\", \"2017-07-19T00:00:00\", \"2017-07-20T00:00:00\", \"2017-07-21T00:00:00\", \"2017-07-22T00:00:00\", \"2017-07-23T00:00:00\", \"2017-07-24T00:00:00\", \"2017-07-25T00:00:00\", \"2017-07-26T00:00:00\", \"2017-07-27T00:00:00\", \"2017-07-28T00:00:00\", \"2017-07-29T00:00:00\", \"2017-07-30T00:00:00\", \"2017-07-31T00:00:00\", \"2017-08-01T00:00:00\"], \"xaxis\": \"x2\", \"y\": [34, 17, 0, 17, 41, 10, 16, 34, 42, 46, 45, 71, 14, 23, 65, 59, 40, 43, 50, 21, 23, 57, 57, 47, 62, 39, 15, 22, 43, 34, 32, 43, 27, 13, 9, 16, 38, 33, 46, 39, 13, 17, 28, 21, 42, 32, 39, 8, 15, 36, 45, 39, 33, 24, 12, 18, 42, 35, 39, 32, 25, 6, 25, 35, 35, 44, 33, 39, 12, 22, 38, 43, 37, 30, 21, 9, 20, 40, 32, 29, 30, 33, 14, 28, 33, 21, 38, 40, 30, 11, 16, 28, 33, 27, 34, 37, 20, 21, 41, 44, 29, 25, 22, 15, 16, 39, 32, 33, 45, 35, 16, 13, 39, 21, 31, 15, 29, 13, 18, 73, 46, 57, 50, 41, 22, 36, 76, 70, 49, 66, 72, 37, 49, 83, 77, 65, 72, 87, 43, 38, 69, 67, 35, 33, 19, 19, 18, 15, 17, 25, 22, 13, 10, 11, 18, 29, 29, 41, 26, 8, 11, 38, 23, 17, 22, 28, 11, 6, 13, 32, 36, 27, 18, 11, 10, 27, 28, 34, 27, 21, 4, 19, 33, 39, 27, 26, 29, 14, 12, 28, 23, 24, 28, 24, 10, 16, 30, 51, 27, 32, 67, 13, 15, 21, 25, 34, 30, 25, 12, 9, 27, 29, 32, 27, 25, 26, 28, 30, 35, 24, 28, 32, 13, 11, 35, 32, 31, 29, 31, 17, 17, 35, 33, 37, 24, 30, 13, 14, 46, 44, 49, 38, 17, 12, 13, 36, 39, 32, 41, 43, 18, 10, 36, 29, 45, 37, 39, 7, 14, 37, 47, 38, 39, 42, 15, 12, 24, 33, 42, 42, 59, 20, 27, 78, 67, 70, 48, 35, 12, 11, 48, 46, 40, 44, 54, 23, 10, 37, 51, 38, 34, 39, 30, 22, 23, 32, 36, 35, 31, 16, 9, 18, 39, 39, 35, 36, 15, 15, 35, 29, 37, 24, 35, 12, 26, 61, 48, 45, 35, 36, 18, 25, 39, 35, 34, 36, 26, 10, 19, 32, 40, 31, 44, 33, 3, 8, 13, 7, 41, 30, 38, 14, 19, 44, 40, 48, 62, 44, 16, 27, 49, 50, 56, 40, 41, 17, 16, 38, 36, 41, 49, 42, 19, 22, 61, 43], \"yaxis\": \"y2\"}, {\"showlegend\": false, \"type\": \"scatter\", \"x\": [\"2016-08-01T00:00:00\", \"2016-08-02T00:00:00\", \"2016-08-03T00:00:00\", \"2016-08-04T00:00:00\", \"2016-08-05T00:00:00\", \"2016-08-06T00:00:00\", \"2016-08-07T00:00:00\", \"2016-08-08T00:00:00\", \"2016-08-09T00:00:00\", \"2016-08-10T00:00:00\", \"2016-08-11T00:00:00\", \"2016-08-12T00:00:00\", \"2016-08-13T00:00:00\", \"2016-08-14T00:00:00\", \"2016-08-15T00:00:00\", \"2016-08-16T00:00:00\", \"2016-08-17T00:00:00\", \"2016-08-18T00:00:00\", \"2016-08-19T00:00:00\", \"2016-08-20T00:00:00\", \"2016-08-21T00:00:00\", \"2016-08-22T00:00:00\", \"2016-08-23T00:00:00\", \"2016-08-24T00:00:00\", \"2016-08-25T00:00:00\", \"2016-08-26T00:00:00\", \"2016-08-27T00:00:00\", \"2016-08-28T00:00:00\", \"2016-08-29T00:00:00\", \"2016-08-30T00:00:00\", \"2016-08-31T00:00:00\", \"2016-09-01T00:00:00\", \"2016-09-02T00:00:00\", \"2016-09-03T00:00:00\", \"2016-09-04T00:00:00\", \"2016-09-05T00:00:00\", \"2016-09-06T00:00:00\", \"2016-09-07T00:00:00\", \"2016-09-08T00:00:00\", \"2016-09-09T00:00:00\", \"2016-09-10T00:00:00\", \"2016-09-11T00:00:00\", \"2016-09-12T00:00:00\", \"2016-09-13T00:00:00\", \"2016-09-14T00:00:00\", \"2016-09-15T00:00:00\", \"2016-09-16T00:00:00\", \"2016-09-17T00:00:00\", \"2016-09-18T00:00:00\", \"2016-09-19T00:00:00\", \"2016-09-20T00:00:00\", \"2016-09-21T00:00:00\", \"2016-09-22T00:00:00\", \"2016-09-23T00:00:00\", \"2016-09-24T00:00:00\", \"2016-09-25T00:00:00\", \"2016-09-26T00:00:00\", \"2016-09-27T00:00:00\", \"2016-09-28T00:00:00\", \"2016-09-29T00:00:00\", \"2016-09-30T00:00:00\", \"2016-10-01T00:00:00\", \"2016-10-02T00:00:00\", \"2016-10-03T00:00:00\", \"2016-10-04T00:00:00\", \"2016-10-05T00:00:00\", \"2016-10-06T00:00:00\", \"2016-10-07T00:00:00\", \"2016-10-08T00:00:00\", \"2016-10-09T00:00:00\", \"2016-10-10T00:00:00\", \"2016-10-11T00:00:00\", \"2016-10-12T00:00:00\", \"2016-10-13T00:00:00\", \"2016-10-14T00:00:00\", \"2016-10-15T00:00:00\", \"2016-10-16T00:00:00\", \"2016-10-17T00:00:00\", \"2016-10-18T00:00:00\", \"2016-10-19T00:00:00\", \"2016-10-20T00:00:00\", \"2016-10-21T00:00:00\", \"2016-10-22T00:00:00\", \"2016-10-23T00:00:00\", \"2016-10-24T00:00:00\", \"2016-10-25T00:00:00\", \"2016-10-26T00:00:00\", \"2016-10-27T00:00:00\", \"2016-10-28T00:00:00\", \"2016-10-29T00:00:00\", \"2016-10-30T00:00:00\", \"2016-10-31T00:00:00\", \"2016-11-01T00:00:00\", \"2016-11-02T00:00:00\", \"2016-11-03T00:00:00\", \"2016-11-04T00:00:00\", \"2016-11-05T00:00:00\", \"2016-11-06T00:00:00\", \"2016-11-07T00:00:00\", \"2016-11-08T00:00:00\", \"2016-11-09T00:00:00\", \"2016-11-10T00:00:00\", \"2016-11-11T00:00:00\", \"2016-11-12T00:00:00\", \"2016-11-13T00:00:00\", \"2016-11-14T00:00:00\", \"2016-11-15T00:00:00\", \"2016-11-16T00:00:00\", \"2016-11-17T00:00:00\", \"2016-11-18T00:00:00\", \"2016-11-19T00:00:00\", \"2016-11-20T00:00:00\", \"2016-11-21T00:00:00\", \"2016-11-22T00:00:00\", \"2016-11-23T00:00:00\", \"2016-11-24T00:00:00\", \"2016-11-25T00:00:00\", \"2016-11-26T00:00:00\", \"2016-11-27T00:00:00\", \"2016-11-28T00:00:00\", \"2016-11-29T00:00:00\", \"2016-11-30T00:00:00\", \"2016-12-01T00:00:00\", \"2016-12-02T00:00:00\", \"2016-12-03T00:00:00\", \"2016-12-04T00:00:00\", \"2016-12-05T00:00:00\", \"2016-12-06T00:00:00\", \"2016-12-07T00:00:00\", \"2016-12-08T00:00:00\", \"2016-12-09T00:00:00\", \"2016-12-10T00:00:00\", \"2016-12-11T00:00:00\", \"2016-12-12T00:00:00\", \"2016-12-13T00:00:00\", \"2016-12-14T00:00:00\", \"2016-12-15T00:00:00\", \"2016-12-16T00:00:00\", \"2016-12-17T00:00:00\", \"2016-12-18T00:00:00\", \"2016-12-19T00:00:00\", \"2016-12-20T00:00:00\", \"2016-12-21T00:00:00\", \"2016-12-22T00:00:00\", \"2016-12-23T00:00:00\", \"2016-12-24T00:00:00\", \"2016-12-25T00:00:00\", \"2016-12-26T00:00:00\", \"2016-12-27T00:00:00\", \"2016-12-28T00:00:00\", \"2016-12-29T00:00:00\", \"2016-12-30T00:00:00\", \"2016-12-31T00:00:00\", \"2017-01-01T00:00:00\", \"2017-01-02T00:00:00\", \"2017-01-03T00:00:00\", \"2017-01-04T00:00:00\", \"2017-01-05T00:00:00\", \"2017-01-06T00:00:00\", \"2017-01-07T00:00:00\", \"2017-01-08T00:00:00\", \"2017-01-09T00:00:00\", \"2017-01-10T00:00:00\", \"2017-01-11T00:00:00\", \"2017-01-12T00:00:00\", \"2017-01-13T00:00:00\", \"2017-01-14T00:00:00\", \"2017-01-15T00:00:00\", \"2017-01-16T00:00:00\", \"2017-01-17T00:00:00\", \"2017-01-18T00:00:00\", \"2017-01-19T00:00:00\", \"2017-01-20T00:00:00\", \"2017-01-21T00:00:00\", \"2017-01-22T00:00:00\", \"2017-01-23T00:00:00\", \"2017-01-24T00:00:00\", \"2017-01-25T00:00:00\", \"2017-01-26T00:00:00\", \"2017-01-27T00:00:00\", \"2017-01-28T00:00:00\", \"2017-01-29T00:00:00\", \"2017-01-30T00:00:00\", \"2017-01-31T00:00:00\", \"2017-02-01T00:00:00\", \"2017-02-02T00:00:00\", \"2017-02-03T00:00:00\", \"2017-02-04T00:00:00\", \"2017-02-05T00:00:00\", \"2017-02-06T00:00:00\", \"2017-02-07T00:00:00\", \"2017-02-08T00:00:00\", \"2017-02-09T00:00:00\", \"2017-02-10T00:00:00\", \"2017-02-11T00:00:00\", \"2017-02-12T00:00:00\", \"2017-02-13T00:00:00\", \"2017-02-14T00:00:00\", \"2017-02-15T00:00:00\", \"2017-02-16T00:00:00\", \"2017-02-17T00:00:00\", \"2017-02-18T00:00:00\", \"2017-02-19T00:00:00\", \"2017-02-20T00:00:00\", \"2017-02-21T00:00:00\", \"2017-02-22T00:00:00\", \"2017-02-23T00:00:00\", \"2017-02-24T00:00:00\", \"2017-02-25T00:00:00\", \"2017-02-26T00:00:00\", \"2017-02-27T00:00:00\", \"2017-02-28T00:00:00\", \"2017-03-01T00:00:00\", \"2017-03-02T00:00:00\", \"2017-03-03T00:00:00\", \"2017-03-04T00:00:00\", \"2017-03-05T00:00:00\", \"2017-03-06T00:00:00\", \"2017-03-07T00:00:00\", \"2017-03-08T00:00:00\", \"2017-03-09T00:00:00\", \"2017-03-10T00:00:00\", \"2017-03-11T00:00:00\", \"2017-03-12T00:00:00\", \"2017-03-13T00:00:00\", \"2017-03-14T00:00:00\", \"2017-03-15T00:00:00\", \"2017-03-16T00:00:00\", \"2017-03-17T00:00:00\", \"2017-03-18T00:00:00\", \"2017-03-19T00:00:00\", \"2017-03-20T00:00:00\", \"2017-03-21T00:00:00\", \"2017-03-22T00:00:00\", \"2017-03-23T00:00:00\", \"2017-03-24T00:00:00\", \"2017-03-25T00:00:00\", \"2017-03-26T00:00:00\", \"2017-03-27T00:00:00\", \"2017-03-28T00:00:00\", \"2017-03-29T00:00:00\", \"2017-03-30T00:00:00\", \"2017-03-31T00:00:00\", \"2017-04-01T00:00:00\", \"2017-04-02T00:00:00\", \"2017-04-03T00:00:00\", \"2017-04-04T00:00:00\", \"2017-04-05T00:00:00\", \"2017-04-06T00:00:00\", \"2017-04-07T00:00:00\", \"2017-04-08T00:00:00\", \"2017-04-09T00:00:00\", \"2017-04-10T00:00:00\", \"2017-04-11T00:00:00\", \"2017-04-12T00:00:00\", \"2017-04-13T00:00:00\", \"2017-04-14T00:00:00\", \"2017-04-15T00:00:00\", \"2017-04-16T00:00:00\", \"2017-04-17T00:00:00\", \"2017-04-18T00:00:00\", \"2017-04-19T00:00:00\", \"2017-04-20T00:00:00\", \"2017-04-21T00:00:00\", \"2017-04-22T00:00:00\", \"2017-04-23T00:00:00\", \"2017-04-24T00:00:00\", \"2017-04-25T00:00:00\", \"2017-04-26T00:00:00\", \"2017-04-27T00:00:00\", \"2017-04-28T00:00:00\", \"2017-04-29T00:00:00\", \"2017-04-30T00:00:00\", \"2017-05-01T00:00:00\", \"2017-05-02T00:00:00\", \"2017-05-03T00:00:00\", \"2017-05-04T00:00:00\", \"2017-05-05T00:00:00\", \"2017-05-06T00:00:00\", \"2017-05-07T00:00:00\", \"2017-05-08T00:00:00\", \"2017-05-09T00:00:00\", \"2017-05-10T00:00:00\", \"2017-05-11T00:00:00\", \"2017-05-12T00:00:00\", \"2017-05-13T00:00:00\", \"2017-05-14T00:00:00\", \"2017-05-15T00:00:00\", \"2017-05-16T00:00:00\", \"2017-05-17T00:00:00\", \"2017-05-18T00:00:00\", \"2017-05-19T00:00:00\", \"2017-05-20T00:00:00\", \"2017-05-21T00:00:00\", \"2017-05-22T00:00:00\", \"2017-05-23T00:00:00\", \"2017-05-24T00:00:00\", \"2017-05-25T00:00:00\", \"2017-05-26T00:00:00\", \"2017-05-27T00:00:00\", \"2017-05-28T00:00:00\", \"2017-05-29T00:00:00\", \"2017-05-30T00:00:00\", \"2017-05-31T00:00:00\", \"2017-06-01T00:00:00\", \"2017-06-02T00:00:00\", \"2017-06-03T00:00:00\", \"2017-06-04T00:00:00\", \"2017-06-05T00:00:00\", \"2017-06-06T00:00:00\", \"2017-06-07T00:00:00\", \"2017-06-08T00:00:00\", \"2017-06-09T00:00:00\", \"2017-06-10T00:00:00\", \"2017-06-11T00:00:00\", \"2017-06-12T00:00:00\", \"2017-06-13T00:00:00\", \"2017-06-14T00:00:00\", \"2017-06-15T00:00:00\", \"2017-06-16T00:00:00\", \"2017-06-17T00:00:00\", \"2017-06-18T00:00:00\", \"2017-06-19T00:00:00\", \"2017-06-20T00:00:00\", \"2017-06-21T00:00:00\", \"2017-06-22T00:00:00\", \"2017-06-23T00:00:00\", \"2017-06-24T00:00:00\", \"2017-06-25T00:00:00\", \"2017-06-26T00:00:00\", \"2017-06-27T00:00:00\", \"2017-06-28T00:00:00\", \"2017-06-29T00:00:00\", \"2017-06-30T00:00:00\", \"2017-07-01T00:00:00\", \"2017-07-02T00:00:00\", \"2017-07-03T00:00:00\", \"2017-07-04T00:00:00\", \"2017-07-05T00:00:00\", \"2017-07-06T00:00:00\", \"2017-07-07T00:00:00\", \"2017-07-08T00:00:00\", \"2017-07-09T00:00:00\", \"2017-07-10T00:00:00\", \"2017-07-11T00:00:00\", \"2017-07-12T00:00:00\", \"2017-07-13T00:00:00\", \"2017-07-14T00:00:00\", \"2017-07-15T00:00:00\", \"2017-07-16T00:00:00\", \"2017-07-17T00:00:00\", \"2017-07-18T00:00:00\", \"2017-07-19T00:00:00\", \"2017-07-20T00:00:00\", \"2017-07-21T00:00:00\", \"2017-07-22T00:00:00\", \"2017-07-23T00:00:00\", \"2017-07-24T00:00:00\", \"2017-07-25T00:00:00\", \"2017-07-26T00:00:00\", \"2017-07-27T00:00:00\", \"2017-07-28T00:00:00\", \"2017-07-29T00:00:00\", \"2017-07-30T00:00:00\", \"2017-07-31T00:00:00\", \"2017-08-01T00:00:00\"], \"xaxis\": \"x3\", \"y\": [179884117.6470588, 80070000.0, null, 69581764.70588236, 136445365.85365853, 189104000.0, 150670625.0, 155112058.82352942, 133247619.04761904, 93135000.0, 165047111.1111111, 113960422.53521127, 157050714.2857143, 146109130.4347826, 95697384.61538461, 98682881.3559322, 178122250.0, 142572325.58139536, 69346000.0, 154430000.0, 102839565.2173913, 189330526.31578946, 168871929.82456142, 119838510.63829787, 277196935.483871, 126124615.38461539, 61005333.333333336, 140660000.0, 153335581.39534885, 84815000.0, 120716250.0, 136100697.6744186, 160090370.37037036, 70156153.84615384, 82052222.22222222, 97862500.0, 116280789.4736842, 163867575.75757575, 140617391.3043478, 113948205.12820514, 67619230.76923077, 71327647.05882353, 199204642.85714287, 236439047.6190476, 152548809.52380952, 188301875.0, 519653076.9230769, 19385000.0, 59490666.666666664, 127681944.44444445, 112282888.8888889, 100295384.61538461, 105622727.27272727, 81395000.0, 46350833.333333336, 56845000.0, 172032380.95238096, 185307142.85714287, 158908205.12820512, 78105312.5, 101326000.0, 128453333.33333333, 154376000.0, 158671428.57142857, 83470857.14285715, 109750454.54545455, 91498484.84848484, 98761025.64102565, 66956666.666666664, 84279545.45454545, 100901578.94736843, 117168139.53488372, 127789729.72972973, 139711000.0, 237668571.42857143, 44395555.55555555, 86789500.0, 145617250.0, 214502500.0, 239608620.68965518, 236304000.0, 130912121.21212122, 81606428.57142857, 51241785.71428572, 116154545.45454545, 64612857.14285714, 124726315.78947368, 120269000.0, 183166333.33333334, 198185454.54545453, 60630625.0, 140657500.0, 170779393.93939394, 188618888.8888889, 127280588.23529412, 111064324.32432432, 57680500.0, 69160952.38095239, 61799268.29268292, 145000454.54545453, 97710344.8275862, 178482400.0, 114148636.36363636, 72926666.66666667, 73358125.0, 102858974.35897435, 136610937.5, 162247272.72727272, 169271777.7777778, 134134571.42857143, 60374375.0, 63609230.76923077, 101919487.17948718, 131563809.52380952, 169438387.0967742, 116216666.66666667, 115814137.93103448, 242266923.07692307, 62056666.666666664, 111240136.98630136, 110990869.56521739, 242585438.59649122, 102325000.0, 124911707.31707317, 44856363.63636363, 45277222.222222224, 119855263.15789473, 180646857.14285713, 184007346.9387755, 117475454.54545455, 116172916.66666667, 61335675.675675675, 49707346.93877551, 168789156.62650603, 127267922.07792208, 86458000.0, 150520000.0, 91472643.67816092, 56643023.255813956, 72474473.68421052, 95194927.53623189, 133783134.3283582, 79958857.14285715, 97170909.0909091, 74830526.31578948, 52839473.684210524, 66338333.333333336, 69365333.33333333, 89251764.70588236, 135394000.0, 189571818.1818182, 55730000.0, 70117000.0, 84273636.36363636, 52588888.88888889, 112578620.68965517, 124350689.65517241, 216096829.2682927, 161201538.46153846, 44658750.0, 139845454.54545453, 179618947.36842105, 254814782.60869566, 80567058.8235294, 186023181.8181818, 113200000.0, 48375454.54545455, 16480000.0, 209356923.07692307, 109202812.5, 192753055.55555555, 108517407.4074074, 134588333.33333334, 81868181.81818181, 134314000.0, 103316296.2962963, 173001428.57142857, 78777058.8235294, 137600000.0, 172570476.19047618, 17635000.0, 132417368.42105263, 109378181.81818181, 195866923.07692307, 195287407.4074074, 115992307.6923077, 158068275.86206895, 68666428.57142857, 63553333.333333336, 125331785.71428572, 168863913.04347825, 113932500.0, 199755357.14285713, 203544583.33333334, 75342000.0, 45635000.0, 117768333.33333333, 451536666.6666667, 131535925.92592593, 177437812.5, 59225074.62686567, 33837692.307692304, 70112666.66666667, 202449047.6190476, 253796000.0, 112258235.29411764, 103645333.33333333, 167224000.0, 69610000.0, 68972222.22222222, 118451481.48148148, 153888965.5172414, 132385312.5, 113760740.74074075, 112203600.0, 55914230.76923077, 68108928.57142857, 114466333.33333333, 179360571.42857143, 152447916.66666666, 142663928.57142857, 145824062.5, 71173846.15384616, 52390000.0, 140210000.0, 91323750.0, 209878387.0967742, 139092068.96551725, 98875483.87096775, 70130000.0, 102984117.64705883, 194611428.57142857, 165114545.45454547, 165472702.7027027, 383606250.0, 369712666.6666667, 66486923.07692308, 105697857.14285715, 135869565.2173913, 191843863.63636363, 125908367.34693877, 112668684.21052632, 200775294.11764705, 31838333.333333332, 70618461.53846154, 126178333.33333333, 103100769.23076923, 848456562.5, 143011951.2195122, 318637441.8604651, 74941666.66666667, 148876000.0, 137794722.2222222, 101157241.37931034, 80636666.66666667, 152100540.54054055, 126583076.92307693, 42611428.571428575, 77913571.42857143, 232164594.5945946, 236440000.0, 173818421.0526316, 104188717.94871795, 180287380.95238096, 123914000.0, 77244166.66666667, 97489166.66666667, 88935757.57575758, 122435238.09523809, 400679523.8095238, 73816779.66101696, 50517000.0, 94661851.85185185, 91360000.0, 75346865.6716418, 77058000.0, 63680625.0, 202853142.85714287, 68613333.33333333, 115501818.18181819, 107657708.33333333, 159326304.3478261, 139221750.0, 94056818.18181819, 123649074.07407407, 95176956.52173913, 66109000.0, 92372432.43243243, 114322156.86274509, 120250526.31578948, 104890882.35294117, 112236410.25641026, 30813000.0, 42823181.81818182, 80749565.2173913, 140069062.5, 134008888.8888889, 66678571.428571425, 136702258.06451613, 72778750.0, 31665555.555555556, 68574444.44444445, 145926153.84615386, 267271538.46153846, 82620857.14285715, 125357500.0, 105235333.33333333, 79573333.33333333, 116961428.57142857, 84270000.0, 82873513.51351352, 104285000.0, 111716285.71428572, 59245000.0, 40565769.23076923, 204754426.2295082, 120895625.0, 200209111.1111111, 172626285.7142857, 160933333.33333334, 106143333.33333333, 88340000.0, 230168974.35897437, 119784000.0, 247915882.3529412, 68318888.8888889, 78469615.38461539, 38492000.0, 40625789.473684214, 55061875.0, 96482750.0, 287211935.483871, 104360454.54545455, 120666363.63636364, 28180000.0, 79373750.0, 94293076.92307693, 54282857.14285714, 195838048.7804878, 129461666.66666667, 114184736.84210527, 32497142.85714286, 39531578.94736842, 107228863.63636364, 134241000.0, 65611250.0, 98364193.5483871, 96110000.0, 46295000.0, 64767407.40740741, 94219795.91836734, 340059200.0, 107826785.71428572, 117217500.0, 87899512.19512194, 140882352.94117647, 140432500.0, 116200526.31578948, 145575833.33333334, 113181707.31707317, 88742448.97959183, 112129523.8095238, 55000526.315789476, 102461818.18181819, 187138360.6557377, 193138139.5348837], \"yaxis\": \"y3\"}],\n",
              "                        {\"height\": 900, \"template\": {\"data\": {\"bar\": [{\"error_x\": {\"color\": \"#2a3f5f\"}, \"error_y\": {\"color\": \"#2a3f5f\"}, \"marker\": {\"line\": {\"color\": \"#E5ECF6\", \"width\": 0.5}}, \"type\": \"bar\"}], \"barpolar\": [{\"marker\": {\"line\": {\"color\": \"#E5ECF6\", \"width\": 0.5}}, \"type\": \"barpolar\"}], \"carpet\": [{\"aaxis\": {\"endlinecolor\": \"#2a3f5f\", \"gridcolor\": \"white\", \"linecolor\": \"white\", \"minorgridcolor\": \"white\", \"startlinecolor\": \"#2a3f5f\"}, \"baxis\": {\"endlinecolor\": \"#2a3f5f\", \"gridcolor\": \"white\", \"linecolor\": \"white\", \"minorgridcolor\": \"white\", \"startlinecolor\": \"#2a3f5f\"}, \"type\": \"carpet\"}], \"choropleth\": [{\"colorbar\": {\"outlinewidth\": 0, \"ticks\": \"\"}, \"type\": \"choropleth\"}], \"contour\": [{\"colorbar\": {\"outlinewidth\": 0, \"ticks\": \"\"}, \"colorscale\": [[0.0, \"#0d0887\"], [0.1111111111111111, \"#46039f\"], [0.2222222222222222, \"#7201a8\"], [0.3333333333333333, \"#9c179e\"], [0.4444444444444444, \"#bd3786\"], [0.5555555555555556, \"#d8576b\"], [0.6666666666666666, \"#ed7953\"], [0.7777777777777778, \"#fb9f3a\"], [0.8888888888888888, \"#fdca26\"], [1.0, \"#f0f921\"]], \"type\": \"contour\"}], \"contourcarpet\": [{\"colorbar\": {\"outlinewidth\": 0, \"ticks\": \"\"}, \"type\": \"contourcarpet\"}], \"heatmap\": [{\"colorbar\": {\"outlinewidth\": 0, \"ticks\": \"\"}, \"colorscale\": [[0.0, \"#0d0887\"], [0.1111111111111111, \"#46039f\"], [0.2222222222222222, \"#7201a8\"], [0.3333333333333333, \"#9c179e\"], [0.4444444444444444, \"#bd3786\"], [0.5555555555555556, \"#d8576b\"], [0.6666666666666666, \"#ed7953\"], [0.7777777777777778, \"#fb9f3a\"], [0.8888888888888888, \"#fdca26\"], [1.0, \"#f0f921\"]], \"type\": \"heatmap\"}], \"heatmapgl\": [{\"colorbar\": {\"outlinewidth\": 0, \"ticks\": \"\"}, \"colorscale\": [[0.0, \"#0d0887\"], [0.1111111111111111, \"#46039f\"], [0.2222222222222222, \"#7201a8\"], [0.3333333333333333, \"#9c179e\"], [0.4444444444444444, \"#bd3786\"], [0.5555555555555556, \"#d8576b\"], [0.6666666666666666, \"#ed7953\"], [0.7777777777777778, \"#fb9f3a\"], [0.8888888888888888, \"#fdca26\"], [1.0, \"#f0f921\"]], \"type\": \"heatmapgl\"}], \"histogram\": [{\"marker\": {\"colorbar\": {\"outlinewidth\": 0, \"ticks\": \"\"}}, \"type\": \"histogram\"}], \"histogram2d\": [{\"colorbar\": {\"outlinewidth\": 0, \"ticks\": \"\"}, \"colorscale\": [[0.0, \"#0d0887\"], [0.1111111111111111, \"#46039f\"], [0.2222222222222222, \"#7201a8\"], [0.3333333333333333, \"#9c179e\"], [0.4444444444444444, \"#bd3786\"], [0.5555555555555556, \"#d8576b\"], [0.6666666666666666, \"#ed7953\"], [0.7777777777777778, \"#fb9f3a\"], [0.8888888888888888, \"#fdca26\"], [1.0, \"#f0f921\"]], \"type\": \"histogram2d\"}], \"histogram2dcontour\": [{\"colorbar\": {\"outlinewidth\": 0, \"ticks\": \"\"}, \"colorscale\": [[0.0, \"#0d0887\"], [0.1111111111111111, \"#46039f\"], [0.2222222222222222, \"#7201a8\"], [0.3333333333333333, \"#9c179e\"], [0.4444444444444444, \"#bd3786\"], [0.5555555555555556, \"#d8576b\"], [0.6666666666666666, \"#ed7953\"], [0.7777777777777778, \"#fb9f3a\"], [0.8888888888888888, \"#fdca26\"], [1.0, \"#f0f921\"]], \"type\": \"histogram2dcontour\"}], \"mesh3d\": [{\"colorbar\": {\"outlinewidth\": 0, \"ticks\": \"\"}, \"type\": \"mesh3d\"}], \"parcoords\": [{\"line\": {\"colorbar\": {\"outlinewidth\": 0, \"ticks\": \"\"}}, \"type\": \"parcoords\"}], \"pie\": [{\"automargin\": true, \"type\": \"pie\"}], \"scatter\": [{\"marker\": {\"colorbar\": {\"outlinewidth\": 0, \"ticks\": \"\"}}, \"type\": \"scatter\"}], \"scatter3d\": [{\"line\": {\"colorbar\": {\"outlinewidth\": 0, \"ticks\": \"\"}}, \"marker\": {\"colorbar\": {\"outlinewidth\": 0, \"ticks\": \"\"}}, \"type\": \"scatter3d\"}], \"scattercarpet\": [{\"marker\": {\"colorbar\": {\"outlinewidth\": 0, \"ticks\": \"\"}}, \"type\": \"scattercarpet\"}], \"scattergeo\": [{\"marker\": {\"colorbar\": {\"outlinewidth\": 0, \"ticks\": \"\"}}, \"type\": \"scattergeo\"}], \"scattergl\": [{\"marker\": {\"colorbar\": {\"outlinewidth\": 0, \"ticks\": \"\"}}, \"type\": \"scattergl\"}], \"scattermapbox\": [{\"marker\": {\"colorbar\": {\"outlinewidth\": 0, \"ticks\": \"\"}}, \"type\": \"scattermapbox\"}], \"scatterpolar\": [{\"marker\": {\"colorbar\": {\"outlinewidth\": 0, \"ticks\": \"\"}}, \"type\": \"scatterpolar\"}], \"scatterpolargl\": [{\"marker\": {\"colorbar\": {\"outlinewidth\": 0, \"ticks\": \"\"}}, \"type\": \"scatterpolargl\"}], \"scatterternary\": [{\"marker\": {\"colorbar\": {\"outlinewidth\": 0, \"ticks\": \"\"}}, \"type\": \"scatterternary\"}], \"surface\": [{\"colorbar\": {\"outlinewidth\": 0, \"ticks\": \"\"}, \"colorscale\": [[0.0, \"#0d0887\"], [0.1111111111111111, \"#46039f\"], [0.2222222222222222, \"#7201a8\"], [0.3333333333333333, \"#9c179e\"], [0.4444444444444444, \"#bd3786\"], [0.5555555555555556, \"#d8576b\"], [0.6666666666666666, \"#ed7953\"], [0.7777777777777778, \"#fb9f3a\"], [0.8888888888888888, \"#fdca26\"], [1.0, \"#f0f921\"]], \"type\": \"surface\"}], \"table\": [{\"cells\": {\"fill\": {\"color\": \"#EBF0F8\"}, \"line\": {\"color\": \"white\"}}, \"header\": {\"fill\": {\"color\": \"#C8D4E3\"}, \"line\": {\"color\": \"white\"}}, \"type\": \"table\"}]}, \"layout\": {\"annotationdefaults\": {\"arrowcolor\": \"#2a3f5f\", \"arrowhead\": 0, \"arrowwidth\": 1}, \"coloraxis\": {\"colorbar\": {\"outlinewidth\": 0, \"ticks\": \"\"}}, \"colorscale\": {\"diverging\": [[0, \"#8e0152\"], [0.1, \"#c51b7d\"], [0.2, \"#de77ae\"], [0.3, \"#f1b6da\"], [0.4, \"#fde0ef\"], [0.5, \"#f7f7f7\"], [0.6, \"#e6f5d0\"], [0.7, \"#b8e186\"], [0.8, \"#7fbc41\"], [0.9, \"#4d9221\"], [1, \"#276419\"]], \"sequential\": [[0.0, \"#0d0887\"], [0.1111111111111111, \"#46039f\"], [0.2222222222222222, \"#7201a8\"], [0.3333333333333333, \"#9c179e\"], [0.4444444444444444, \"#bd3786\"], [0.5555555555555556, \"#d8576b\"], [0.6666666666666666, \"#ed7953\"], [0.7777777777777778, \"#fb9f3a\"], [0.8888888888888888, \"#fdca26\"], [1.0, \"#f0f921\"]], \"sequentialminus\": [[0.0, \"#0d0887\"], [0.1111111111111111, \"#46039f\"], [0.2222222222222222, \"#7201a8\"], [0.3333333333333333, \"#9c179e\"], [0.4444444444444444, \"#bd3786\"], [0.5555555555555556, \"#d8576b\"], [0.6666666666666666, \"#ed7953\"], [0.7777777777777778, \"#fb9f3a\"], [0.8888888888888888, \"#fdca26\"], [1.0, \"#f0f921\"]]}, \"colorway\": [\"#636efa\", \"#EF553B\", \"#00cc96\", \"#ab63fa\", \"#FFA15A\", \"#19d3f3\", \"#FF6692\", \"#B6E880\", \"#FF97FF\", \"#FECB52\"], \"font\": {\"color\": \"#2a3f5f\"}, \"geo\": {\"bgcolor\": \"white\", \"lakecolor\": \"white\", \"landcolor\": \"#E5ECF6\", \"showlakes\": true, \"showland\": true, \"subunitcolor\": \"white\"}, \"hoverlabel\": {\"align\": \"left\"}, \"hovermode\": \"closest\", \"mapbox\": {\"style\": \"light\"}, \"paper_bgcolor\": \"white\", \"plot_bgcolor\": \"#E5ECF6\", \"polar\": {\"angularaxis\": {\"gridcolor\": \"white\", \"linecolor\": \"white\", \"ticks\": \"\"}, \"bgcolor\": \"#E5ECF6\", \"radialaxis\": {\"gridcolor\": \"white\", \"linecolor\": \"white\", \"ticks\": \"\"}}, \"scene\": {\"xaxis\": {\"backgroundcolor\": \"#E5ECF6\", \"gridcolor\": \"white\", \"gridwidth\": 2, \"linecolor\": \"white\", \"showbackground\": true, \"ticks\": \"\", \"zerolinecolor\": \"white\"}, \"yaxis\": {\"backgroundcolor\": \"#E5ECF6\", \"gridcolor\": \"white\", \"gridwidth\": 2, \"linecolor\": \"white\", \"showbackground\": true, \"ticks\": \"\", \"zerolinecolor\": \"white\"}, \"zaxis\": {\"backgroundcolor\": \"#E5ECF6\", \"gridcolor\": \"white\", \"gridwidth\": 2, \"linecolor\": \"white\", \"showbackground\": true, \"ticks\": \"\", \"zerolinecolor\": \"white\"}}, \"shapedefaults\": {\"line\": {\"color\": \"#2a3f5f\"}}, \"ternary\": {\"aaxis\": {\"gridcolor\": \"white\", \"linecolor\": \"white\", \"ticks\": \"\"}, \"baxis\": {\"gridcolor\": \"white\", \"linecolor\": \"white\", \"ticks\": \"\"}, \"bgcolor\": \"#E5ECF6\", \"caxis\": {\"gridcolor\": \"white\", \"linecolor\": \"white\", \"ticks\": \"\"}}, \"title\": {\"x\": 0.05}, \"xaxis\": {\"automargin\": true, \"gridcolor\": \"white\", \"linecolor\": \"white\", \"ticks\": \"\", \"title\": {\"standoff\": 15}, \"zerolinecolor\": \"white\", \"zerolinewidth\": 2}, \"yaxis\": {\"automargin\": true, \"gridcolor\": \"white\", \"linecolor\": \"white\", \"ticks\": \"\", \"title\": {\"standoff\": 15}, \"zerolinecolor\": \"white\", \"zerolinewidth\": 2}}}, \"title\": {\"text\": \"Date Plots\", \"x\": 0.5}, \"width\": 800, \"xaxis\": {\"anchor\": \"y\", \"domain\": [0.0, 1.0]}, \"xaxis2\": {\"anchor\": \"y2\", \"domain\": [0.0, 1.0]}, \"xaxis3\": {\"anchor\": \"y3\", \"domain\": [0.0, 1.0], \"title\": {\"text\": \"Date\"}}, \"yaxis\": {\"anchor\": \"x\", \"domain\": [0.7066666666666667, 1.0], \"title\": {\"text\": \"Total Visits\"}}, \"yaxis2\": {\"anchor\": \"x2\", \"domain\": [0.35333333333333333, 0.6466666666666667], \"title\": {\"text\": \"Non-zero Revenue Visits\"}}, \"yaxis3\": {\"anchor\": \"x3\", \"domain\": [0.0, 0.29333333333333333], \"title\": {\"text\": \"Mean Revenue\"}}},\n",
              "                        {\"responsive\": true}\n",
              "                    ).then(function(){\n",
              "                            \n",
              "var gd = document.getElementById('e1e91068-dc50-4dc4-a14e-8650fa299bf6');\n",
              "var x = new MutationObserver(function (mutations, observer) {{\n",
              "        var display = window.getComputedStyle(gd).display;\n",
              "        if (!display || display === 'none') {{\n",
              "            console.log([gd, 'removed!']);\n",
              "            Plotly.purge(gd);\n",
              "            observer.disconnect();\n",
              "        }}\n",
              "}});\n",
              "\n",
              "// Listen for the removal of the full notebook cells\n",
              "var notebookContainer = gd.closest('#notebook-container');\n",
              "if (notebookContainer) {{\n",
              "    x.observe(notebookContainer, {childList: true});\n",
              "}}\n",
              "\n",
              "// Listen for the clearing of the current output cell\n",
              "var outputEl = gd.closest('.output');\n",
              "if (outputEl) {{\n",
              "    x.observe(outputEl, {childList: true});\n",
              "}}\n",
              "\n",
              "                        })\n",
              "                };\n",
              "                \n",
              "            </script>\n",
              "        </div>\n",
              "</body>\n",
              "</html>"
            ]
          },
          "metadata": {
            "tags": []
          }
        }
      ]
    },
    {
      "cell_type": "markdown",
      "metadata": {
        "id": "dpS0pWt6z8qt"
      },
      "source": [
        "Some findings:\n",
        "\n",
        "1.   There was little seasonality in visits and mean revenue.\n",
        "2.   Oct 2016 - Dec 2016 showed more total visits than other months, which is probably because of some advertisement campaign since this trend didn't appear a year later (see below, Total Visits by Day in Test Data).<br><br>\n",
        "\n"
      ]
    },
    {
      "cell_type": "code",
      "metadata": {
        "id": "BPJo3Fzv2R2G"
      },
      "source": [
        "test['date'] = pd.to_datetime(test['date'], format='%Y%m%d')"
      ],
      "execution_count": null,
      "outputs": []
    },
    {
      "cell_type": "code",
      "metadata": {
        "colab": {
          "base_uri": "https://localhost:8080/",
          "height": 417
        },
        "id": "fPo1SBFk375V",
        "outputId": "1e4c1aea-96a7-4409-cf94-9ea56e299235"
      },
      "source": [
        "gdf = test.groupby('date')['fullVisitorId'].count()\n",
        "\n",
        "fig = go.Figure()\n",
        "fig.add_trace(go.Scatter(x=gdf.index, y=gdf.values, showlegend=False))\n",
        "fig.update_xaxes(title_text='Date')\n",
        "fig.update_yaxes(title_text='Total Visits')\n",
        "fig.update_layout(height=400, width=800, title=dict(text='Total Visits by Day in Test Data', x=0.5))\n",
        "fig.show()"
      ],
      "execution_count": null,
      "outputs": [
        {
          "output_type": "display_data",
          "data": {
            "text/html": [
              "<html>\n",
              "<head><meta charset=\"utf-8\" /></head>\n",
              "<body>\n",
              "    <div>\n",
              "            <script src=\"https://cdnjs.cloudflare.com/ajax/libs/mathjax/2.7.5/MathJax.js?config=TeX-AMS-MML_SVG\"></script><script type=\"text/javascript\">if (window.MathJax) {MathJax.Hub.Config({SVG: {font: \"STIX-Web\"}});}</script>\n",
              "                <script type=\"text/javascript\">window.PlotlyConfig = {MathJaxConfig: 'local'};</script>\n",
              "        <script src=\"https://cdn.plot.ly/plotly-latest.min.js\"></script>    \n",
              "            <div id=\"6fccb858-a3c1-4386-bc0e-739aa3f39e74\" class=\"plotly-graph-div\" style=\"height:400px; width:800px;\"></div>\n",
              "            <script type=\"text/javascript\">\n",
              "                \n",
              "                    window.PLOTLYENV=window.PLOTLYENV || {};\n",
              "                    \n",
              "                if (document.getElementById(\"6fccb858-a3c1-4386-bc0e-739aa3f39e74\")) {\n",
              "                    Plotly.newPlot(\n",
              "                        '6fccb858-a3c1-4386-bc0e-739aa3f39e74',\n",
              "                        [{\"showlegend\": false, \"type\": \"scatter\", \"x\": [\"2017-08-02T00:00:00\", \"2017-08-03T00:00:00\", \"2017-08-04T00:00:00\", \"2017-08-05T00:00:00\", \"2017-08-06T00:00:00\", \"2017-08-07T00:00:00\", \"2017-08-08T00:00:00\", \"2017-08-09T00:00:00\", \"2017-08-10T00:00:00\", \"2017-08-11T00:00:00\", \"2017-08-12T00:00:00\", \"2017-08-13T00:00:00\", \"2017-08-14T00:00:00\", \"2017-08-15T00:00:00\", \"2017-08-16T00:00:00\", \"2017-08-17T00:00:00\", \"2017-08-18T00:00:00\", \"2017-08-19T00:00:00\", \"2017-08-20T00:00:00\", \"2017-08-21T00:00:00\", \"2017-08-22T00:00:00\", \"2017-08-23T00:00:00\", \"2017-08-24T00:00:00\", \"2017-08-25T00:00:00\", \"2017-08-26T00:00:00\", \"2017-08-27T00:00:00\", \"2017-08-28T00:00:00\", \"2017-08-29T00:00:00\", \"2017-08-30T00:00:00\", \"2017-08-31T00:00:00\", \"2017-09-01T00:00:00\", \"2017-09-02T00:00:00\", \"2017-09-03T00:00:00\", \"2017-09-04T00:00:00\", \"2017-09-05T00:00:00\", \"2017-09-06T00:00:00\", \"2017-09-07T00:00:00\", \"2017-09-08T00:00:00\", \"2017-09-09T00:00:00\", \"2017-09-10T00:00:00\", \"2017-09-11T00:00:00\", \"2017-09-12T00:00:00\", \"2017-09-13T00:00:00\", \"2017-09-14T00:00:00\", \"2017-09-15T00:00:00\", \"2017-09-16T00:00:00\", \"2017-09-17T00:00:00\", \"2017-09-18T00:00:00\", \"2017-09-19T00:00:00\", \"2017-09-20T00:00:00\", \"2017-09-21T00:00:00\", \"2017-09-22T00:00:00\", \"2017-09-23T00:00:00\", \"2017-09-24T00:00:00\", \"2017-09-25T00:00:00\", \"2017-09-26T00:00:00\", \"2017-09-27T00:00:00\", \"2017-09-28T00:00:00\", \"2017-09-29T00:00:00\", \"2017-09-30T00:00:00\", \"2017-10-01T00:00:00\", \"2017-10-02T00:00:00\", \"2017-10-03T00:00:00\", \"2017-10-04T00:00:00\", \"2017-10-05T00:00:00\", \"2017-10-06T00:00:00\", \"2017-10-07T00:00:00\", \"2017-10-08T00:00:00\", \"2017-10-09T00:00:00\", \"2017-10-10T00:00:00\", \"2017-10-11T00:00:00\", \"2017-10-12T00:00:00\", \"2017-10-13T00:00:00\", \"2017-10-14T00:00:00\", \"2017-10-15T00:00:00\", \"2017-10-16T00:00:00\", \"2017-10-17T00:00:00\", \"2017-10-18T00:00:00\", \"2017-10-19T00:00:00\", \"2017-10-20T00:00:00\", \"2017-10-21T00:00:00\", \"2017-10-22T00:00:00\", \"2017-10-23T00:00:00\", \"2017-10-24T00:00:00\", \"2017-10-25T00:00:00\", \"2017-10-26T00:00:00\", \"2017-10-27T00:00:00\", \"2017-10-28T00:00:00\", \"2017-10-29T00:00:00\", \"2017-10-30T00:00:00\", \"2017-10-31T00:00:00\", \"2017-11-01T00:00:00\", \"2017-11-02T00:00:00\", \"2017-11-03T00:00:00\", \"2017-11-04T00:00:00\", \"2017-11-05T00:00:00\", \"2017-11-06T00:00:00\", \"2017-11-07T00:00:00\", \"2017-11-08T00:00:00\", \"2017-11-09T00:00:00\", \"2017-11-10T00:00:00\", \"2017-11-11T00:00:00\", \"2017-11-12T00:00:00\", \"2017-11-13T00:00:00\", \"2017-11-14T00:00:00\", \"2017-11-15T00:00:00\", \"2017-11-16T00:00:00\", \"2017-11-17T00:00:00\", \"2017-11-18T00:00:00\", \"2017-11-19T00:00:00\", \"2017-11-20T00:00:00\", \"2017-11-21T00:00:00\", \"2017-11-22T00:00:00\", \"2017-11-23T00:00:00\", \"2017-11-24T00:00:00\", \"2017-11-25T00:00:00\", \"2017-11-26T00:00:00\", \"2017-11-27T00:00:00\", \"2017-11-28T00:00:00\", \"2017-11-29T00:00:00\", \"2017-11-30T00:00:00\", \"2017-12-01T00:00:00\", \"2017-12-02T00:00:00\", \"2017-12-03T00:00:00\", \"2017-12-04T00:00:00\", \"2017-12-05T00:00:00\", \"2017-12-06T00:00:00\", \"2017-12-07T00:00:00\", \"2017-12-08T00:00:00\", \"2017-12-09T00:00:00\", \"2017-12-10T00:00:00\", \"2017-12-11T00:00:00\", \"2017-12-12T00:00:00\", \"2017-12-13T00:00:00\", \"2017-12-14T00:00:00\", \"2017-12-15T00:00:00\", \"2017-12-16T00:00:00\", \"2017-12-17T00:00:00\", \"2017-12-18T00:00:00\", \"2017-12-19T00:00:00\", \"2017-12-20T00:00:00\", \"2017-12-21T00:00:00\", \"2017-12-22T00:00:00\", \"2017-12-23T00:00:00\", \"2017-12-24T00:00:00\", \"2017-12-25T00:00:00\", \"2017-12-26T00:00:00\", \"2017-12-27T00:00:00\", \"2017-12-28T00:00:00\", \"2017-12-29T00:00:00\", \"2017-12-30T00:00:00\", \"2017-12-31T00:00:00\", \"2018-01-01T00:00:00\", \"2018-01-02T00:00:00\", \"2018-01-03T00:00:00\", \"2018-01-04T00:00:00\", \"2018-01-05T00:00:00\", \"2018-01-06T00:00:00\", \"2018-01-07T00:00:00\", \"2018-01-08T00:00:00\", \"2018-01-09T00:00:00\", \"2018-01-10T00:00:00\", \"2018-01-11T00:00:00\", \"2018-01-12T00:00:00\", \"2018-01-13T00:00:00\", \"2018-01-14T00:00:00\", \"2018-01-15T00:00:00\", \"2018-01-16T00:00:00\", \"2018-01-17T00:00:00\", \"2018-01-18T00:00:00\", \"2018-01-19T00:00:00\", \"2018-01-20T00:00:00\", \"2018-01-21T00:00:00\", \"2018-01-22T00:00:00\", \"2018-01-23T00:00:00\", \"2018-01-24T00:00:00\", \"2018-01-25T00:00:00\", \"2018-01-26T00:00:00\", \"2018-01-27T00:00:00\", \"2018-01-28T00:00:00\", \"2018-01-29T00:00:00\", \"2018-01-30T00:00:00\", \"2018-01-31T00:00:00\", \"2018-02-01T00:00:00\", \"2018-02-02T00:00:00\", \"2018-02-03T00:00:00\", \"2018-02-04T00:00:00\", \"2018-02-05T00:00:00\", \"2018-02-06T00:00:00\", \"2018-02-07T00:00:00\", \"2018-02-08T00:00:00\", \"2018-02-09T00:00:00\", \"2018-02-10T00:00:00\", \"2018-02-11T00:00:00\", \"2018-02-12T00:00:00\", \"2018-02-13T00:00:00\", \"2018-02-14T00:00:00\", \"2018-02-15T00:00:00\", \"2018-02-16T00:00:00\", \"2018-02-17T00:00:00\", \"2018-02-18T00:00:00\", \"2018-02-19T00:00:00\", \"2018-02-20T00:00:00\", \"2018-02-21T00:00:00\", \"2018-02-22T00:00:00\", \"2018-02-23T00:00:00\", \"2018-02-24T00:00:00\", \"2018-02-25T00:00:00\", \"2018-02-26T00:00:00\", \"2018-02-27T00:00:00\", \"2018-02-28T00:00:00\", \"2018-03-01T00:00:00\", \"2018-03-02T00:00:00\", \"2018-03-03T00:00:00\", \"2018-03-04T00:00:00\", \"2018-03-05T00:00:00\", \"2018-03-06T00:00:00\", \"2018-03-07T00:00:00\", \"2018-03-08T00:00:00\", \"2018-03-09T00:00:00\", \"2018-03-10T00:00:00\", \"2018-03-11T00:00:00\", \"2018-03-12T00:00:00\", \"2018-03-13T00:00:00\", \"2018-03-14T00:00:00\", \"2018-03-15T00:00:00\", \"2018-03-16T00:00:00\", \"2018-03-17T00:00:00\", \"2018-03-18T00:00:00\", \"2018-03-19T00:00:00\", \"2018-03-20T00:00:00\", \"2018-03-21T00:00:00\", \"2018-03-22T00:00:00\", \"2018-03-23T00:00:00\", \"2018-03-24T00:00:00\", \"2018-03-25T00:00:00\", \"2018-03-26T00:00:00\", \"2018-03-27T00:00:00\", \"2018-03-28T00:00:00\", \"2018-03-29T00:00:00\", \"2018-03-30T00:00:00\", \"2018-03-31T00:00:00\", \"2018-04-01T00:00:00\", \"2018-04-02T00:00:00\", \"2018-04-03T00:00:00\", \"2018-04-04T00:00:00\", \"2018-04-05T00:00:00\", \"2018-04-06T00:00:00\", \"2018-04-07T00:00:00\", \"2018-04-08T00:00:00\", \"2018-04-09T00:00:00\", \"2018-04-10T00:00:00\", \"2018-04-11T00:00:00\", \"2018-04-12T00:00:00\", \"2018-04-13T00:00:00\", \"2018-04-14T00:00:00\", \"2018-04-15T00:00:00\", \"2018-04-16T00:00:00\", \"2018-04-17T00:00:00\", \"2018-04-18T00:00:00\", \"2018-04-19T00:00:00\", \"2018-04-20T00:00:00\", \"2018-04-21T00:00:00\", \"2018-04-22T00:00:00\", \"2018-04-23T00:00:00\", \"2018-04-24T00:00:00\", \"2018-04-25T00:00:00\", \"2018-04-26T00:00:00\", \"2018-04-27T00:00:00\", \"2018-04-28T00:00:00\", \"2018-04-29T00:00:00\", \"2018-04-30T00:00:00\"], \"y\": [2828, 2691, 2843, 1796, 2340, 2846, 3059, 2855, 2852, 2769, 2012, 1996, 3487, 3109, 2862, 3203, 2861, 2018, 1985, 2860, 3143, 3267, 3716, 2422, 2177, 2162, 2748, 3263, 3121, 2955, 2471, 1966, 2064, 2313, 2852, 2831, 2793, 2564, 2026, 1992, 2831, 2784, 2790, 2850, 2691, 2821, 2856, 3626, 3526, 4880, 4715, 3313, 2200, 2556, 2987, 3655, 3303, 3396, 2989, 2634, 2993, 3470, 3621, 5122, 4679, 4033, 3539, 3329, 3976, 3961, 3368, 3002, 2699, 2395, 2121, 2989, 4258, 3493, 3205, 2976, 2251, 2662, 3427, 3318, 3290, 3547, 3134, 2293, 2217, 3144, 2774, 2875, 2880, 2937, 2330, 2642, 3542, 3846, 4136, 3628, 3186, 2471, 2784, 3383, 3573, 3581, 3530, 3230, 2123, 2311, 3318, 2905, 3033, 2964, 2901, 2269, 2553, 4194, 3934, 3452, 3178, 2918, 2254, 2439, 3328, 3395, 3577, 3624, 2880, 2239, 2487, 3259, 9234, 9131, 3587, 3527, 2597, 2523, 3601, 3407, 3196, 2930, 2422, 1998, 1960, 2085, 2370, 2716, 2255, 1902, 1768, 1495, 1810, 2715, 2747, 2812, 2613, 1931, 2068, 2751, 3223, 3176, 2954, 2756, 2115, 2242, 3070, 3241, 3120, 2842, 2784, 2024, 2012, 2951, 2901, 2987, 3502, 2672, 2073, 2198, 3017, 3062, 3021, 3034, 2697, 2063, 2171, 3041, 2999, 3012, 2953, 2964, 2469, 2708, 3547, 3434, 3272, 3128, 2738, 2371, 2627, 2871, 3501, 3392, 3596, 3055, 2247, 2446, 3989, 3516, 3163, 3195, 2922, 2390, 2386, 3221, 3824, 3227, 3092, 2877, 2285, 2252, 3598, 3484, 3344, 3498, 2993, 2201, 2317, 3603, 3251, 4434, 3570, 2891, 2228, 2146, 3077, 4227, 3724, 3310, 2679, 1843, 2068, 3176, 3405, 3299, 2936, 2653, 2144, 2434, 3141, 3263, 3084, 3201, 2716, 1900, 2089, 3129, 3229, 3201, 3084, 2581, 1920, 2147, 3104, 3134, 3058, 3177, 2626, 1972, 1977, 2753]}],\n",
              "                        {\"height\": 400, \"template\": {\"data\": {\"bar\": [{\"error_x\": {\"color\": \"#2a3f5f\"}, \"error_y\": {\"color\": \"#2a3f5f\"}, \"marker\": {\"line\": {\"color\": \"#E5ECF6\", \"width\": 0.5}}, \"type\": \"bar\"}], \"barpolar\": [{\"marker\": {\"line\": {\"color\": \"#E5ECF6\", \"width\": 0.5}}, \"type\": \"barpolar\"}], \"carpet\": [{\"aaxis\": {\"endlinecolor\": \"#2a3f5f\", \"gridcolor\": \"white\", \"linecolor\": \"white\", \"minorgridcolor\": \"white\", \"startlinecolor\": \"#2a3f5f\"}, \"baxis\": {\"endlinecolor\": \"#2a3f5f\", \"gridcolor\": \"white\", \"linecolor\": \"white\", \"minorgridcolor\": \"white\", \"startlinecolor\": \"#2a3f5f\"}, \"type\": \"carpet\"}], \"choropleth\": [{\"colorbar\": {\"outlinewidth\": 0, \"ticks\": \"\"}, \"type\": \"choropleth\"}], \"contour\": [{\"colorbar\": {\"outlinewidth\": 0, \"ticks\": \"\"}, \"colorscale\": [[0.0, \"#0d0887\"], [0.1111111111111111, \"#46039f\"], [0.2222222222222222, \"#7201a8\"], [0.3333333333333333, \"#9c179e\"], [0.4444444444444444, \"#bd3786\"], [0.5555555555555556, \"#d8576b\"], [0.6666666666666666, \"#ed7953\"], [0.7777777777777778, \"#fb9f3a\"], [0.8888888888888888, \"#fdca26\"], [1.0, \"#f0f921\"]], \"type\": \"contour\"}], \"contourcarpet\": [{\"colorbar\": {\"outlinewidth\": 0, \"ticks\": \"\"}, \"type\": \"contourcarpet\"}], \"heatmap\": [{\"colorbar\": {\"outlinewidth\": 0, \"ticks\": \"\"}, \"colorscale\": [[0.0, \"#0d0887\"], [0.1111111111111111, \"#46039f\"], [0.2222222222222222, \"#7201a8\"], [0.3333333333333333, \"#9c179e\"], [0.4444444444444444, \"#bd3786\"], [0.5555555555555556, \"#d8576b\"], [0.6666666666666666, \"#ed7953\"], [0.7777777777777778, \"#fb9f3a\"], [0.8888888888888888, \"#fdca26\"], [1.0, \"#f0f921\"]], \"type\": \"heatmap\"}], \"heatmapgl\": [{\"colorbar\": {\"outlinewidth\": 0, \"ticks\": \"\"}, \"colorscale\": [[0.0, \"#0d0887\"], [0.1111111111111111, \"#46039f\"], [0.2222222222222222, \"#7201a8\"], [0.3333333333333333, \"#9c179e\"], [0.4444444444444444, \"#bd3786\"], [0.5555555555555556, \"#d8576b\"], [0.6666666666666666, \"#ed7953\"], [0.7777777777777778, \"#fb9f3a\"], [0.8888888888888888, \"#fdca26\"], [1.0, \"#f0f921\"]], \"type\": \"heatmapgl\"}], \"histogram\": [{\"marker\": {\"colorbar\": {\"outlinewidth\": 0, \"ticks\": \"\"}}, \"type\": \"histogram\"}], \"histogram2d\": [{\"colorbar\": {\"outlinewidth\": 0, \"ticks\": \"\"}, \"colorscale\": [[0.0, \"#0d0887\"], [0.1111111111111111, \"#46039f\"], [0.2222222222222222, \"#7201a8\"], [0.3333333333333333, \"#9c179e\"], [0.4444444444444444, \"#bd3786\"], [0.5555555555555556, \"#d8576b\"], [0.6666666666666666, \"#ed7953\"], [0.7777777777777778, \"#fb9f3a\"], [0.8888888888888888, \"#fdca26\"], [1.0, \"#f0f921\"]], \"type\": \"histogram2d\"}], \"histogram2dcontour\": [{\"colorbar\": {\"outlinewidth\": 0, \"ticks\": \"\"}, \"colorscale\": [[0.0, \"#0d0887\"], [0.1111111111111111, \"#46039f\"], [0.2222222222222222, \"#7201a8\"], [0.3333333333333333, \"#9c179e\"], [0.4444444444444444, \"#bd3786\"], [0.5555555555555556, \"#d8576b\"], [0.6666666666666666, \"#ed7953\"], [0.7777777777777778, \"#fb9f3a\"], [0.8888888888888888, \"#fdca26\"], [1.0, \"#f0f921\"]], \"type\": \"histogram2dcontour\"}], \"mesh3d\": [{\"colorbar\": {\"outlinewidth\": 0, \"ticks\": \"\"}, \"type\": \"mesh3d\"}], \"parcoords\": [{\"line\": {\"colorbar\": {\"outlinewidth\": 0, \"ticks\": \"\"}}, \"type\": \"parcoords\"}], \"pie\": [{\"automargin\": true, \"type\": \"pie\"}], \"scatter\": [{\"marker\": {\"colorbar\": {\"outlinewidth\": 0, \"ticks\": \"\"}}, \"type\": \"scatter\"}], \"scatter3d\": [{\"line\": {\"colorbar\": {\"outlinewidth\": 0, \"ticks\": \"\"}}, \"marker\": {\"colorbar\": {\"outlinewidth\": 0, \"ticks\": \"\"}}, \"type\": \"scatter3d\"}], \"scattercarpet\": [{\"marker\": {\"colorbar\": {\"outlinewidth\": 0, \"ticks\": \"\"}}, \"type\": \"scattercarpet\"}], \"scattergeo\": [{\"marker\": {\"colorbar\": {\"outlinewidth\": 0, \"ticks\": \"\"}}, \"type\": \"scattergeo\"}], \"scattergl\": [{\"marker\": {\"colorbar\": {\"outlinewidth\": 0, \"ticks\": \"\"}}, \"type\": \"scattergl\"}], \"scattermapbox\": [{\"marker\": {\"colorbar\": {\"outlinewidth\": 0, \"ticks\": \"\"}}, \"type\": \"scattermapbox\"}], \"scatterpolar\": [{\"marker\": {\"colorbar\": {\"outlinewidth\": 0, \"ticks\": \"\"}}, \"type\": \"scatterpolar\"}], \"scatterpolargl\": [{\"marker\": {\"colorbar\": {\"outlinewidth\": 0, \"ticks\": \"\"}}, \"type\": \"scatterpolargl\"}], \"scatterternary\": [{\"marker\": {\"colorbar\": {\"outlinewidth\": 0, \"ticks\": \"\"}}, \"type\": \"scatterternary\"}], \"surface\": [{\"colorbar\": {\"outlinewidth\": 0, \"ticks\": \"\"}, \"colorscale\": [[0.0, \"#0d0887\"], [0.1111111111111111, \"#46039f\"], [0.2222222222222222, \"#7201a8\"], [0.3333333333333333, \"#9c179e\"], [0.4444444444444444, \"#bd3786\"], [0.5555555555555556, \"#d8576b\"], [0.6666666666666666, \"#ed7953\"], [0.7777777777777778, \"#fb9f3a\"], [0.8888888888888888, \"#fdca26\"], [1.0, \"#f0f921\"]], \"type\": \"surface\"}], \"table\": [{\"cells\": {\"fill\": {\"color\": \"#EBF0F8\"}, \"line\": {\"color\": \"white\"}}, \"header\": {\"fill\": {\"color\": \"#C8D4E3\"}, \"line\": {\"color\": \"white\"}}, \"type\": \"table\"}]}, \"layout\": {\"annotationdefaults\": {\"arrowcolor\": \"#2a3f5f\", \"arrowhead\": 0, \"arrowwidth\": 1}, \"coloraxis\": {\"colorbar\": {\"outlinewidth\": 0, \"ticks\": \"\"}}, \"colorscale\": {\"diverging\": [[0, \"#8e0152\"], [0.1, \"#c51b7d\"], [0.2, \"#de77ae\"], [0.3, \"#f1b6da\"], [0.4, \"#fde0ef\"], [0.5, \"#f7f7f7\"], [0.6, \"#e6f5d0\"], [0.7, \"#b8e186\"], [0.8, \"#7fbc41\"], [0.9, \"#4d9221\"], [1, \"#276419\"]], \"sequential\": [[0.0, \"#0d0887\"], [0.1111111111111111, \"#46039f\"], [0.2222222222222222, \"#7201a8\"], [0.3333333333333333, \"#9c179e\"], [0.4444444444444444, \"#bd3786\"], [0.5555555555555556, \"#d8576b\"], [0.6666666666666666, \"#ed7953\"], [0.7777777777777778, \"#fb9f3a\"], [0.8888888888888888, \"#fdca26\"], [1.0, \"#f0f921\"]], \"sequentialminus\": [[0.0, \"#0d0887\"], [0.1111111111111111, \"#46039f\"], [0.2222222222222222, \"#7201a8\"], [0.3333333333333333, \"#9c179e\"], [0.4444444444444444, \"#bd3786\"], [0.5555555555555556, \"#d8576b\"], [0.6666666666666666, \"#ed7953\"], [0.7777777777777778, \"#fb9f3a\"], [0.8888888888888888, \"#fdca26\"], [1.0, \"#f0f921\"]]}, \"colorway\": [\"#636efa\", \"#EF553B\", \"#00cc96\", \"#ab63fa\", \"#FFA15A\", \"#19d3f3\", \"#FF6692\", \"#B6E880\", \"#FF97FF\", \"#FECB52\"], \"font\": {\"color\": \"#2a3f5f\"}, \"geo\": {\"bgcolor\": \"white\", \"lakecolor\": \"white\", \"landcolor\": \"#E5ECF6\", \"showlakes\": true, \"showland\": true, \"subunitcolor\": \"white\"}, \"hoverlabel\": {\"align\": \"left\"}, \"hovermode\": \"closest\", \"mapbox\": {\"style\": \"light\"}, \"paper_bgcolor\": \"white\", \"plot_bgcolor\": \"#E5ECF6\", \"polar\": {\"angularaxis\": {\"gridcolor\": \"white\", \"linecolor\": \"white\", \"ticks\": \"\"}, \"bgcolor\": \"#E5ECF6\", \"radialaxis\": {\"gridcolor\": \"white\", \"linecolor\": \"white\", \"ticks\": \"\"}}, \"scene\": {\"xaxis\": {\"backgroundcolor\": \"#E5ECF6\", \"gridcolor\": \"white\", \"gridwidth\": 2, \"linecolor\": \"white\", \"showbackground\": true, \"ticks\": \"\", \"zerolinecolor\": \"white\"}, \"yaxis\": {\"backgroundcolor\": \"#E5ECF6\", \"gridcolor\": \"white\", \"gridwidth\": 2, \"linecolor\": \"white\", \"showbackground\": true, \"ticks\": \"\", \"zerolinecolor\": \"white\"}, \"zaxis\": {\"backgroundcolor\": \"#E5ECF6\", \"gridcolor\": \"white\", \"gridwidth\": 2, \"linecolor\": \"white\", \"showbackground\": true, \"ticks\": \"\", \"zerolinecolor\": \"white\"}}, \"shapedefaults\": {\"line\": {\"color\": \"#2a3f5f\"}}, \"ternary\": {\"aaxis\": {\"gridcolor\": \"white\", \"linecolor\": \"white\", \"ticks\": \"\"}, \"baxis\": {\"gridcolor\": \"white\", \"linecolor\": \"white\", \"ticks\": \"\"}, \"bgcolor\": \"#E5ECF6\", \"caxis\": {\"gridcolor\": \"white\", \"linecolor\": \"white\", \"ticks\": \"\"}}, \"title\": {\"x\": 0.05}, \"xaxis\": {\"automargin\": true, \"gridcolor\": \"white\", \"linecolor\": \"white\", \"ticks\": \"\", \"title\": {\"standoff\": 15}, \"zerolinecolor\": \"white\", \"zerolinewidth\": 2}, \"yaxis\": {\"automargin\": true, \"gridcolor\": \"white\", \"linecolor\": \"white\", \"ticks\": \"\", \"title\": {\"standoff\": 15}, \"zerolinecolor\": \"white\", \"zerolinewidth\": 2}}}, \"title\": {\"text\": \"Total Visits by Day in Test Data\", \"x\": 0.5}, \"width\": 800, \"xaxis\": {\"title\": {\"text\": \"Date\"}}, \"yaxis\": {\"title\": {\"text\": \"Total Visits\"}}},\n",
              "                        {\"responsive\": true}\n",
              "                    ).then(function(){\n",
              "                            \n",
              "var gd = document.getElementById('6fccb858-a3c1-4386-bc0e-739aa3f39e74');\n",
              "var x = new MutationObserver(function (mutations, observer) {{\n",
              "        var display = window.getComputedStyle(gd).display;\n",
              "        if (!display || display === 'none') {{\n",
              "            console.log([gd, 'removed!']);\n",
              "            Plotly.purge(gd);\n",
              "            observer.disconnect();\n",
              "        }}\n",
              "}});\n",
              "\n",
              "// Listen for the removal of the full notebook cells\n",
              "var notebookContainer = gd.closest('#notebook-container');\n",
              "if (notebookContainer) {{\n",
              "    x.observe(notebookContainer, {childList: true});\n",
              "}}\n",
              "\n",
              "// Listen for the clearing of the current output cell\n",
              "var outputEl = gd.closest('.output');\n",
              "if (outputEl) {{\n",
              "    x.observe(outputEl, {childList: true});\n",
              "}}\n",
              "\n",
              "                        })\n",
              "                };\n",
              "                \n",
              "            </script>\n",
              "        </div>\n",
              "</body>\n",
              "</html>"
            ]
          },
          "metadata": {
            "tags": []
          }
        }
      ]
    },
    {
      "cell_type": "markdown",
      "metadata": {
        "id": "8T68v7Hl5Fe9"
      },
      "source": [
        "<br>**Aggregated features:**"
      ]
    },
    {
      "cell_type": "markdown",
      "metadata": {
        "id": "73NwRp0Y5lf_"
      },
      "source": [
        "Since I need to predict transaction revenue by each visitor rather than by each visit, I'll aggregate dataset by visitorid and further explore two features: datediff - the date difference between the last visit and the earliest visit for one visitor, and total visit for one visitor.<br><br>"
      ]
    },
    {
      "cell_type": "code",
      "metadata": {
        "colab": {
          "base_uri": "https://localhost:8080/",
          "height": 419
        },
        "id": "WiK7_fDm762d",
        "outputId": "c0e0b924-ee65-426b-a577-f5dd33453254"
      },
      "source": [
        "gdf = pd.concat([train.groupby('fullVisitorId')['date'].apply(lambda x: (x.max()-x.min()).days).rename('datediff'),\n",
        "                 train.groupby('fullVisitorId')['sessionId'].count().rename('total_visits'),\n",
        "                 train.groupby('fullVisitorId')['totals.transactionRevenue'].apply(lambda x: np.log1p(x.sum()))], axis=1).reset_index()\n",
        "gdf"
      ],
      "execution_count": null,
      "outputs": [
        {
          "output_type": "execute_result",
          "data": {
            "text/html": [
              "<div>\n",
              "<style scoped>\n",
              "    .dataframe tbody tr th:only-of-type {\n",
              "        vertical-align: middle;\n",
              "    }\n",
              "\n",
              "    .dataframe tbody tr th {\n",
              "        vertical-align: top;\n",
              "    }\n",
              "\n",
              "    .dataframe thead th {\n",
              "        text-align: right;\n",
              "    }\n",
              "</style>\n",
              "<table border=\"1\" class=\"dataframe\">\n",
              "  <thead>\n",
              "    <tr style=\"text-align: right;\">\n",
              "      <th></th>\n",
              "      <th>fullVisitorId</th>\n",
              "      <th>datediff</th>\n",
              "      <th>total_visits</th>\n",
              "      <th>totals.transactionRevenue</th>\n",
              "    </tr>\n",
              "  </thead>\n",
              "  <tbody>\n",
              "    <tr>\n",
              "      <th>0</th>\n",
              "      <td>0000010278554503158</td>\n",
              "      <td>0</td>\n",
              "      <td>1</td>\n",
              "      <td>0.0</td>\n",
              "    </tr>\n",
              "    <tr>\n",
              "      <th>1</th>\n",
              "      <td>0000020424342248747</td>\n",
              "      <td>0</td>\n",
              "      <td>1</td>\n",
              "      <td>0.0</td>\n",
              "    </tr>\n",
              "    <tr>\n",
              "      <th>2</th>\n",
              "      <td>0000027376579751715</td>\n",
              "      <td>0</td>\n",
              "      <td>1</td>\n",
              "      <td>0.0</td>\n",
              "    </tr>\n",
              "    <tr>\n",
              "      <th>3</th>\n",
              "      <td>0000039460501403861</td>\n",
              "      <td>0</td>\n",
              "      <td>1</td>\n",
              "      <td>0.0</td>\n",
              "    </tr>\n",
              "    <tr>\n",
              "      <th>4</th>\n",
              "      <td>0000040862739425590</td>\n",
              "      <td>0</td>\n",
              "      <td>2</td>\n",
              "      <td>0.0</td>\n",
              "    </tr>\n",
              "    <tr>\n",
              "      <th>...</th>\n",
              "      <td>...</td>\n",
              "      <td>...</td>\n",
              "      <td>...</td>\n",
              "      <td>...</td>\n",
              "    </tr>\n",
              "    <tr>\n",
              "      <th>714162</th>\n",
              "      <td>9999963186378918199</td>\n",
              "      <td>0</td>\n",
              "      <td>1</td>\n",
              "      <td>0.0</td>\n",
              "    </tr>\n",
              "    <tr>\n",
              "      <th>714163</th>\n",
              "      <td>999997225970956660</td>\n",
              "      <td>0</td>\n",
              "      <td>1</td>\n",
              "      <td>0.0</td>\n",
              "    </tr>\n",
              "    <tr>\n",
              "      <th>714164</th>\n",
              "      <td>999997550040396460</td>\n",
              "      <td>11</td>\n",
              "      <td>2</td>\n",
              "      <td>0.0</td>\n",
              "    </tr>\n",
              "    <tr>\n",
              "      <th>714165</th>\n",
              "      <td>9999978264901065827</td>\n",
              "      <td>0</td>\n",
              "      <td>1</td>\n",
              "      <td>0.0</td>\n",
              "    </tr>\n",
              "    <tr>\n",
              "      <th>714166</th>\n",
              "      <td>9999986437109498564</td>\n",
              "      <td>0</td>\n",
              "      <td>1</td>\n",
              "      <td>0.0</td>\n",
              "    </tr>\n",
              "  </tbody>\n",
              "</table>\n",
              "<p>714167 rows × 4 columns</p>\n",
              "</div>"
            ],
            "text/plain": [
              "              fullVisitorId  datediff  total_visits  totals.transactionRevenue\n",
              "0       0000010278554503158         0             1                        0.0\n",
              "1       0000020424342248747         0             1                        0.0\n",
              "2       0000027376579751715         0             1                        0.0\n",
              "3       0000039460501403861         0             1                        0.0\n",
              "4       0000040862739425590         0             2                        0.0\n",
              "...                     ...       ...           ...                        ...\n",
              "714162  9999963186378918199         0             1                        0.0\n",
              "714163   999997225970956660         0             1                        0.0\n",
              "714164   999997550040396460        11             2                        0.0\n",
              "714165  9999978264901065827         0             1                        0.0\n",
              "714166  9999986437109498564         0             1                        0.0\n",
              "\n",
              "[714167 rows x 4 columns]"
            ]
          },
          "metadata": {
            "tags": []
          },
          "execution_count": 71
        }
      ]
    },
    {
      "cell_type": "code",
      "metadata": {
        "colab": {
          "base_uri": "https://localhost:8080/",
          "height": 917
        },
        "id": "SPh8mQAb8V50",
        "outputId": "698c93b1-7106-4fb5-9148-b9577b93045d"
      },
      "source": [
        "grp_df = gdf.groupby('datediff')['totals.transactionRevenue'].agg(['count', 'mean']).reset_index()\n",
        "g = gdf[gdf['totals.transactionRevenue']>0].groupby('datediff')['totals.transactionRevenue'].count().rename('count').reset_index()\n",
        "\n",
        "fig = make_subplots(rows=3, cols=1, vertical_spacing=0.06)\n",
        "fig.append_trace(go.Scatter(y=grp_df['count'], x=grp_df['datediff'], showlegend=False), 1, 1)\n",
        "fig.append_trace(go.Scatter(y=g['count'], x=g['datediff'], showlegend=False), 2, 1)\n",
        "fig.append_trace(go.Scatter(y=grp_df['mean'], x=grp_df['datediff'], showlegend=False), 3, 1)\n",
        "\n",
        "# Update xaxis properties\n",
        "fig.update_xaxes(title_text=\"Datediff\", row=3, col=1)\n",
        "\n",
        "# Update yaxis properties\n",
        "fig.update_yaxes(title_text=\"Total Visitors\", row=1, col=1)\n",
        "fig.update_yaxes(title_text=\"Non-zero Revenue Visitors\", row=2, col=1)\n",
        "fig.update_yaxes(title_text=\"Mean Revenue\", row=3, col=1)\n",
        "\n",
        "fig.update_layout(height=900, width=800, title=dict(text='Datediff Plots', x=0.5))\n",
        "fig.show()"
      ],
      "execution_count": null,
      "outputs": [
        {
          "output_type": "display_data",
          "data": {
            "text/html": [
              "<html>\n",
              "<head><meta charset=\"utf-8\" /></head>\n",
              "<body>\n",
              "    <div>\n",
              "            <script src=\"https://cdnjs.cloudflare.com/ajax/libs/mathjax/2.7.5/MathJax.js?config=TeX-AMS-MML_SVG\"></script><script type=\"text/javascript\">if (window.MathJax) {MathJax.Hub.Config({SVG: {font: \"STIX-Web\"}});}</script>\n",
              "                <script type=\"text/javascript\">window.PlotlyConfig = {MathJaxConfig: 'local'};</script>\n",
              "        <script src=\"https://cdn.plot.ly/plotly-latest.min.js\"></script>    \n",
              "            <div id=\"400439a9-7e02-4d2d-b174-bf138d22baa6\" class=\"plotly-graph-div\" style=\"height:900px; width:800px;\"></div>\n",
              "            <script type=\"text/javascript\">\n",
              "                \n",
              "                    window.PLOTLYENV=window.PLOTLYENV || {};\n",
              "                    \n",
              "                if (document.getElementById(\"400439a9-7e02-4d2d-b174-bf138d22baa6\")) {\n",
              "                    Plotly.newPlot(\n",
              "                        '400439a9-7e02-4d2d-b174-bf138d22baa6',\n",
              "                        [{\"showlegend\": false, \"type\": \"scatter\", \"x\": [0, 1, 2, 3, 4, 5, 6, 7, 8, 9, 10, 11, 12, 13, 14, 15, 16, 17, 18, 19, 20, 21, 22, 23, 24, 25, 26, 27, 28, 29, 30, 31, 32, 33, 34, 35, 36, 37, 38, 39, 40, 41, 42, 43, 44, 45, 46, 47, 48, 49, 50, 51, 52, 53, 54, 55, 56, 57, 58, 59, 60, 61, 62, 63, 64, 65, 66, 67, 68, 69, 70, 71, 72, 73, 74, 75, 76, 77, 78, 79, 80, 81, 82, 83, 84, 85, 86, 87, 88, 89, 90, 91, 92, 93, 94, 95, 96, 97, 98, 99, 100, 101, 102, 103, 104, 105, 106, 107, 108, 109, 110, 111, 112, 113, 114, 115, 116, 117, 118, 119, 120, 121, 122, 123, 124, 125, 126, 127, 128, 129, 130, 131, 132, 133, 134, 135, 136, 137, 138, 139, 140, 141, 142, 143, 144, 145, 146, 147, 148, 149, 150, 151, 152, 153, 154, 155, 156, 157, 158, 159, 160, 161, 162, 163, 164, 165, 166, 167, 168, 169, 170, 171, 172, 173, 174, 175, 176, 177, 178, 179, 180, 181, 182, 183, 184, 185, 186, 187, 188, 189, 190, 191, 192, 193, 194, 195, 196, 197, 198, 199, 200, 201, 202, 203, 204, 205, 206, 207, 208, 209, 210, 211, 212, 213, 214, 215, 216, 217, 218, 219, 220, 221, 222, 223, 224, 225, 226, 227, 228, 229, 230, 231, 232, 233, 234, 235, 236, 237, 238, 239, 240, 241, 242, 243, 244, 245, 246, 247, 248, 249, 250, 251, 252, 253, 254, 255, 256, 257, 258, 259, 260, 261, 262, 263, 264, 265, 266, 267, 268, 269, 270, 271, 272, 273, 274, 275, 276, 277, 278, 279, 280, 281, 282, 283, 284, 285, 286, 287, 288, 289, 290, 291, 292, 293, 294, 295, 296, 297, 298, 299, 300, 301, 302, 303, 304, 305, 306, 307, 308, 309, 310, 311, 312, 313, 314, 315, 316, 317, 318, 319, 320, 321, 322, 323, 324, 325, 326, 328, 329, 330, 331, 332, 333, 334, 335, 336, 337, 338, 339, 340, 341, 342, 344, 345, 346, 347, 348, 349, 351, 352, 353, 354, 355, 356, 357, 359, 361, 362, 363, 364], \"xaxis\": \"x\", \"y\": [647999, 12700, 4661, 3134, 2516, 2208, 2090, 2247, 1646, 1341, 1183, 1086, 1090, 1145, 1265, 1048, 858, 788, 751, 766, 797, 957, 846, 632, 608, 568, 594, 678, 815, 634, 483, 396, 372, 398, 403, 489, 362, 315, 262, 277, 297, 285, 331, 286, 233, 206, 223, 225, 215, 270, 196, 220, 169, 159, 181, 194, 210, 160, 158, 143, 141, 158, 155, 180, 166, 147, 128, 119, 103, 142, 145, 107, 96, 103, 104, 108, 126, 105, 95, 92, 73, 80, 77, 88, 111, 83, 92, 71, 73, 83, 87, 81, 73, 64, 56, 65, 62, 76, 68, 46, 48, 63, 48, 50, 71, 65, 60, 55, 53, 57, 48, 50, 73, 60, 45, 53, 48, 48, 57, 36, 43, 50, 43, 50, 53, 40, 39, 47, 34, 37, 44, 24, 41, 44, 37, 23, 39, 26, 31, 38, 35, 29, 34, 24, 37, 27, 34, 31, 22, 31, 23, 15, 28, 28, 25, 31, 34, 22, 17, 30, 29, 29, 20, 24, 28, 23, 17, 22, 24, 26, 15, 14, 23, 15, 24, 24, 25, 14, 21, 23, 16, 21, 16, 28, 11, 15, 14, 17, 22, 21, 20, 12, 18, 16, 14, 18, 16, 28, 13, 15, 7, 18, 13, 18, 16, 15, 6, 15, 18, 17, 13, 16, 21, 12, 8, 10, 11, 8, 14, 14, 9, 11, 9, 22, 19, 14, 9, 9, 10, 11, 8, 14, 10, 8, 7, 12, 10, 11, 13, 11, 17, 6, 8, 8, 20, 8, 10, 7, 7, 4, 9, 13, 13, 5, 12, 6, 12, 5, 7, 14, 9, 8, 8, 7, 5, 7, 11, 7, 7, 6, 5, 7, 6, 14, 10, 5, 8, 9, 10, 5, 6, 4, 8, 5, 6, 5, 9, 7, 11, 4, 4, 3, 6, 5, 6, 4, 1, 6, 3, 12, 3, 4, 2, 5, 6, 4, 6, 4, 7, 2, 2, 2, 6, 3, 1, 6, 3, 5, 3, 5, 3, 7, 3, 1, 2, 5, 5, 6, 4, 4, 5, 3, 2, 2, 2, 3, 3, 3, 4, 3, 2, 3, 1, 3, 2, 1, 3, 3, 2, 3, 1, 1, 4, 3, 2, 3, 2, 2, 2, 1], \"yaxis\": \"y\"}, {\"showlegend\": false, \"type\": \"scatter\", \"x\": [0, 1, 2, 3, 4, 5, 6, 7, 8, 9, 10, 11, 12, 13, 14, 15, 16, 17, 18, 19, 20, 21, 22, 23, 24, 25, 26, 27, 28, 29, 30, 31, 32, 33, 34, 35, 36, 37, 38, 39, 40, 41, 42, 43, 44, 45, 46, 47, 48, 49, 50, 51, 52, 53, 54, 55, 56, 57, 58, 59, 60, 61, 62, 63, 64, 65, 66, 67, 68, 69, 70, 71, 72, 73, 74, 75, 76, 77, 78, 79, 80, 81, 82, 83, 84, 85, 86, 87, 88, 89, 90, 91, 92, 93, 94, 95, 96, 97, 98, 99, 100, 101, 102, 103, 104, 105, 106, 107, 108, 109, 110, 111, 112, 113, 114, 115, 116, 117, 118, 119, 120, 121, 122, 123, 124, 125, 126, 127, 128, 129, 130, 131, 132, 133, 134, 135, 136, 137, 138, 139, 140, 141, 142, 143, 144, 145, 146, 147, 148, 149, 151, 152, 153, 154, 155, 156, 157, 158, 159, 160, 161, 162, 163, 164, 165, 166, 167, 168, 169, 170, 171, 172, 173, 174, 175, 176, 177, 178, 179, 180, 181, 182, 183, 184, 185, 186, 187, 188, 189, 190, 191, 192, 193, 194, 195, 196, 197, 198, 199, 200, 201, 202, 203, 204, 205, 208, 209, 210, 211, 212, 213, 214, 215, 216, 217, 218, 219, 220, 221, 223, 224, 225, 227, 228, 230, 232, 233, 234, 235, 236, 237, 238, 239, 240, 241, 242, 243, 244, 245, 246, 247, 248, 250, 251, 252, 254, 255, 256, 257, 258, 259, 261, 262, 263, 264, 266, 268, 270, 271, 272, 273, 274, 276, 277, 278, 280, 281, 282, 284, 286, 287, 288, 291, 292, 294, 295, 298, 299, 303, 304, 306, 307, 312, 316, 317, 318, 319, 320, 321, 326, 328, 330, 331, 335, 339, 340, 341, 345, 346, 347, 351, 355, 356, 357, 359, 361, 362], \"xaxis\": \"x2\", \"y\": [4065, 628, 335, 267, 220, 203, 184, 202, 155, 126, 118, 114, 112, 128, 113, 101, 82, 65, 64, 63, 80, 79, 75, 66, 58, 51, 39, 62, 88, 60, 47, 33, 35, 41, 42, 48, 37, 30, 32, 28, 31, 25, 42, 31, 27, 26, 27, 28, 29, 34, 29, 29, 19, 14, 19, 34, 32, 17, 18, 14, 18, 21, 20, 22, 13, 15, 13, 10, 14, 21, 17, 20, 15, 16, 11, 12, 23, 15, 12, 13, 8, 12, 7, 13, 17, 9, 14, 11, 10, 12, 10, 12, 9, 11, 5, 5, 10, 11, 7, 6, 4, 6, 4, 6, 6, 6, 8, 7, 5, 6, 3, 7, 3, 7, 3, 5, 6, 2, 4, 3, 6, 3, 5, 9, 5, 6, 5, 7, 6, 9, 4, 1, 6, 4, 5, 2, 3, 2, 3, 2, 5, 3, 1, 2, 8, 7, 5, 6, 3, 4, 2, 6, 9, 1, 3, 4, 5, 2, 2, 5, 3, 2, 4, 2, 3, 1, 2, 2, 5, 2, 3, 5, 2, 4, 4, 2, 1, 3, 2, 4, 2, 2, 9, 4, 2, 1, 2, 3, 3, 2, 2, 2, 4, 4, 2, 1, 3, 2, 2, 1, 1, 2, 2, 1, 3, 1, 1, 2, 4, 2, 1, 2, 1, 3, 1, 1, 2, 1, 2, 3, 2, 1, 1, 1, 1, 4, 2, 1, 3, 2, 1, 4, 2, 5, 1, 2, 4, 5, 1, 2, 1, 1, 2, 3, 2, 1, 1, 1, 3, 1, 4, 2, 2, 2, 2, 3, 1, 1, 2, 1, 2, 1, 1, 1, 2, 2, 1, 5, 1, 1, 1, 4, 1, 2, 2, 1, 1, 2, 3, 2, 1, 1, 3, 2, 1, 1, 2, 1, 1, 1, 1, 1, 1, 1, 3, 3, 2, 1, 1, 1, 1, 1, 1, 1, 1, 1, 1], \"yaxis\": \"y2\"}, {\"showlegend\": false, \"type\": \"scatter\", \"x\": [0, 1, 2, 3, 4, 5, 6, 7, 8, 9, 10, 11, 12, 13, 14, 15, 16, 17, 18, 19, 20, 21, 22, 23, 24, 25, 26, 27, 28, 29, 30, 31, 32, 33, 34, 35, 36, 37, 38, 39, 40, 41, 42, 43, 44, 45, 46, 47, 48, 49, 50, 51, 52, 53, 54, 55, 56, 57, 58, 59, 60, 61, 62, 63, 64, 65, 66, 67, 68, 69, 70, 71, 72, 73, 74, 75, 76, 77, 78, 79, 80, 81, 82, 83, 84, 85, 86, 87, 88, 89, 90, 91, 92, 93, 94, 95, 96, 97, 98, 99, 100, 101, 102, 103, 104, 105, 106, 107, 108, 109, 110, 111, 112, 113, 114, 115, 116, 117, 118, 119, 120, 121, 122, 123, 124, 125, 126, 127, 128, 129, 130, 131, 132, 133, 134, 135, 136, 137, 138, 139, 140, 141, 142, 143, 144, 145, 146, 147, 148, 149, 150, 151, 152, 153, 154, 155, 156, 157, 158, 159, 160, 161, 162, 163, 164, 165, 166, 167, 168, 169, 170, 171, 172, 173, 174, 175, 176, 177, 178, 179, 180, 181, 182, 183, 184, 185, 186, 187, 188, 189, 190, 191, 192, 193, 194, 195, 196, 197, 198, 199, 200, 201, 202, 203, 204, 205, 206, 207, 208, 209, 210, 211, 212, 213, 214, 215, 216, 217, 218, 219, 220, 221, 222, 223, 224, 225, 226, 227, 228, 229, 230, 231, 232, 233, 234, 235, 236, 237, 238, 239, 240, 241, 242, 243, 244, 245, 246, 247, 248, 249, 250, 251, 252, 253, 254, 255, 256, 257, 258, 259, 260, 261, 262, 263, 264, 265, 266, 267, 268, 269, 270, 271, 272, 273, 274, 275, 276, 277, 278, 279, 280, 281, 282, 283, 284, 285, 286, 287, 288, 289, 290, 291, 292, 293, 294, 295, 296, 297, 298, 299, 300, 301, 302, 303, 304, 305, 306, 307, 308, 309, 310, 311, 312, 313, 314, 315, 316, 317, 318, 319, 320, 321, 322, 323, 324, 325, 326, 328, 329, 330, 331, 332, 333, 334, 335, 336, 337, 338, 339, 340, 341, 342, 344, 345, 346, 347, 348, 349, 351, 352, 353, 354, 355, 356, 357, 359, 361, 362, 363, 364], \"xaxis\": \"x3\", \"y\": [0.10997892794112472, 0.8797351169089705, 1.2791245214591385, 1.515292865532986, 1.5449194469242278, 1.6479085620041525, 1.5742517859091378, 1.596417844629405, 1.6700661422843615, 1.6979711596787268, 1.7909843054836412, 1.8753733418391711, 1.848358275341765, 2.0008490929141116, 1.6001499893275086, 1.711856465811614, 1.6984752439883042, 1.4957568353022193, 1.5682721840864515, 1.478438000755722, 1.8008089182327676, 1.4734336981525473, 1.5978393203543246, 1.8683355343723655, 1.7392427005229518, 1.6494049935055288, 1.1928167737525546, 1.6800569163741748, 1.9644151191213184, 1.7317957945654994, 1.7674415527994733, 1.5099866388214787, 1.7088732339177457, 1.9213261394809926, 1.8762064253945476, 1.7691233668685922, 1.8857706616496837, 1.758368669648578, 2.1849452683655843, 1.8295385382128233, 1.9020984860378722, 1.6098002280491692, 2.334459370099149, 1.9801217661322255, 2.1014605308232523, 2.3467933222101314, 2.1678102786788513, 2.2816575497132794, 2.454129553459022, 2.263112893629044, 2.7053449396122877, 2.3823643511556565, 2.0274878202464386, 1.6187792356261574, 1.8738958582617122, 3.268454335880403, 2.7903984535581627, 1.9684378622429584, 2.0469617519621766, 1.7441386674340602, 2.2598250671463997, 2.4269871945453314, 2.2834280459491176, 2.2194086104567003, 1.4494360438260636, 1.8905132988271751, 1.7850502972834772, 1.543292813560289, 2.5664836364804793, 2.6894444931321315, 2.113782172156587, 3.402732285538518, 2.883274818983546, 2.8080972809575924, 1.9429679578419976, 1.9789905361518352, 3.307276320540246, 2.5641383239456084, 2.4033184483878776, 2.571928407711593, 1.9017093445571984, 2.7284469454131037, 1.642544633322128, 2.7151310146549155, 2.765879013682665, 2.0435594407779303, 2.8750525175340984, 2.790642102463046, 2.3485028360962192, 2.77063913310652, 2.116987136135624, 2.7546547640285075, 2.2454272185210593, 3.258259936198555, 1.6461064728670125, 1.370385287106002, 3.094549871668867, 2.723818989134972, 1.8932712712351318, 2.3972302900126876, 1.4693245366708698, 1.7127820865551941, 1.5065027385019125, 2.206960302264878, 1.6190653884207042, 1.7659513130365818, 2.4019154023631355, 2.4218442811511762, 1.6718343686481245, 1.8777090096805544, 1.1988011681744888, 2.7512749724085093, 0.7228281538973443, 2.2231597252284474, 1.2626245514290022, 1.6473361887596238, 2.23176634322896, 0.8211893803754525, 1.3133529441355876, 1.574606015583252, 2.629762971390251, 1.1609130832905301, 2.08742843592595, 3.1824954403438683, 1.7537898322194818, 2.8079068784620143, 2.3890256754338224, 2.7870361446825727, 3.179304743212494, 4.716497021633673, 1.7795395217226222, 0.8065093723613388, 2.601746597094795, 1.6966436618189895, 2.5016603458706377, 1.7870745079363453, 1.3458250914970704, 1.460737955286035, 1.6889165448821533, 0.8618599905569281, 2.4994227644200064, 1.9659794326340556, 0.5162630022492815, 1.623626187039684, 3.8268625378619068, 4.726905092551713, 2.6477663030868572, 3.641083828300994, 2.663764038568338, 2.410815556467187, 0.0, 2.5508948803854965, 3.9291384781478493, 5.867190106385526, 0.7008105354336319, 1.768904743838638, 2.0718122040943405, 4.1474449023357645, 2.213233718602447, 1.2543956430583927, 3.2531566774739087, 1.746994578296858, 1.7593936813293545, 2.996512944759069, 1.28245131658894, 2.622719588605318, 1.1223049837497052, 1.7504472373425954, 1.5695114739456157, 3.6121604661819586, 2.3538583326517584, 3.9268443666330604, 4.201263361893978, 2.090005780484295, 3.0177076872220527, 3.071080783776564, 1.446362528493183, 1.2998151569518976, 2.4562208985802223, 1.6465372873821682, 4.647483825870744, 1.781636486781031, 2.4616873309764156, 6.0301845527487306, 6.387382036840709, 2.235834432386691, 1.5471897424285352, 2.0829741373008375, 2.375852541094165, 2.5941150949758076, 1.7303991065793451, 2.7794739169779703, 1.9803251554731733, 4.429808462966956, 5.428398059112562, 2.107196138366085, 1.2376760295271134, 1.8509341446083332, 2.928066942492596, 2.48173630337015, 2.8824758625418676, 0.9248964195836814, 2.7998384269041474, 1.8719163040379496, 1.0646491514270295, 3.9629822113862985, 0.0, 0.0, 0.9911490932880782, 1.1961650193605164, 2.8654601025796507, 4.889772751357361, 1.7293512503673942, 1.3901893755920103, 4.7459666570035655, 1.6488969383309975, 4.942508637086553, 2.643493145579045, 1.296085051816979, 2.556379496697357, 1.9613754345947418, 2.9463315681435502, 0.0, 2.4072391866469314, 1.8361607681534988, 1.1277287049128055, 0.0, 2.335334214383682, 1.8292733740986669, 0.0, 2.1976110007762255, 0.0, 7.494036973772606, 4.370757621819324, 2.805774089544251, 4.836711665696135, 4.139766761353441, 1.5727669259830164, 5.704270930000719, 3.2947995564551165, 5.356108391737624, 2.977476295281565, 4.52630528819572, 9.592076264685133, 4.832897936817629, 2.612692192287725, 4.067514436221865, 2.5486690970264867, 2.6079386050977145, 0.0, 3.933487366520271, 4.561638556367997, 2.97199271293647, 0.0, 1.4681246233758245, 3.407379864030607, 1.7504256994428011, 11.008434476212193, 3.0946505839148815, 5.248109845831853, 0.0, 4.8690331699429334, 4.318869498625025, 5.783337175294804, 6.883040868984668, 0.0, 5.451815874236153, 0.0, 2.980564156397159, 0.0, 4.440064282170938, 5.644240718743861, 2.764579024558204, 2.3799188839133025, 1.7548646127250471, 0.0, 2.248910187613989, 1.9130416019423018, 4.047878888043911, 0.0, 6.391577797298351, 4.431983375851438, 12.358918246966903, 0.0, 2.8747011064975907, 0.0, 1.9898912729020404, 3.241347670278113, 6.9569454732431835, 0.0, 0.0, 7.566942303939327, 6.624164007180982, 0.0, 6.154585200485658, 4.847893323701388, 0.0, 0.0, 6.103547549968877, 3.115751175942567, 0.0, 0.0, 0.0, 10.489807238443973, 5.99480907782156, 0.0, 2.774689258751044, 4.258596605708118, 0.0, 0.0, 0.0, 0.0, 9.276069577193452, 0.0, 0.0, 0.0, 13.015029719760207, 3.748015898044314, 5.690817540714966, 7.446217447188962, 5.81114364999205, 2.332274654199343, 0.0, 0.0, 0.0, 0.0, 3.6228582915239995, 2.7374741432851404, 0.0, 4.898089401643987, 3.962581495242115, 0.0, 0.0, 0.0, 9.681241634447243, 0.0, 0.0, 0.0, 13.984595162480291, 17.39170519885298, 18.01341045819823, 0.0, 0.0, 5.669757907678208, 9.278522813599063, 17.78900490428812, 0.0, 0.0, 8.385210444540672, 0.0, 0.0, 0.0, 4.380864274830818, 6.500353724806779, 9.317452320581799, 6.162499308781115, 9.572299794013775, 12.53427164586196, 0.0, 0.0], \"yaxis\": \"y3\"}],\n",
              "                        {\"height\": 900, \"template\": {\"data\": {\"bar\": [{\"error_x\": {\"color\": \"#2a3f5f\"}, \"error_y\": {\"color\": \"#2a3f5f\"}, \"marker\": {\"line\": {\"color\": \"#E5ECF6\", \"width\": 0.5}}, \"type\": \"bar\"}], \"barpolar\": [{\"marker\": {\"line\": {\"color\": \"#E5ECF6\", \"width\": 0.5}}, \"type\": \"barpolar\"}], \"carpet\": [{\"aaxis\": {\"endlinecolor\": \"#2a3f5f\", \"gridcolor\": \"white\", \"linecolor\": \"white\", \"minorgridcolor\": \"white\", \"startlinecolor\": \"#2a3f5f\"}, \"baxis\": {\"endlinecolor\": \"#2a3f5f\", \"gridcolor\": \"white\", \"linecolor\": \"white\", \"minorgridcolor\": \"white\", \"startlinecolor\": \"#2a3f5f\"}, \"type\": \"carpet\"}], \"choropleth\": [{\"colorbar\": {\"outlinewidth\": 0, \"ticks\": \"\"}, \"type\": \"choropleth\"}], \"contour\": [{\"colorbar\": {\"outlinewidth\": 0, \"ticks\": \"\"}, \"colorscale\": [[0.0, \"#0d0887\"], [0.1111111111111111, \"#46039f\"], [0.2222222222222222, \"#7201a8\"], [0.3333333333333333, \"#9c179e\"], [0.4444444444444444, \"#bd3786\"], [0.5555555555555556, \"#d8576b\"], [0.6666666666666666, \"#ed7953\"], [0.7777777777777778, \"#fb9f3a\"], [0.8888888888888888, \"#fdca26\"], [1.0, \"#f0f921\"]], \"type\": \"contour\"}], \"contourcarpet\": [{\"colorbar\": {\"outlinewidth\": 0, \"ticks\": \"\"}, \"type\": \"contourcarpet\"}], \"heatmap\": [{\"colorbar\": {\"outlinewidth\": 0, \"ticks\": \"\"}, \"colorscale\": [[0.0, \"#0d0887\"], [0.1111111111111111, \"#46039f\"], [0.2222222222222222, \"#7201a8\"], [0.3333333333333333, \"#9c179e\"], [0.4444444444444444, \"#bd3786\"], [0.5555555555555556, \"#d8576b\"], [0.6666666666666666, \"#ed7953\"], [0.7777777777777778, \"#fb9f3a\"], [0.8888888888888888, \"#fdca26\"], [1.0, \"#f0f921\"]], \"type\": \"heatmap\"}], \"heatmapgl\": [{\"colorbar\": {\"outlinewidth\": 0, \"ticks\": \"\"}, \"colorscale\": [[0.0, \"#0d0887\"], [0.1111111111111111, \"#46039f\"], [0.2222222222222222, \"#7201a8\"], [0.3333333333333333, \"#9c179e\"], [0.4444444444444444, \"#bd3786\"], [0.5555555555555556, \"#d8576b\"], [0.6666666666666666, \"#ed7953\"], [0.7777777777777778, \"#fb9f3a\"], [0.8888888888888888, \"#fdca26\"], [1.0, \"#f0f921\"]], \"type\": \"heatmapgl\"}], \"histogram\": [{\"marker\": {\"colorbar\": {\"outlinewidth\": 0, \"ticks\": \"\"}}, \"type\": \"histogram\"}], \"histogram2d\": [{\"colorbar\": {\"outlinewidth\": 0, \"ticks\": \"\"}, \"colorscale\": [[0.0, \"#0d0887\"], [0.1111111111111111, \"#46039f\"], [0.2222222222222222, \"#7201a8\"], [0.3333333333333333, \"#9c179e\"], [0.4444444444444444, \"#bd3786\"], [0.5555555555555556, \"#d8576b\"], [0.6666666666666666, \"#ed7953\"], [0.7777777777777778, \"#fb9f3a\"], [0.8888888888888888, \"#fdca26\"], [1.0, \"#f0f921\"]], \"type\": \"histogram2d\"}], \"histogram2dcontour\": [{\"colorbar\": {\"outlinewidth\": 0, \"ticks\": \"\"}, \"colorscale\": [[0.0, \"#0d0887\"], [0.1111111111111111, \"#46039f\"], [0.2222222222222222, \"#7201a8\"], [0.3333333333333333, \"#9c179e\"], [0.4444444444444444, \"#bd3786\"], [0.5555555555555556, \"#d8576b\"], [0.6666666666666666, \"#ed7953\"], [0.7777777777777778, \"#fb9f3a\"], [0.8888888888888888, \"#fdca26\"], [1.0, \"#f0f921\"]], \"type\": \"histogram2dcontour\"}], \"mesh3d\": [{\"colorbar\": {\"outlinewidth\": 0, \"ticks\": \"\"}, \"type\": \"mesh3d\"}], \"parcoords\": [{\"line\": {\"colorbar\": {\"outlinewidth\": 0, \"ticks\": \"\"}}, \"type\": \"parcoords\"}], \"pie\": [{\"automargin\": true, \"type\": \"pie\"}], \"scatter\": [{\"marker\": {\"colorbar\": {\"outlinewidth\": 0, \"ticks\": \"\"}}, \"type\": \"scatter\"}], \"scatter3d\": [{\"line\": {\"colorbar\": {\"outlinewidth\": 0, \"ticks\": \"\"}}, \"marker\": {\"colorbar\": {\"outlinewidth\": 0, \"ticks\": \"\"}}, \"type\": \"scatter3d\"}], \"scattercarpet\": [{\"marker\": {\"colorbar\": {\"outlinewidth\": 0, \"ticks\": \"\"}}, \"type\": \"scattercarpet\"}], \"scattergeo\": [{\"marker\": {\"colorbar\": {\"outlinewidth\": 0, \"ticks\": \"\"}}, \"type\": \"scattergeo\"}], \"scattergl\": [{\"marker\": {\"colorbar\": {\"outlinewidth\": 0, \"ticks\": \"\"}}, \"type\": \"scattergl\"}], \"scattermapbox\": [{\"marker\": {\"colorbar\": {\"outlinewidth\": 0, \"ticks\": \"\"}}, \"type\": \"scattermapbox\"}], \"scatterpolar\": [{\"marker\": {\"colorbar\": {\"outlinewidth\": 0, \"ticks\": \"\"}}, \"type\": \"scatterpolar\"}], \"scatterpolargl\": [{\"marker\": {\"colorbar\": {\"outlinewidth\": 0, \"ticks\": \"\"}}, \"type\": \"scatterpolargl\"}], \"scatterternary\": [{\"marker\": {\"colorbar\": {\"outlinewidth\": 0, \"ticks\": \"\"}}, \"type\": \"scatterternary\"}], \"surface\": [{\"colorbar\": {\"outlinewidth\": 0, \"ticks\": \"\"}, \"colorscale\": [[0.0, \"#0d0887\"], [0.1111111111111111, \"#46039f\"], [0.2222222222222222, \"#7201a8\"], [0.3333333333333333, \"#9c179e\"], [0.4444444444444444, \"#bd3786\"], [0.5555555555555556, \"#d8576b\"], [0.6666666666666666, \"#ed7953\"], [0.7777777777777778, \"#fb9f3a\"], [0.8888888888888888, \"#fdca26\"], [1.0, \"#f0f921\"]], \"type\": \"surface\"}], \"table\": [{\"cells\": {\"fill\": {\"color\": \"#EBF0F8\"}, \"line\": {\"color\": \"white\"}}, \"header\": {\"fill\": {\"color\": \"#C8D4E3\"}, \"line\": {\"color\": \"white\"}}, \"type\": \"table\"}]}, \"layout\": {\"annotationdefaults\": {\"arrowcolor\": \"#2a3f5f\", \"arrowhead\": 0, \"arrowwidth\": 1}, \"coloraxis\": {\"colorbar\": {\"outlinewidth\": 0, \"ticks\": \"\"}}, \"colorscale\": {\"diverging\": [[0, \"#8e0152\"], [0.1, \"#c51b7d\"], [0.2, \"#de77ae\"], [0.3, \"#f1b6da\"], [0.4, \"#fde0ef\"], [0.5, \"#f7f7f7\"], [0.6, \"#e6f5d0\"], [0.7, \"#b8e186\"], [0.8, \"#7fbc41\"], [0.9, \"#4d9221\"], [1, \"#276419\"]], \"sequential\": [[0.0, \"#0d0887\"], [0.1111111111111111, \"#46039f\"], [0.2222222222222222, \"#7201a8\"], [0.3333333333333333, \"#9c179e\"], [0.4444444444444444, \"#bd3786\"], [0.5555555555555556, \"#d8576b\"], [0.6666666666666666, \"#ed7953\"], [0.7777777777777778, \"#fb9f3a\"], [0.8888888888888888, \"#fdca26\"], [1.0, \"#f0f921\"]], \"sequentialminus\": [[0.0, \"#0d0887\"], [0.1111111111111111, \"#46039f\"], [0.2222222222222222, \"#7201a8\"], [0.3333333333333333, \"#9c179e\"], [0.4444444444444444, \"#bd3786\"], [0.5555555555555556, \"#d8576b\"], [0.6666666666666666, \"#ed7953\"], [0.7777777777777778, \"#fb9f3a\"], [0.8888888888888888, \"#fdca26\"], [1.0, \"#f0f921\"]]}, \"colorway\": [\"#636efa\", \"#EF553B\", \"#00cc96\", \"#ab63fa\", \"#FFA15A\", \"#19d3f3\", \"#FF6692\", \"#B6E880\", \"#FF97FF\", \"#FECB52\"], \"font\": {\"color\": \"#2a3f5f\"}, \"geo\": {\"bgcolor\": \"white\", \"lakecolor\": \"white\", \"landcolor\": \"#E5ECF6\", \"showlakes\": true, \"showland\": true, \"subunitcolor\": \"white\"}, \"hoverlabel\": {\"align\": \"left\"}, \"hovermode\": \"closest\", \"mapbox\": {\"style\": \"light\"}, \"paper_bgcolor\": \"white\", \"plot_bgcolor\": \"#E5ECF6\", \"polar\": {\"angularaxis\": {\"gridcolor\": \"white\", \"linecolor\": \"white\", \"ticks\": \"\"}, \"bgcolor\": \"#E5ECF6\", \"radialaxis\": {\"gridcolor\": \"white\", \"linecolor\": \"white\", \"ticks\": \"\"}}, \"scene\": {\"xaxis\": {\"backgroundcolor\": \"#E5ECF6\", \"gridcolor\": \"white\", \"gridwidth\": 2, \"linecolor\": \"white\", \"showbackground\": true, \"ticks\": \"\", \"zerolinecolor\": \"white\"}, \"yaxis\": {\"backgroundcolor\": \"#E5ECF6\", \"gridcolor\": \"white\", \"gridwidth\": 2, \"linecolor\": \"white\", \"showbackground\": true, \"ticks\": \"\", \"zerolinecolor\": \"white\"}, \"zaxis\": {\"backgroundcolor\": \"#E5ECF6\", \"gridcolor\": \"white\", \"gridwidth\": 2, \"linecolor\": \"white\", \"showbackground\": true, \"ticks\": \"\", \"zerolinecolor\": \"white\"}}, \"shapedefaults\": {\"line\": {\"color\": \"#2a3f5f\"}}, \"ternary\": {\"aaxis\": {\"gridcolor\": \"white\", \"linecolor\": \"white\", \"ticks\": \"\"}, \"baxis\": {\"gridcolor\": \"white\", \"linecolor\": \"white\", \"ticks\": \"\"}, \"bgcolor\": \"#E5ECF6\", \"caxis\": {\"gridcolor\": \"white\", \"linecolor\": \"white\", \"ticks\": \"\"}}, \"title\": {\"x\": 0.05}, \"xaxis\": {\"automargin\": true, \"gridcolor\": \"white\", \"linecolor\": \"white\", \"ticks\": \"\", \"title\": {\"standoff\": 15}, \"zerolinecolor\": \"white\", \"zerolinewidth\": 2}, \"yaxis\": {\"automargin\": true, \"gridcolor\": \"white\", \"linecolor\": \"white\", \"ticks\": \"\", \"title\": {\"standoff\": 15}, \"zerolinecolor\": \"white\", \"zerolinewidth\": 2}}}, \"title\": {\"text\": \"Datediff Plots\", \"x\": 0.5}, \"width\": 800, \"xaxis\": {\"anchor\": \"y\", \"domain\": [0.0, 1.0]}, \"xaxis2\": {\"anchor\": \"y2\", \"domain\": [0.0, 1.0]}, \"xaxis3\": {\"anchor\": \"y3\", \"domain\": [0.0, 1.0], \"title\": {\"text\": \"Datediff\"}}, \"yaxis\": {\"anchor\": \"x\", \"domain\": [0.7066666666666667, 1.0], \"title\": {\"text\": \"Total Visitors\"}}, \"yaxis2\": {\"anchor\": \"x2\", \"domain\": [0.35333333333333333, 0.6466666666666667], \"title\": {\"text\": \"Non-zero Revenue Visitors\"}}, \"yaxis3\": {\"anchor\": \"x3\", \"domain\": [0.0, 0.29333333333333333], \"title\": {\"text\": \"Mean Revenue\"}}},\n",
              "                        {\"responsive\": true}\n",
              "                    ).then(function(){\n",
              "                            \n",
              "var gd = document.getElementById('400439a9-7e02-4d2d-b174-bf138d22baa6');\n",
              "var x = new MutationObserver(function (mutations, observer) {{\n",
              "        var display = window.getComputedStyle(gd).display;\n",
              "        if (!display || display === 'none') {{\n",
              "            console.log([gd, 'removed!']);\n",
              "            Plotly.purge(gd);\n",
              "            observer.disconnect();\n",
              "        }}\n",
              "}});\n",
              "\n",
              "// Listen for the removal of the full notebook cells\n",
              "var notebookContainer = gd.closest('#notebook-container');\n",
              "if (notebookContainer) {{\n",
              "    x.observe(notebookContainer, {childList: true});\n",
              "}}\n",
              "\n",
              "// Listen for the clearing of the current output cell\n",
              "var outputEl = gd.closest('.output');\n",
              "if (outputEl) {{\n",
              "    x.observe(outputEl, {childList: true});\n",
              "}}\n",
              "\n",
              "                        })\n",
              "                };\n",
              "                \n",
              "            </script>\n",
              "        </div>\n",
              "</body>\n",
              "</html>"
            ]
          },
          "metadata": {
            "tags": []
          }
        }
      ]
    },
    {
      "cell_type": "markdown",
      "metadata": {
        "id": "0vsB-JG4LvT4"
      },
      "source": [
        "Findings:\n",
        "\n",
        "\n",
        "1.   Datediff was predictive of mean revenue: mean revenue tended to increase when datediff increased.\n",
        "2.   Nearly all visitors had 0 datediff - probably having only one visit, and total visitors decreased when datediff increased.\n",
        "3.   Most visitors with non-zero revenue also had 0 datediff, but they also \n",
        "generated lower mean revenue than visitors with higher datediff.<br><br>\n"
      ]
    },
    {
      "cell_type": "code",
      "metadata": {
        "colab": {
          "base_uri": "https://localhost:8080/",
          "height": 917
        },
        "id": "LWbnQbmsIooY",
        "outputId": "84ca690d-5835-4a4b-f540-61a7775666a5"
      },
      "source": [
        "grp_df = gdf.groupby('total_visits')['totals.transactionRevenue'].agg(['count', 'mean']).reset_index()\n",
        "g = gdf[gdf['totals.transactionRevenue']>0].groupby('total_visits')['totals.transactionRevenue'].count().rename('count').reset_index()\n",
        "\n",
        "fig = make_subplots(rows=3, cols=1, vertical_spacing=0.06)\n",
        "fig.append_trace(go.Scatter(y=grp_df['count'], x=grp_df['total_visits'], showlegend=False, mode='lines+markers'), 1, 1)\n",
        "fig.append_trace(go.Scatter(y=g['count'], x=g['total_visits'], showlegend=False, mode='lines+markers'), 2, 1)\n",
        "fig.append_trace(go.Scatter(y=grp_df['mean'], x=grp_df['total_visits'], showlegend=False, mode='markers'), 3, 1)\n",
        "\n",
        "# Update xaxis properties\n",
        "fig.update_xaxes(title_text=\"Total_visit\", row=3, col=1)\n",
        "\n",
        "# Update yaxis properties\n",
        "fig.update_yaxes(title_text=\"Total Visitors\", row=1, col=1)\n",
        "fig.update_yaxes(title_text=\"Non-zero Revenue Visitors\", row=2, col=1)\n",
        "fig.update_yaxes(title_text=\"Mean Revenue\", row=3, col=1)\n",
        "\n",
        "fig.update_layout(height=900, width=800, title=dict(text='Total_visit Plots', x=0.5))\n",
        "fig.show()"
      ],
      "execution_count": null,
      "outputs": [
        {
          "output_type": "display_data",
          "data": {
            "text/html": [
              "<html>\n",
              "<head><meta charset=\"utf-8\" /></head>\n",
              "<body>\n",
              "    <div>\n",
              "            <script src=\"https://cdnjs.cloudflare.com/ajax/libs/mathjax/2.7.5/MathJax.js?config=TeX-AMS-MML_SVG\"></script><script type=\"text/javascript\">if (window.MathJax) {MathJax.Hub.Config({SVG: {font: \"STIX-Web\"}});}</script>\n",
              "                <script type=\"text/javascript\">window.PlotlyConfig = {MathJaxConfig: 'local'};</script>\n",
              "        <script src=\"https://cdn.plot.ly/plotly-latest.min.js\"></script>    \n",
              "            <div id=\"19311a02-9e81-4691-ad8a-f6deb1b37460\" class=\"plotly-graph-div\" style=\"height:900px; width:800px;\"></div>\n",
              "            <script type=\"text/javascript\">\n",
              "                \n",
              "                    window.PLOTLYENV=window.PLOTLYENV || {};\n",
              "                    \n",
              "                if (document.getElementById(\"19311a02-9e81-4691-ad8a-f6deb1b37460\")) {\n",
              "                    Plotly.newPlot(\n",
              "                        '19311a02-9e81-4691-ad8a-f6deb1b37460',\n",
              "                        [{\"mode\": \"lines+markers\", \"showlegend\": false, \"type\": \"scatter\", \"x\": [1, 2, 3, 4, 5, 6, 7, 8, 9, 10, 11, 12, 13, 14, 15, 16, 17, 18, 19, 20, 21, 22, 23, 24, 25, 26, 27, 28, 29, 30, 31, 32, 33, 34, 35, 36, 37, 38, 39, 40, 41, 42, 43, 44, 45, 46, 47, 48, 50, 51, 53, 55, 57, 58, 59, 60, 61, 62, 63, 65, 67, 68, 69, 70, 71, 72, 74, 75, 76, 81, 83, 86, 89, 90, 94, 99, 104, 107, 110, 111, 112, 115, 117, 128, 129, 135, 138, 148, 153, 155, 199, 201, 255, 278], \"xaxis\": \"x\", \"y\": [620675, 58711, 17159, 7400, 3633, 2065, 1231, 838, 538, 384, 270, 229, 169, 131, 99, 77, 67, 59, 45, 37, 39, 39, 19, 23, 20, 14, 12, 13, 15, 11, 6, 6, 9, 8, 6, 7, 4, 4, 8, 3, 2, 5, 2, 6, 4, 2, 1, 2, 3, 3, 2, 1, 4, 1, 1, 1, 1, 1, 2, 4, 1, 1, 1, 2, 2, 1, 1, 1, 1, 1, 1, 1, 1, 1, 1, 1, 1, 1, 1, 1, 1, 1, 1, 1, 1, 1, 1, 1, 1, 1, 1, 1, 1, 1], \"yaxis\": \"y\"}, {\"mode\": \"lines+markers\", \"showlegend\": false, \"type\": \"scatter\", \"x\": [1, 2, 3, 4, 5, 6, 7, 8, 9, 10, 11, 12, 13, 14, 15, 16, 17, 18, 19, 20, 21, 22, 23, 24, 25, 26, 27, 28, 29, 30, 31, 32, 33, 34, 35, 37, 38, 39, 40, 41, 44, 45, 57, 65, 81, 83, 86, 107, 129, 135, 148, 155, 201, 278], \"xaxis\": \"x2\", \"y\": [3120, 2258, 1468, 938, 611, 414, 278, 218, 142, 99, 83, 68, 54, 29, 24, 19, 18, 21, 23, 9, 10, 14, 4, 8, 8, 5, 2, 8, 6, 3, 2, 4, 2, 3, 1, 1, 2, 1, 2, 1, 1, 1, 1, 2, 1, 1, 1, 1, 1, 1, 1, 1, 1, 1], \"yaxis\": \"y2\"}, {\"mode\": \"markers\", \"showlegend\": false, \"type\": \"scatter\", \"x\": [1, 2, 3, 4, 5, 6, 7, 8, 9, 10, 11, 12, 13, 14, 15, 16, 17, 18, 19, 20, 21, 22, 23, 24, 25, 26, 27, 28, 29, 30, 31, 32, 33, 34, 35, 36, 37, 38, 39, 40, 41, 42, 43, 44, 45, 46, 47, 48, 50, 51, 53, 55, 57, 58, 59, 60, 61, 62, 63, 65, 67, 68, 69, 70, 71, 72, 74, 75, 76, 81, 83, 86, 89, 90, 94, 99, 104, 107, 110, 111, 112, 115, 117, 128, 129, 135, 138, 148, 153, 155, 199, 201, 255, 278], \"xaxis\": \"x3\", \"y\": [0.08786571972495719, 0.680929797282172, 1.5277382520498752, 2.2765480531014255, 3.0375565539277325, 3.6474416465531, 4.124849588915291, 4.81965317399095, 4.886489337382124, 4.706244564802486, 5.731704214439954, 5.547547491363752, 6.044941011571181, 4.186444753893194, 4.594131911365003, 4.750752875159406, 5.1607408441196725, 6.844632773209424, 9.481097954145117, 4.530543745799529, 4.591492169595643, 6.913668865171622, 3.8210003369392767, 6.745571651047745, 7.4300736426239835, 6.974653074076634, 3.4674103294368366, 12.761589868362195, 7.799091020372033, 4.838500433354937, 6.76593050568574, 13.180950579808751, 4.262574100152057, 8.08279524108681, 3.1261445387681097, 0.0, 4.4831079226649715, 9.419339562015537, 2.765913962985945, 14.306918637491739, 11.059131112804018, 0.0, 0.0, 2.702082736228602, 5.2195947278808115, 0.0, 0.0, 0.0, 0.0, 0.0, 0.0, 0.0, 4.304010270998574, 0.0, 0.0, 0.0, 0.0, 0.0, 0.0, 9.095520471174794, 0.0, 0.0, 0.0, 0.0, 0.0, 0.0, 0.0, 0.0, 0.0, 19.73521054152895, 21.66255408740417, 21.660656393999492, 0.0, 0.0, 0.0, 0.0, 0.0, 17.031582495612053, 0.0, 0.0, 0.0, 0.0, 0.0, 0.0, 16.53614794040474, 16.7047706426251, 0.0, 17.034386422832473, 0.0, 19.007911704479405, 0.0, 16.971659595513607, 0.0, 25.06854329172392], \"yaxis\": \"y3\"}],\n",
              "                        {\"height\": 900, \"template\": {\"data\": {\"bar\": [{\"error_x\": {\"color\": \"#2a3f5f\"}, \"error_y\": {\"color\": \"#2a3f5f\"}, \"marker\": {\"line\": {\"color\": \"#E5ECF6\", \"width\": 0.5}}, \"type\": \"bar\"}], \"barpolar\": [{\"marker\": {\"line\": {\"color\": \"#E5ECF6\", \"width\": 0.5}}, \"type\": \"barpolar\"}], \"carpet\": [{\"aaxis\": {\"endlinecolor\": \"#2a3f5f\", \"gridcolor\": \"white\", \"linecolor\": \"white\", \"minorgridcolor\": \"white\", \"startlinecolor\": \"#2a3f5f\"}, \"baxis\": {\"endlinecolor\": \"#2a3f5f\", \"gridcolor\": \"white\", \"linecolor\": \"white\", \"minorgridcolor\": \"white\", \"startlinecolor\": \"#2a3f5f\"}, \"type\": \"carpet\"}], \"choropleth\": [{\"colorbar\": {\"outlinewidth\": 0, \"ticks\": \"\"}, \"type\": \"choropleth\"}], \"contour\": [{\"colorbar\": {\"outlinewidth\": 0, \"ticks\": \"\"}, \"colorscale\": [[0.0, \"#0d0887\"], [0.1111111111111111, \"#46039f\"], [0.2222222222222222, \"#7201a8\"], [0.3333333333333333, \"#9c179e\"], [0.4444444444444444, \"#bd3786\"], [0.5555555555555556, \"#d8576b\"], [0.6666666666666666, \"#ed7953\"], [0.7777777777777778, \"#fb9f3a\"], [0.8888888888888888, \"#fdca26\"], [1.0, \"#f0f921\"]], \"type\": \"contour\"}], \"contourcarpet\": [{\"colorbar\": {\"outlinewidth\": 0, \"ticks\": \"\"}, \"type\": \"contourcarpet\"}], \"heatmap\": [{\"colorbar\": {\"outlinewidth\": 0, \"ticks\": \"\"}, \"colorscale\": [[0.0, \"#0d0887\"], [0.1111111111111111, \"#46039f\"], [0.2222222222222222, \"#7201a8\"], [0.3333333333333333, \"#9c179e\"], [0.4444444444444444, \"#bd3786\"], [0.5555555555555556, \"#d8576b\"], [0.6666666666666666, \"#ed7953\"], [0.7777777777777778, \"#fb9f3a\"], [0.8888888888888888, \"#fdca26\"], [1.0, \"#f0f921\"]], \"type\": \"heatmap\"}], \"heatmapgl\": [{\"colorbar\": {\"outlinewidth\": 0, \"ticks\": \"\"}, \"colorscale\": [[0.0, \"#0d0887\"], [0.1111111111111111, \"#46039f\"], [0.2222222222222222, \"#7201a8\"], [0.3333333333333333, \"#9c179e\"], [0.4444444444444444, \"#bd3786\"], [0.5555555555555556, \"#d8576b\"], [0.6666666666666666, \"#ed7953\"], [0.7777777777777778, \"#fb9f3a\"], [0.8888888888888888, \"#fdca26\"], [1.0, \"#f0f921\"]], \"type\": \"heatmapgl\"}], \"histogram\": [{\"marker\": {\"colorbar\": {\"outlinewidth\": 0, \"ticks\": \"\"}}, \"type\": \"histogram\"}], \"histogram2d\": [{\"colorbar\": {\"outlinewidth\": 0, \"ticks\": \"\"}, \"colorscale\": [[0.0, \"#0d0887\"], [0.1111111111111111, \"#46039f\"], [0.2222222222222222, \"#7201a8\"], [0.3333333333333333, \"#9c179e\"], [0.4444444444444444, \"#bd3786\"], [0.5555555555555556, \"#d8576b\"], [0.6666666666666666, \"#ed7953\"], [0.7777777777777778, \"#fb9f3a\"], [0.8888888888888888, \"#fdca26\"], [1.0, \"#f0f921\"]], \"type\": \"histogram2d\"}], \"histogram2dcontour\": [{\"colorbar\": {\"outlinewidth\": 0, \"ticks\": \"\"}, \"colorscale\": [[0.0, \"#0d0887\"], [0.1111111111111111, \"#46039f\"], [0.2222222222222222, \"#7201a8\"], [0.3333333333333333, \"#9c179e\"], [0.4444444444444444, \"#bd3786\"], [0.5555555555555556, \"#d8576b\"], [0.6666666666666666, \"#ed7953\"], [0.7777777777777778, \"#fb9f3a\"], [0.8888888888888888, \"#fdca26\"], [1.0, \"#f0f921\"]], \"type\": \"histogram2dcontour\"}], \"mesh3d\": [{\"colorbar\": {\"outlinewidth\": 0, \"ticks\": \"\"}, \"type\": \"mesh3d\"}], \"parcoords\": [{\"line\": {\"colorbar\": {\"outlinewidth\": 0, \"ticks\": \"\"}}, \"type\": \"parcoords\"}], \"pie\": [{\"automargin\": true, \"type\": \"pie\"}], \"scatter\": [{\"marker\": {\"colorbar\": {\"outlinewidth\": 0, \"ticks\": \"\"}}, \"type\": \"scatter\"}], \"scatter3d\": [{\"line\": {\"colorbar\": {\"outlinewidth\": 0, \"ticks\": \"\"}}, \"marker\": {\"colorbar\": {\"outlinewidth\": 0, \"ticks\": \"\"}}, \"type\": \"scatter3d\"}], \"scattercarpet\": [{\"marker\": {\"colorbar\": {\"outlinewidth\": 0, \"ticks\": \"\"}}, \"type\": \"scattercarpet\"}], \"scattergeo\": [{\"marker\": {\"colorbar\": {\"outlinewidth\": 0, \"ticks\": \"\"}}, \"type\": \"scattergeo\"}], \"scattergl\": [{\"marker\": {\"colorbar\": {\"outlinewidth\": 0, \"ticks\": \"\"}}, \"type\": \"scattergl\"}], \"scattermapbox\": [{\"marker\": {\"colorbar\": {\"outlinewidth\": 0, \"ticks\": \"\"}}, \"type\": \"scattermapbox\"}], \"scatterpolar\": [{\"marker\": {\"colorbar\": {\"outlinewidth\": 0, \"ticks\": \"\"}}, \"type\": \"scatterpolar\"}], \"scatterpolargl\": [{\"marker\": {\"colorbar\": {\"outlinewidth\": 0, \"ticks\": \"\"}}, \"type\": \"scatterpolargl\"}], \"scatterternary\": [{\"marker\": {\"colorbar\": {\"outlinewidth\": 0, \"ticks\": \"\"}}, \"type\": \"scatterternary\"}], \"surface\": [{\"colorbar\": {\"outlinewidth\": 0, \"ticks\": \"\"}, \"colorscale\": [[0.0, \"#0d0887\"], [0.1111111111111111, \"#46039f\"], [0.2222222222222222, \"#7201a8\"], [0.3333333333333333, \"#9c179e\"], [0.4444444444444444, \"#bd3786\"], [0.5555555555555556, \"#d8576b\"], [0.6666666666666666, \"#ed7953\"], [0.7777777777777778, \"#fb9f3a\"], [0.8888888888888888, \"#fdca26\"], [1.0, \"#f0f921\"]], \"type\": \"surface\"}], \"table\": [{\"cells\": {\"fill\": {\"color\": \"#EBF0F8\"}, \"line\": {\"color\": \"white\"}}, \"header\": {\"fill\": {\"color\": \"#C8D4E3\"}, \"line\": {\"color\": \"white\"}}, \"type\": \"table\"}]}, \"layout\": {\"annotationdefaults\": {\"arrowcolor\": \"#2a3f5f\", \"arrowhead\": 0, \"arrowwidth\": 1}, \"coloraxis\": {\"colorbar\": {\"outlinewidth\": 0, \"ticks\": \"\"}}, \"colorscale\": {\"diverging\": [[0, \"#8e0152\"], [0.1, \"#c51b7d\"], [0.2, \"#de77ae\"], [0.3, \"#f1b6da\"], [0.4, \"#fde0ef\"], [0.5, \"#f7f7f7\"], [0.6, \"#e6f5d0\"], [0.7, \"#b8e186\"], [0.8, \"#7fbc41\"], [0.9, \"#4d9221\"], [1, \"#276419\"]], \"sequential\": [[0.0, \"#0d0887\"], [0.1111111111111111, \"#46039f\"], [0.2222222222222222, \"#7201a8\"], [0.3333333333333333, \"#9c179e\"], [0.4444444444444444, \"#bd3786\"], [0.5555555555555556, \"#d8576b\"], [0.6666666666666666, \"#ed7953\"], [0.7777777777777778, \"#fb9f3a\"], [0.8888888888888888, \"#fdca26\"], [1.0, \"#f0f921\"]], \"sequentialminus\": [[0.0, \"#0d0887\"], [0.1111111111111111, \"#46039f\"], [0.2222222222222222, \"#7201a8\"], [0.3333333333333333, \"#9c179e\"], [0.4444444444444444, \"#bd3786\"], [0.5555555555555556, \"#d8576b\"], [0.6666666666666666, \"#ed7953\"], [0.7777777777777778, \"#fb9f3a\"], [0.8888888888888888, \"#fdca26\"], [1.0, \"#f0f921\"]]}, \"colorway\": [\"#636efa\", \"#EF553B\", \"#00cc96\", \"#ab63fa\", \"#FFA15A\", \"#19d3f3\", \"#FF6692\", \"#B6E880\", \"#FF97FF\", \"#FECB52\"], \"font\": {\"color\": \"#2a3f5f\"}, \"geo\": {\"bgcolor\": \"white\", \"lakecolor\": \"white\", \"landcolor\": \"#E5ECF6\", \"showlakes\": true, \"showland\": true, \"subunitcolor\": \"white\"}, \"hoverlabel\": {\"align\": \"left\"}, \"hovermode\": \"closest\", \"mapbox\": {\"style\": \"light\"}, \"paper_bgcolor\": \"white\", \"plot_bgcolor\": \"#E5ECF6\", \"polar\": {\"angularaxis\": {\"gridcolor\": \"white\", \"linecolor\": \"white\", \"ticks\": \"\"}, \"bgcolor\": \"#E5ECF6\", \"radialaxis\": {\"gridcolor\": \"white\", \"linecolor\": \"white\", \"ticks\": \"\"}}, \"scene\": {\"xaxis\": {\"backgroundcolor\": \"#E5ECF6\", \"gridcolor\": \"white\", \"gridwidth\": 2, \"linecolor\": \"white\", \"showbackground\": true, \"ticks\": \"\", \"zerolinecolor\": \"white\"}, \"yaxis\": {\"backgroundcolor\": \"#E5ECF6\", \"gridcolor\": \"white\", \"gridwidth\": 2, \"linecolor\": \"white\", \"showbackground\": true, \"ticks\": \"\", \"zerolinecolor\": \"white\"}, \"zaxis\": {\"backgroundcolor\": \"#E5ECF6\", \"gridcolor\": \"white\", \"gridwidth\": 2, \"linecolor\": \"white\", \"showbackground\": true, \"ticks\": \"\", \"zerolinecolor\": \"white\"}}, \"shapedefaults\": {\"line\": {\"color\": \"#2a3f5f\"}}, \"ternary\": {\"aaxis\": {\"gridcolor\": \"white\", \"linecolor\": \"white\", \"ticks\": \"\"}, \"baxis\": {\"gridcolor\": \"white\", \"linecolor\": \"white\", \"ticks\": \"\"}, \"bgcolor\": \"#E5ECF6\", \"caxis\": {\"gridcolor\": \"white\", \"linecolor\": \"white\", \"ticks\": \"\"}}, \"title\": {\"x\": 0.05}, \"xaxis\": {\"automargin\": true, \"gridcolor\": \"white\", \"linecolor\": \"white\", \"ticks\": \"\", \"title\": {\"standoff\": 15}, \"zerolinecolor\": \"white\", \"zerolinewidth\": 2}, \"yaxis\": {\"automargin\": true, \"gridcolor\": \"white\", \"linecolor\": \"white\", \"ticks\": \"\", \"title\": {\"standoff\": 15}, \"zerolinecolor\": \"white\", \"zerolinewidth\": 2}}}, \"title\": {\"text\": \"Total_visit Plots\", \"x\": 0.5}, \"width\": 800, \"xaxis\": {\"anchor\": \"y\", \"domain\": [0.0, 1.0]}, \"xaxis2\": {\"anchor\": \"y2\", \"domain\": [0.0, 1.0]}, \"xaxis3\": {\"anchor\": \"y3\", \"domain\": [0.0, 1.0], \"title\": {\"text\": \"Total_visit\"}}, \"yaxis\": {\"anchor\": \"x\", \"domain\": [0.7066666666666667, 1.0], \"title\": {\"text\": \"Total Visitors\"}}, \"yaxis2\": {\"anchor\": \"x2\", \"domain\": [0.35333333333333333, 0.6466666666666667], \"title\": {\"text\": \"Non-zero Revenue Visitors\"}}, \"yaxis3\": {\"anchor\": \"x3\", \"domain\": [0.0, 0.29333333333333333], \"title\": {\"text\": \"Mean Revenue\"}}},\n",
              "                        {\"responsive\": true}\n",
              "                    ).then(function(){\n",
              "                            \n",
              "var gd = document.getElementById('19311a02-9e81-4691-ad8a-f6deb1b37460');\n",
              "var x = new MutationObserver(function (mutations, observer) {{\n",
              "        var display = window.getComputedStyle(gd).display;\n",
              "        if (!display || display === 'none') {{\n",
              "            console.log([gd, 'removed!']);\n",
              "            Plotly.purge(gd);\n",
              "            observer.disconnect();\n",
              "        }}\n",
              "}});\n",
              "\n",
              "// Listen for the removal of the full notebook cells\n",
              "var notebookContainer = gd.closest('#notebook-container');\n",
              "if (notebookContainer) {{\n",
              "    x.observe(notebookContainer, {childList: true});\n",
              "}}\n",
              "\n",
              "// Listen for the clearing of the current output cell\n",
              "var outputEl = gd.closest('.output');\n",
              "if (outputEl) {{\n",
              "    x.observe(outputEl, {childList: true});\n",
              "}}\n",
              "\n",
              "                        })\n",
              "                };\n",
              "                \n",
              "            </script>\n",
              "        </div>\n",
              "</body>\n",
              "</html>"
            ]
          },
          "metadata": {
            "tags": []
          }
        }
      ]
    },
    {
      "cell_type": "markdown",
      "metadata": {
        "id": "F1PcSKqFVR4K"
      },
      "source": [
        "Findings:\n",
        "\n",
        "\n",
        "1.   Total_visit was predictive of mean revenue: mean revenue tended to increase when total_visit increased. However, total_visit was sparse above 50.\n",
        "2.   Nearly all visitors had 1 total_visit, and number of visitors decreased when total_visit increased.\n",
        "3.   Most visitors with non-zero revenue also had 1 total_visit, but they also generated lower mean revenue than visitors with more total_visit.<br><br>\n"
      ]
    },
    {
      "cell_type": "markdown",
      "metadata": {
        "id": "-smucBd201sI"
      },
      "source": [
        "## Conclusion:\n",
        "\n",
        "\n",
        "\n",
        "So far the features that seem most predictive are session-related features (hits, pageviews), and the two aggregated features (datediff and total_visit). For the model building I would focus more on these features.<br><br>\n",
        "\n"
      ]
    }
  ]
}